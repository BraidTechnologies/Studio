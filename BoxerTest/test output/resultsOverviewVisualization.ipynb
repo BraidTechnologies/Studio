{
 "cells": [
  {
   "cell_type": "code",
   "execution_count": 1,
   "metadata": {},
   "outputs": [],
   "source": [
    "# Copyright (c) 2024 Braid Technologies Ltd"
   ]
  },
  {
   "cell_type": "markdown",
   "metadata": {},
   "source": [
    "## Imports "
   ]
  },
  {
   "cell_type": "code",
   "execution_count": 2,
   "metadata": {},
   "outputs": [],
   "source": [
    "import os\n",
    "import pandas as pd\n",
    "import plotly.express as px\n",
    "import plotly.graph_objects as go"
   ]
  },
  {
   "cell_type": "markdown",
   "metadata": {},
   "source": [
    "## Loading Data"
   ]
  },
  {
   "cell_type": "code",
   "execution_count": 3,
   "metadata": {},
   "outputs": [
    {
     "name": "stdout",
     "output_type": "stream",
     "text": [
      "Loaded Test Results 2024052802_Baseline.xlsx into variable: Test_Results_2024052802_Baseline\n",
      "Columns in Test_Results_2024052802_Baseline:\n",
      "Index(['Column1.question', 'Column1.hit', 'Column1.summary',\n",
      "       'Column1.hitRelevance', 'Column1.followUp', 'Column1.followUpOnTopic'],\n",
      "      dtype='object')\n",
      "\n",
      "\n",
      "Loaded Test Results Baseline - sameEmbeddingsAsV1.xlsx into variable: Test_Results_Baseline___sameEmbeddingsAsV1\n",
      "Columns in Test_Results_Baseline___sameEmbeddingsAsV1:\n",
      "Index(['Column1.question', 'Column1.enriched_question', 'Column1.hit',\n",
      "       'Column1.summary', 'Column1.hitRelevance', 'Column1.followUp',\n",
      "       'Column1.followUpOnTopic'],\n",
      "      dtype='object')\n",
      "\n",
      "\n",
      "Loaded test_output_v1_2024-08-28_14-25-47.xlsx into variable: test_output_v1_2024_08_28_14_25_47\n",
      "Columns in test_output_v1_2024_08_28_14_25_47:\n",
      "Index(['Column1.question', 'Column1.enriched_question', 'Column1.hit',\n",
      "       'Column1.summary', 'Column1.hitRelevance'],\n",
      "      dtype='object')\n",
      "\n",
      "\n",
      "Loaded test_output_v2_businessanalyst_2024-09-03_12-17-34.xlsx into variable: test_output_v2_businessanalyst_2024_09_03_12_17_34\n",
      "Columns in test_output_v2_businessanalyst_2024_09_03_12_17_34:\n",
      "Index(['Column1.question', 'Column1.enriched_question', 'Column1.hit',\n",
      "       'Column1.summary', 'Column1.hitRelevance'],\n",
      "      dtype='object')\n",
      "\n",
      "\n",
      "Loaded test_output_v2_developer_2024-09-03_12-10-22.xlsx into variable: test_output_v2_developer_2024_09_03_12_10_22\n",
      "Columns in test_output_v2_developer_2024_09_03_12_10_22:\n",
      "Index(['Column1.question', 'Column1.enriched_question', 'Column1.hit',\n",
      "       'Column1.summary', 'Column1.hitRelevance'],\n",
      "      dtype='object')\n",
      "\n",
      "\n",
      "Loaded test_output_v2_developer_2024-09-05_11-11-44.xlsx into variable: test_output_v2_developer_2024_09_05_11_11_44\n",
      "Columns in test_output_v2_developer_2024_09_05_11_11_44:\n",
      "Index(['Column1.question', 'Column1.enriched_question', 'Column1.hit',\n",
      "       'Column1.summary', 'Column1.hitRelevance'],\n",
      "      dtype='object')\n",
      "\n",
      "\n",
      "Loaded test_output_v2_nonetype_2024-09-03_12-03-59.xlsx into variable: test_output_v2_nonetype_2024_09_03_12_03_59\n",
      "Columns in test_output_v2_nonetype_2024_09_03_12_03_59:\n",
      "Index(['Column1.question', 'Column1.enriched_question', 'Column1.hit',\n",
      "       'Column1.summary', 'Column1.hitRelevance'],\n",
      "      dtype='object')\n",
      "\n",
      "\n",
      "Loaded test_output_v2_nonetype_2024-09-05_10-56-27.xlsx into variable: test_output_v2_nonetype_2024_09_05_10_56_27\n",
      "Columns in test_output_v2_nonetype_2024_09_05_10_56_27:\n",
      "Index(['Column1.question', 'Column1.enriched_question', 'Column1.hit',\n",
      "       'Column1.summary', 'Column1.hitRelevance'],\n",
      "      dtype='object')\n",
      "\n",
      "\n",
      "Loaded test_output_v2_tester_2024-09-03_12-13-59.xlsx into variable: test_output_v2_tester_2024_09_03_12_13_59\n",
      "Columns in test_output_v2_tester_2024_09_03_12_13_59:\n",
      "Index(['Column1.question', 'Column1.enriched_question', 'Column1.hit',\n",
      "       'Column1.summary', 'Column1.hitRelevance'],\n",
      "      dtype='object')\n",
      "\n",
      "\n",
      "Loaded test_output_v2_tester_2024-09-05_11-36-37.xlsx into variable: test_output_v2_tester_2024_09_05_11_36_37\n",
      "Columns in test_output_v2_tester_2024_09_05_11_36_37:\n",
      "Index(['Column1.question', 'Column1.enriched_question', 'Column1.hit',\n",
      "       'Column1.summary', 'Column1.hitRelevance'],\n",
      "      dtype='object')\n",
      "\n",
      "\n",
      "Loaded test_output_v3_businessanalyst_2024-09-17_03-35-43.xlsx into variable: test_output_v3_businessanalyst_2024_09_17_03_35_43\n",
      "Columns in test_output_v3_businessanalyst_2024_09_17_03_35_43:\n",
      "Index(['Column1.question', 'Column1.enriched_question', 'Column1.hit',\n",
      "       'Column1.summary', 'Column1.hitRelevance', 'Column1.follow_up',\n",
      "       'Column1.follow_up_on_topic'],\n",
      "      dtype='object')\n",
      "\n",
      "\n",
      "Loaded test_output_v3_developer_2024-0.xlsx into variable: test_output_v3_developer_2024_0\n",
      "Columns in test_output_v3_developer_2024_0:\n",
      "Index(['Column1', 'Column1.enriched_question', 'Column1.hit',\n",
      "       'Column1.summary', 'Column1.hitRelevance', 'Column1.follow_up',\n",
      "       'Column1.follow_up_on_topic'],\n",
      "      dtype='object')\n",
      "\n",
      "\n",
      "Loaded test_output_v3_nonetype_2024-09.xlsx into variable: test_output_v3_nonetype_2024_09\n",
      "Columns in test_output_v3_nonetype_2024_09:\n",
      "Index(['Column1.question', 'Column1.enriched_question', 'Column1.hit',\n",
      "       'Column1.summary', 'Column1.hitRelevance', 'Column1.follow_up',\n",
      "       'Column1.follow_up_on_topic'],\n",
      "      dtype='object')\n",
      "\n",
      "\n",
      "Loaded test_output_v3_tester_2024-09-17_03-21-25.xlsx into variable: test_output_v3_tester_2024_09_17_03_21_25\n",
      "Columns in test_output_v3_tester_2024_09_17_03_21_25:\n",
      "Index(['Column1.question', 'Column1.enriched_question', 'Column1.hit',\n",
      "       'Column1.summary', 'Column1.hitRelevance', 'Column1.follow_up',\n",
      "       'Column1.follow_up_on_topic'],\n",
      "      dtype='object')\n",
      "\n",
      "\n",
      "Loaded test_output_v4_businessanalyst_2024-09-29_01-42-36.xlsx into variable: test_output_v4_businessanalyst_2024_09_29_01_42_36\n",
      "Columns in test_output_v4_businessanalyst_2024_09_29_01_42_36:\n",
      "Index(['Column1.question', 'Column1.enriched_question', 'Column1.hit',\n",
      "       'Column1.summary', 'Column1.hitRelevance', 'Column1.follow_up',\n",
      "       'Column1.follow_up_on_topic', 'Column1.gemini_evaluation'],\n",
      "      dtype='object')\n",
      "\n",
      "\n",
      "Loaded test_output_v4_developer_2024-09-28_21-45-10.xlsx into variable: test_output_v4_developer_2024_09_28_21_45_10\n",
      "Columns in test_output_v4_developer_2024_09_28_21_45_10:\n",
      "Index(['Column1.question', 'Column1.enriched_question', 'Column1.hit',\n",
      "       'Column1.summary', 'Column1.hitRelevance', 'Column1.follow_up',\n",
      "       'Column1.follow_up_on_topic', 'Column1.gemini_evaluation'],\n",
      "      dtype='object')\n",
      "\n",
      "\n",
      "Loaded test_output_v4_nonetype_2024-09-28_21-30-03.xlsx into variable: test_output_v4_nonetype_2024_09_28_21_30_03\n",
      "Columns in test_output_v4_nonetype_2024_09_28_21_30_03:\n",
      "Index(['Column1.question', 'Column1.enriched_question', 'Column1.hit',\n",
      "       'Column1.summary', 'Column1.hitRelevance', 'Column1.follow_up',\n",
      "       'Column1.follow_up_on_topic', 'Column1.gemini_evaluation'],\n",
      "      dtype='object')\n",
      "\n",
      "\n",
      "Loaded test_output_v4_tester_2024-09-29_00-32-01.xlsx into variable: test_output_v4_tester_2024_09_29_00_32_01\n",
      "Columns in test_output_v4_tester_2024_09_29_00_32_01:\n",
      "Index(['Column1.question', 'Column1.enriched_question', 'Column1.hit',\n",
      "       'Column1.summary', 'Column1.hitRelevance', 'Column1.follow_up',\n",
      "       'Column1.follow_up_on_topic', 'Column1.gemini_evaluation'],\n",
      "      dtype='object')\n",
      "\n",
      "\n",
      "Loaded test_output_v5_businessanalyst_2024-10-07_17-55-42.xlsx into variable: test_output_v5_businessanalyst_2024_10_07_17_55_42\n",
      "Columns in test_output_v5_businessanalyst_2024_10_07_17_55_42:\n",
      "Index(['Column1.question', 'Column1.enriched_question', 'Column1.hit',\n",
      "       'Column1.summary', 'Column1.hitRelevance', 'Column1.follow_up',\n",
      "       'Column1.follow_up_on_topic', 'Column1.gemini_evaluation'],\n",
      "      dtype='object')\n",
      "\n",
      "\n",
      "Loaded test_output_v5_developer_2024-10-07_17-25-23.xlsx into variable: test_output_v5_developer_2024_10_07_17_25_23\n",
      "Columns in test_output_v5_developer_2024_10_07_17_25_23:\n",
      "Index(['Column1.question', 'Column1.enriched_question', 'Column1.hit',\n",
      "       'Column1.summary', 'Column1.hitRelevance', 'Column1.follow_up',\n",
      "       'Column1.follow_up_on_topic', 'Column1.gemini_evaluation'],\n",
      "      dtype='object')\n",
      "\n",
      "\n",
      "Loaded test_output_v5_nonetype_2024-10-07_18-04-26.xlsx into variable: test_output_v5_nonetype_2024_10_07_18_04_26\n",
      "Columns in test_output_v5_nonetype_2024_10_07_18_04_26:\n",
      "Index(['Column1', 'Column1.enriched_question', 'Column1.hit',\n",
      "       'Column1.summary', 'Column1.hitRelevance', 'Column1.follow_up',\n",
      "       'Column1.follow_up_on_topic', 'Column1.gemini_evaluation'],\n",
      "      dtype='object')\n",
      "\n",
      "\n",
      "Loaded test_output_v5_tester_2024-10-07_17-35-56.xlsx into variable: test_output_v5_tester_2024_10_07_17_35_56\n",
      "Columns in test_output_v5_tester_2024_10_07_17_35_56:\n",
      "Index(['Column1.question', 'Column1.enriched_question', 'Column1.hit',\n",
      "       'Column1.summary', 'Column1.hitRelevance', 'Column1.follow_up',\n",
      "       'Column1.follow_up_on_topic', 'Column1.gemini_evaluation'],\n",
      "      dtype='object')\n",
      "\n",
      "\n"
     ]
    }
   ],
   "source": [
    "# Define the directory containing the files\n",
    "directory = \"D:/Braid Technologies/BraidTechnologiesRepo/WorkedExamples/BoxerTest/test output\"\n",
    "\n",
    "# List all files in the directory\n",
    "files = os.listdir(directory)\n",
    "\n",
    "# Filter to get only the Excel files (.xlsx)\n",
    "excel_files = [file for file in files if file.endswith('.xlsx')]\n",
    "\n",
    "# Function to convert filename into a valid variable name\n",
    "def create_variable_name(filename):\n",
    "    variable_name = filename.replace('.xlsx', '').replace(' ', '_').replace('-', '_').replace('.', '_')\n",
    "    return variable_name\n",
    "\n",
    "# Read each Excel file and assign it to a dynamically named variable\n",
    "for excel_file in excel_files:\n",
    "    file_path = os.path.join(directory, excel_file)\n",
    "    df = pd.read_excel(file_path)\n",
    "    \n",
    "    # Generate a valid variable name\n",
    "    variable_name = create_variable_name(excel_file)\n",
    "    \n",
    "    # Use globals() to dynamically assign the DataFrame to the variable name\n",
    "    globals()[variable_name] = df\n",
    "    print(f\"Loaded {excel_file} into variable: {variable_name}\")\n",
    "    \n",
    "    # Print the columns of each dataframe for inspection\n",
    "    print(f\"Columns in {variable_name}:\")\n",
    "    print(df.columns)\n",
    "    print(\"\\n\")"
   ]
  },
  {
   "cell_type": "markdown",
   "metadata": {},
   "source": [
    "## Visualizations Set 1: Box Plots "
   ]
  },
  {
   "cell_type": "code",
   "execution_count": 4,
   "metadata": {},
   "outputs": [],
   "source": [
    "# Define thresholds as variables for flexibility\n",
    "threshold_baseline_to_v4 = 0.8\n",
    "threshold_v5 = 0.6"
   ]
  },
  {
   "cell_type": "markdown",
   "metadata": {},
   "source": [
    "#### Box Plot: Static Persona all versions "
   ]
  },
  {
   "cell_type": "code",
   "execution_count": 5,
   "metadata": {},
   "outputs": [
    {
     "data": {
      "application/vnd.plotly.v1+json": {
       "config": {
        "plotlyServerURL": "https://plot.ly"
       },
       "data": [
        {
         "alignmentgroup": "True",
         "boxmean": true,
         "boxpoints": "all",
         "hovertemplate": "<b>Version</b>: %{x}<br><b>Hit Relevance</b>: %{y}<br><b>Hit Binary</b>: %{customdata}",
         "jitter": 0.2,
         "legendgroup": "baseline",
         "marker": {
          "color": "rgb(102,194,165)",
          "opacity": 0.8,
          "size": 6
         },
         "name": "baseline",
         "notched": false,
         "offsetgroup": "baseline",
         "orientation": "v",
         "pointpos": -1.5,
         "showlegend": true,
         "type": "box",
         "width": 0.4,
         "x": [
          "baseline",
          "baseline",
          "baseline",
          "baseline",
          "baseline",
          "baseline",
          "baseline",
          "baseline",
          "baseline",
          "baseline",
          "baseline",
          "baseline",
          "baseline",
          "baseline",
          "baseline",
          "baseline",
          "baseline",
          "baseline",
          "baseline",
          "baseline",
          "baseline",
          "baseline",
          "baseline",
          "baseline",
          "baseline",
          "baseline",
          "baseline",
          "baseline",
          "baseline",
          "baseline",
          "baseline",
          "baseline",
          "baseline",
          "baseline",
          "baseline",
          "baseline",
          "baseline",
          "baseline",
          "baseline",
          "baseline",
          "baseline",
          "baseline",
          "baseline",
          "baseline",
          "baseline",
          "baseline",
          "baseline",
          "baseline",
          "baseline",
          "baseline",
          "baseline",
          "baseline",
          "baseline",
          "baseline",
          "baseline",
          "baseline",
          "baseline",
          "baseline",
          "baseline",
          "baseline",
          "baseline",
          "baseline",
          "baseline",
          "baseline",
          "baseline",
          "baseline",
          "baseline",
          "baseline",
          "baseline",
          "baseline",
          "baseline",
          "baseline",
          "baseline",
          "baseline",
          "baseline",
          "baseline",
          "baseline",
          "baseline",
          "baseline",
          "baseline",
          "baseline",
          "baseline",
          "baseline",
          "baseline",
          "baseline",
          "baseline",
          "baseline",
          "baseline",
          "baseline",
          "baseline",
          "baseline",
          "baseline",
          "baseline",
          "baseline",
          "baseline",
          "baseline",
          "baseline",
          "baseline",
          "baseline"
         ],
         "x0": " ",
         "xaxis": "x",
         "y": [
          0.8784441145756917,
          0.8774876933819626,
          0.8746684526475066,
          0.8746424643210794,
          0.8672439394801955,
          0.8603153999309818,
          0.855133577099862,
          0.854684365530313,
          0.8545490013947185,
          0.8536750205786069,
          0.8501388581189828,
          0.8499660383782022,
          0.8470403662206168,
          0.8463422141715554,
          0.8454658353831477,
          0.8453736197417216,
          0.8451186188958659,
          0.8450729794568982,
          0.843996474043092,
          0.8417384332596856,
          0.8399934314279974,
          0.8382348105204843,
          0.8373992935457025,
          0.8361225308669625,
          0.8351752441648143,
          0.8343694018089332,
          0.8321899352349762,
          0.832155049588577,
          0.830248828676792,
          0.8295025892387569,
          0.8289186592390524,
          0.8288114265837756,
          0.8284027920639331,
          0.8273072353527722,
          0.8271236092473713,
          0.826975894551871,
          0.8265560599870281,
          0.825320371453267,
          0.8248481659124333,
          0.824346976359626,
          0.8229000166277352,
          0.8206292698708735,
          0.8198691672518295,
          0.8195897019982514,
          0.8194865396947004,
          0.8188920393542686,
          0.8167959019266425,
          0.8164857256712671,
          0.8159706347347968,
          0.8159293705435575,
          0.8157958553839585,
          0.8154986121078773,
          0.814084258399054,
          0.8117359799225621,
          0.8115161548623933,
          0.8111692492276386,
          0.8108709355131023,
          0.810498399917788,
          0.8101889348326631,
          0.8099605332098587,
          0.8092608604270364,
          0.8079074337556884,
          0.8078390308025816,
          0.8078210638903874,
          0.8077010144788173,
          0.8076098567585128,
          0.807204013767107,
          0.8067548407994568,
          0.8061181657940557,
          0.8060373413831154,
          0.8059647466331435,
          0.8049369563243841,
          0.8036939307668896,
          0.8025805035692839,
          0.8022600750793488,
          0.8012921522278786,
          0.8005338717485814,
          0.7993632539029342,
          0.7977609335991143,
          0.7977478616824621,
          0.7970567781996246,
          0.7960420128627206,
          0.7959482970504347,
          0.7948834305972643,
          0.794524347185814,
          0.7939856708447534,
          0.7937062140910492,
          0.7932719784138285,
          0.7918442800322498,
          0.7901422444482195,
          0.7889456502312663,
          0.7883422641059364,
          0.7872176322886016,
          0.7869777101688635,
          0.7856166825021259,
          0.7854434461911843,
          0.7812875857150219,
          0.7810471085440618,
          0.7763484036629806
         ],
         "y0": " ",
         "yaxis": "y"
        },
        {
         "alignmentgroup": "True",
         "boxmean": true,
         "boxpoints": "all",
         "hovertemplate": "<b>Version</b>: %{x}<br><b>Hit Relevance</b>: %{y}<br><b>Hit Binary</b>: %{customdata}",
         "jitter": 0.2,
         "legendgroup": "v1",
         "marker": {
          "color": "rgb(252,141,98)",
          "opacity": 0.8,
          "size": 6
         },
         "name": "v1",
         "notched": false,
         "offsetgroup": "v1",
         "orientation": "v",
         "pointpos": -1.5,
         "showlegend": true,
         "type": "box",
         "width": 0.4,
         "x": [
          "v1",
          "v1",
          "v1",
          "v1",
          "v1",
          "v1",
          "v1",
          "v1",
          "v1",
          "v1",
          "v1",
          "v1",
          "v1",
          "v1",
          "v1",
          "v1",
          "v1",
          "v1",
          "v1",
          "v1",
          "v1",
          "v1",
          "v1",
          "v1",
          "v1",
          "v1",
          "v1",
          "v1",
          "v1",
          "v1",
          "v1",
          "v1",
          "v1",
          "v1",
          "v1",
          "v1",
          "v1",
          "v1",
          "v1",
          "v1",
          "v1",
          "v1",
          "v1",
          "v1",
          "v1",
          "v1",
          "v1",
          "v1",
          "v1",
          "v1",
          "v1",
          "v1",
          "v1",
          "v1",
          "v1",
          "v1",
          "v1",
          "v1",
          "v1",
          "v1",
          "v1",
          "v1",
          "v1",
          "v1",
          "v1",
          "v1",
          "v1",
          "v1",
          "v1",
          "v1",
          "v1",
          "v1",
          "v1",
          "v1",
          "v1",
          "v1",
          "v1",
          "v1",
          "v1",
          "v1",
          "v1",
          "v1",
          "v1",
          "v1",
          "v1",
          "v1",
          "v1",
          "v1",
          "v1",
          "v1",
          "v1",
          "v1",
          "v1",
          "v1",
          "v1",
          "v1",
          "v1",
          "v1",
          "v1"
         ],
         "x0": " ",
         "xaxis": "x",
         "y": [
          0.924393906743026,
          0.9196197307846814,
          0.8825453470648145,
          0.9419836152751369,
          0.8975484931393578,
          0.9006644801836481,
          0.8977080433152496,
          0.8768427687461189,
          0.866785073743707,
          0.8800914343652871,
          0.889463879803277,
          0.8774046754452423,
          0.8853839932582857,
          0.8611237869950039,
          0.9025014929395084,
          0.8721533465732854,
          0.8893276465553455,
          0.9474367915470402,
          0.9196082914928412,
          0.9104634578659536,
          0.8813608196512471,
          0.8832289825869751,
          0.8943909102965277,
          0.8733851781088875,
          0.878329959424582,
          0.878437707412324,
          0.9036892070514992,
          0.8906516541140975,
          0.8809789373092691,
          0.7869028287789468,
          0.9122188833033122,
          0.8758124028340517,
          0.8995820133429755,
          0.8925493497314996,
          0.9076956487276172,
          0.8930047486215221,
          0.8798066217189165,
          0.8752383447498052,
          0.7869028287789468,
          0.9221819567817656,
          0.900731387387977,
          0.9049989099877668,
          0.901678749344388,
          0.8787264646280729,
          0.8688002811140939,
          0.8709995106036429,
          0.8844732560868644,
          0.9086761349035344,
          0.8970097815672291,
          0.878465725171397,
          0.8083703954979202,
          0.9083431734259648,
          0.8973444266406977,
          0.9034778476492,
          0.866285395122804,
          0.8878699520674281,
          0.8563737388393757,
          0.8823015340438092,
          0.88465944513763,
          0.7869028287789468,
          0.8854094789645809,
          0.8793141728608034,
          0.9005005328022911,
          0.8974425891351023,
          0.890067281771038,
          0.8658099442602168,
          0.8496761951073898,
          0.7869028287789468,
          0.8865766117548506,
          0.8832139456700308,
          0.8293944736856675,
          0.9003748819551849,
          0.8549134928018522,
          0.8790993214401471,
          0.8886748362035549,
          0.850524606511569,
          0.8995291091543325,
          0.8930652736969807,
          0.8730485074069402,
          0.870791079873467,
          0.7869028287789468,
          0.9088065613543568,
          0.8837147902049028,
          0.8797394457853547,
          0.8782849114748466,
          0.8793997210638661,
          0.8577444746083728,
          0.881085912634266,
          0.8352460647346155,
          0.8951948088957126,
          0.8696743779067561,
          0.8661900150435694,
          0.8725327171504833,
          0.8153449800176882,
          0.8554040653098364,
          0.8562968713770878,
          0.8490709056683587,
          0.8652669929819938,
          0.8083703954979202
         ],
         "y0": " ",
         "yaxis": "y"
        },
        {
         "alignmentgroup": "True",
         "boxmean": true,
         "boxpoints": "all",
         "hovertemplate": "<b>Version</b>: %{x}<br><b>Hit Relevance</b>: %{y}<br><b>Hit Binary</b>: %{customdata}",
         "jitter": 0.2,
         "legendgroup": "v2",
         "marker": {
          "color": "rgb(141,160,203)",
          "opacity": 0.8,
          "size": 6
         },
         "name": "v2",
         "notched": false,
         "offsetgroup": "v2",
         "orientation": "v",
         "pointpos": -1.5,
         "showlegend": true,
         "type": "box",
         "width": 0.4,
         "x": [
          "v2",
          "v2",
          "v2",
          "v2",
          "v2",
          "v2",
          "v2",
          "v2",
          "v2",
          "v2",
          "v2",
          "v2",
          "v2",
          "v2",
          "v2",
          "v2",
          "v2",
          "v2",
          "v2",
          "v2",
          "v2",
          "v2",
          "v2",
          "v2",
          "v2",
          "v2",
          "v2",
          "v2",
          "v2",
          "v2",
          "v2",
          "v2",
          "v2",
          "v2",
          "v2",
          "v2",
          "v2",
          "v2",
          "v2",
          "v2",
          "v2",
          "v2",
          "v2",
          "v2",
          "v2",
          "v2",
          "v2",
          "v2",
          "v2",
          "v2",
          "v2",
          "v2",
          "v2",
          "v2",
          "v2",
          "v2",
          "v2",
          "v2",
          "v2",
          "v2",
          "v2",
          "v2",
          "v2",
          "v2",
          "v2",
          "v2",
          "v2",
          "v2",
          "v2",
          "v2",
          "v2",
          "v2",
          "v2",
          "v2",
          "v2",
          "v2",
          "v2",
          "v2",
          "v2",
          "v2",
          "v2",
          "v2",
          "v2",
          "v2",
          "v2",
          "v2",
          "v2",
          "v2",
          "v2",
          "v2",
          "v2",
          "v2",
          "v2",
          "v2",
          "v2",
          "v2",
          "v2",
          "v2",
          "v2"
         ],
         "x0": " ",
         "xaxis": "x",
         "y": [
          0.9243939067430264,
          0.9196197307846814,
          0.8825453470648145,
          0.9419836152751369,
          0.8975484931393578,
          0.9006644801836481,
          0.9001721544418274,
          0.8768427687461189,
          0.866785073743707,
          0.8800914343652871,
          0.889463879803277,
          0.8774046754452423,
          0.8853839932582857,
          0.8611237869950039,
          0.9025014929395084,
          0.8721533465732854,
          0.8893276465553455,
          0.9474367915470402,
          0.9196082914928412,
          0.9104634578659536,
          0.8813608196512471,
          0.8832289825869751,
          0.8943909102965277,
          0.8737754648414694,
          0.878329959424582,
          0.878437707412324,
          0.9036892070514992,
          0.8906516541140975,
          0.8809789373092691,
          0.7869028287789468,
          0.9122188833033122,
          0.8758124028340517,
          0.8995820133429755,
          0.8925493497314996,
          0.907489681483558,
          0.8930047486215221,
          0.8798066217189165,
          0.8752383447498052,
          0.7869028287789468,
          0.9221819567817656,
          0.900731387387977,
          0.9049989099877668,
          0.901678749344388,
          0.8787264646280729,
          0.8688002811140939,
          0.8709995106036429,
          0.8958046893978626,
          0.9086761349035344,
          0.8970097815672291,
          0.8862818711565011,
          0.8083703954979202,
          0.9083431734259648,
          0.8973444266406977,
          0.9034778476492,
          0.8623330133476658,
          0.8878699520674281,
          0.8563737388393757,
          0.8832868391747636,
          0.88465944513763,
          0.7869028287789468,
          0.8854094789645809,
          0.8793141728608034,
          0.9005005328022911,
          0.8974425891351023,
          0.890067281771038,
          0.8658099442602168,
          0.8496761951073898,
          0.7869028287789468,
          0.8865766117548506,
          0.8728400750173998,
          0.8293944736856675,
          0.9003748819551849,
          0.8549134928018522,
          0.8889713645737101,
          0.8886748362035549,
          0.850524606511569,
          0.8995291091543325,
          0.8930652736969807,
          0.8730485074069402,
          0.870791079873467,
          0.7869028287789468,
          0.9088065613543568,
          0.8837147902049028,
          0.8797394457853547,
          0.8782849114748466,
          0.8793997210638661,
          0.8577444746083728,
          0.881085912634266,
          0.8352460647346155,
          0.8951948088957126,
          0.8702655201361587,
          0.8661900150435694,
          0.8725327171504833,
          0.8153449800176882,
          0.8554040653098364,
          0.8562968713770878,
          0.8490709056683587,
          0.8652669929819938,
          0.8083703954979202
         ],
         "y0": " ",
         "yaxis": "y"
        },
        {
         "alignmentgroup": "True",
         "boxmean": true,
         "boxpoints": "all",
         "hovertemplate": "<b>Version</b>: %{x}<br><b>Hit Relevance</b>: %{y}<br><b>Hit Binary</b>: %{customdata}",
         "jitter": 0.2,
         "legendgroup": "v3",
         "marker": {
          "color": "rgb(231,138,195)",
          "opacity": 0.8,
          "size": 6
         },
         "name": "v3",
         "notched": false,
         "offsetgroup": "v3",
         "orientation": "v",
         "pointpos": -1.5,
         "showlegend": true,
         "type": "box",
         "width": 0.4,
         "x": [
          "v3",
          "v3",
          "v3",
          "v3",
          "v3",
          "v3",
          "v3",
          "v3",
          "v3",
          "v3",
          "v3",
          "v3",
          "v3",
          "v3",
          "v3",
          "v3",
          "v3",
          "v3",
          "v3",
          "v3",
          "v3",
          "v3",
          "v3",
          "v3",
          "v3",
          "v3",
          "v3",
          "v3",
          "v3",
          "v3",
          "v3",
          "v3",
          "v3",
          "v3",
          "v3",
          "v3",
          "v3",
          "v3",
          "v3",
          "v3",
          "v3",
          "v3",
          "v3",
          "v3",
          "v3",
          "v3",
          "v3",
          "v3",
          "v3",
          "v3",
          "v3",
          "v3",
          "v3",
          "v3",
          "v3",
          "v3",
          "v3",
          "v3",
          "v3",
          "v3",
          "v3",
          "v3",
          "v3",
          "v3",
          "v3",
          "v3",
          "v3",
          "v3",
          "v3",
          "v3",
          "v3",
          "v3",
          "v3",
          "v3",
          "v3",
          "v3",
          "v3",
          "v3",
          "v3",
          "v3",
          "v3",
          "v3",
          "v3",
          "v3",
          "v3",
          "v3",
          "v3",
          "v3",
          "v3",
          "v3",
          "v3",
          "v3",
          "v3",
          "v3",
          "v3",
          "v3",
          "v3",
          "v3",
          "v3"
         ],
         "x0": " ",
         "xaxis": "x",
         "y": [
          0.9102863570496312,
          0.9111326313307512,
          0.8932963934535463,
          0.916287037186294,
          0.8963182789980809,
          0.9155823461989266,
          0.8804366333634528,
          0.8531395561507806,
          0.8794404378099483,
          0.911845697918194,
          0.891650221981209,
          0.8793998958141752,
          0.8963567436737593,
          0.8758339056529525,
          0.9001711385822954,
          0.8721424218133543,
          0.9241784315679225,
          0.9503984050753228,
          0.899196083760261,
          0.8729473222805881,
          0.9097360708864052,
          0.8791826793196098,
          0.8844092461003461,
          0.906051403068038,
          0.8787108485775526,
          0.8807908793545486,
          0.9072472256126204,
          0.8935409216037367,
          0.8739062348052659,
          0.8899149172803996,
          0.9050704930175772,
          0.917986871968316,
          0.8856807915827534,
          0.8889750298816943,
          0.8815775654815671,
          0.9015841067812976,
          0.8562689185154987,
          0.8788100836539721,
          0.821834469706107,
          0.9199758819533326,
          0.8730628738661588,
          0.8989870736125395,
          0.8832383397891186,
          0.8717191916649,
          0.8689511339258135,
          0.8657558862457023,
          0.8729166660338238,
          0.8750168499195771,
          0.8644314454810835,
          0.8955164057266124,
          0.8956610462740369,
          0.869623925325292,
          0.8845357012184273,
          0.874238879585829,
          0.8455064638965984,
          0.8872603065937068,
          0.8517043158830384,
          0.868910928875287,
          0.8981308721985063,
          0.8739347691944866,
          0.8917200102786358,
          0.857369829621579,
          0.8616783695004196,
          0.8691082243801631,
          0.872347983599727,
          0.8895936907611239,
          0.8831906572622278,
          0.8241676086086914,
          0.8693780270815367,
          0.8409705472570665,
          0.8498475248739437,
          0.8738315878289198,
          0.836865422200058,
          0.8491313795871752,
          0.8814053714536882,
          0.8353251641242605,
          0.8644015906793546,
          0.8661652419170786,
          0.8703993623704002,
          0.877041231277552,
          0.854653260188563,
          0.8755974266169718,
          0.8519364476849055,
          0.8489493218611897,
          0.8376595086063615,
          0.8853442104303648,
          0.8746793364511695,
          0.8357013888344408,
          0.8313767012659128,
          0.8761802927983601,
          0.8550202599149437,
          0.8698249504976189,
          0.856345651667017,
          0.8208274981947007,
          0.847567614403881,
          0.8696593450311181,
          0.8097623915928384,
          0.8685240577638,
          0.8029446049613596
         ],
         "y0": " ",
         "yaxis": "y"
        },
        {
         "alignmentgroup": "True",
         "boxmean": true,
         "boxpoints": "all",
         "hovertemplate": "<b>Version</b>: %{x}<br><b>Hit Relevance</b>: %{y}<br><b>Hit Binary</b>: %{customdata}",
         "jitter": 0.2,
         "legendgroup": "v4",
         "marker": {
          "color": "rgb(166,216,84)",
          "opacity": 0.8,
          "size": 6
         },
         "name": "v4",
         "notched": false,
         "offsetgroup": "v4",
         "orientation": "v",
         "pointpos": -1.5,
         "showlegend": true,
         "type": "box",
         "width": 0.4,
         "x": [
          "v4",
          "v4",
          "v4",
          "v4",
          "v4",
          "v4",
          "v4",
          "v4",
          "v4",
          "v4",
          "v4",
          "v4",
          "v4",
          "v4",
          "v4",
          "v4",
          "v4",
          "v4",
          "v4",
          "v4",
          "v4",
          "v4",
          "v4",
          "v4",
          "v4",
          "v4",
          "v4",
          "v4",
          "v4",
          "v4",
          "v4",
          "v4",
          "v4",
          "v4",
          "v4",
          "v4",
          "v4",
          "v4",
          "v4",
          "v4",
          "v4",
          "v4",
          "v4",
          "v4",
          "v4",
          "v4",
          "v4",
          "v4",
          "v4",
          "v4",
          "v4",
          "v4",
          "v4",
          "v4",
          "v4",
          "v4",
          "v4",
          "v4",
          "v4",
          "v4",
          "v4",
          "v4",
          "v4",
          "v4",
          "v4",
          "v4",
          "v4",
          "v4",
          "v4",
          "v4",
          "v4",
          "v4",
          "v4",
          "v4",
          "v4",
          "v4",
          "v4",
          "v4",
          "v4",
          "v4",
          "v4",
          "v4",
          "v4",
          "v4",
          "v4",
          "v4",
          "v4",
          "v4",
          "v4",
          "v4",
          "v4",
          "v4",
          "v4",
          "v4",
          "v4",
          "v4",
          "v4",
          "v4",
          "v4"
         ],
         "x0": " ",
         "xaxis": "x",
         "y": [
          0.9097454065690208,
          0.9146952930552276,
          0.8941589155284498,
          0.916287037186294,
          0.8997835397330693,
          0.8997298548696421,
          0.8871333935790341,
          0.8573013165556782,
          0.8900350912307643,
          0.9105421821824942,
          0.8936743771219616,
          0.8748559413280973,
          0.8944453950418302,
          0.882531939367155,
          0.9050497683123672,
          0.8728668700189449,
          0.9246063188814052,
          0.9503984050753228,
          0.8919065631007775,
          0.890839257880814,
          0.9117307814851824,
          0.8791826793196098,
          0.8844092461003461,
          0.907005446339322,
          0.8730020946296939,
          0.8858990608400041,
          0.9155702794727816,
          0.8935409216037367,
          0.8806624400824667,
          0.8845030955247996,
          0.8990167445484607,
          0.9181384263037144,
          0.8856807915827534,
          0.8919791914679454,
          0.8799867775276035,
          0.906164066758436,
          0.846105972981078,
          0.8632301420589058,
          0.821834469706107,
          0.9168439843603292,
          0.8730628738661588,
          0.8961541173952502,
          0.8930383620789725,
          0.873398419894492,
          0.8680503120078186,
          0.8686086536087215,
          0.8909779895727419,
          0.8652959317079337,
          0.8644314454810835,
          0.8893894650962594,
          0.8956610462740369,
          0.869623925325292,
          0.8961282260807768,
          0.8676048856093134,
          0.8461001310998058,
          0.8872603065937068,
          0.8508780652690656,
          0.8655220585731731,
          0.8943338061561141,
          0.8678952715338496,
          0.8988973766772407,
          0.8622646466664529,
          0.8616783695004196,
          0.8774183214069123,
          0.8513876287721488,
          0.8895936907611239,
          0.8831906572622278,
          0.8210666597145564,
          0.8693780270815367,
          0.8382160214466984,
          0.8505341245916723,
          0.8751734057631104,
          0.8460107222830198,
          0.8726079394035209,
          0.8890114058330164,
          0.8299660160251069,
          0.869166415605693,
          0.8556854763683883,
          0.8763041507348912,
          0.8806153115362199,
          0.8601061732870892,
          0.8777439849842348,
          0.867812425845204,
          0.8428085509264354,
          0.8444366691045202,
          0.8831714438416778,
          0.8746793364511695,
          0.8504311665044678,
          0.8391522960946612,
          0.8482990888126966,
          0.8643824647379152,
          0.8724320843995278,
          0.8627392260254052,
          0.8198790625192233,
          0.8456025969202264,
          0.8737674294218963,
          0.8110655271040754,
          0.8600789560676712,
          0.8029446049613596
         ],
         "y0": " ",
         "yaxis": "y"
        },
        {
         "alignmentgroup": "True",
         "boxmean": true,
         "boxpoints": "all",
         "hovertemplate": "<b>Version</b>: %{x}<br><b>Hit Relevance</b>: %{y}<br><b>Hit Binary</b>: %{customdata}",
         "jitter": 0.2,
         "legendgroup": "v5",
         "marker": {
          "color": "rgb(255,217,47)",
          "opacity": 0.8,
          "size": 6
         },
         "name": "v5",
         "notched": false,
         "offsetgroup": "v5",
         "orientation": "v",
         "pointpos": -1.5,
         "showlegend": true,
         "type": "box",
         "width": 0.4,
         "x": [
          "v5",
          "v5",
          "v5",
          "v5",
          "v5",
          "v5",
          "v5",
          "v5",
          "v5",
          "v5",
          "v5",
          "v5",
          "v5",
          "v5",
          "v5",
          "v5",
          "v5",
          "v5",
          "v5",
          "v5",
          "v5",
          "v5",
          "v5",
          "v5",
          "v5",
          "v5",
          "v5",
          "v5",
          "v5",
          "v5",
          "v5",
          "v5",
          "v5",
          "v5",
          "v5",
          "v5",
          "v5",
          "v5",
          "v5",
          "v5",
          "v5",
          "v5",
          "v5",
          "v5",
          "v5",
          "v5",
          "v5",
          "v5",
          "v5",
          "v5",
          "v5",
          "v5",
          "v5",
          "v5",
          "v5",
          "v5",
          "v5",
          "v5",
          "v5",
          "v5",
          "v5",
          "v5",
          "v5",
          "v5",
          "v5",
          "v5",
          "v5",
          "v5",
          "v5",
          "v5",
          "v5",
          "v5",
          "v5",
          "v5",
          "v5",
          "v5",
          "v5",
          "v5",
          "v5",
          "v5",
          "v5",
          "v5",
          "v5",
          "v5",
          "v5",
          "v5",
          "v5",
          "v5",
          "v5",
          "v5",
          "v5",
          "v5",
          "v5",
          "v5",
          "v5",
          "v5",
          "v5",
          "v5",
          "v5"
         ],
         "x0": " ",
         "xaxis": "x",
         "y": [
          0.6731369367196186,
          0.6323135191555299,
          0.5006659540333269,
          0.7716985956105529,
          0.5766350368531212,
          0.6663332896682035,
          0.6367316360363126,
          0.5796837212028515,
          0.5600788971319738,
          0.5975354552166916,
          0.5973072022288308,
          0.5287444433166782,
          0.6516017178514449,
          0.534736986669372,
          0.6195480880639543,
          0.645337990929014,
          0.6386517810197362,
          0.514074583983961,
          0.6815023838724285,
          0.5990940647152662,
          0.6801472106742469,
          0.5684908872406775,
          0.5752713592379886,
          0.6161912052347343,
          0.6801369401015469,
          0.5845394166769631,
          0.6543367988114225,
          0.6117959463887068,
          0.6160300278531107,
          0.6496918093041857,
          0.6719629371048373,
          0.6203056874564287,
          0.6134468627126082,
          0.5781589763970728,
          0.6105740701826523,
          0.6947086033378694,
          0.5291563195265314,
          0.5432901396564853,
          0.5179860737997545,
          0.6612861072303015,
          0.5661888095923717,
          0.6051030879690789,
          0.6402930586594894,
          0.5553412053827245,
          0.5651653651167712,
          0.608802380472875,
          0.6357586184202657,
          0.5974777919918486,
          0.662749796152806,
          0.5318721776485819,
          0.6108998408183915,
          0.5588826198839557,
          0.5962617901606643,
          0.5672801383797338,
          0.5223279169527594,
          0.6442206613763538,
          0.5551265351855341,
          0.5903162538615705,
          0.552906559133195,
          0.6186804552531608,
          0.6308996394936437,
          0.5514039965679497,
          0.5558179608474426,
          0.6582613961593514,
          0.5567287350733925,
          0.5662416833826047,
          0.5681068934105677,
          0.3935201190872517,
          0.5659531832177507,
          0.5075502790538586,
          0.47006342716934,
          0.7006802245363074,
          0.5283867200836436,
          0.4888247111847659,
          0.567965290896608,
          0.4986059847398644,
          0.6523283969648632,
          0.6352992922469146,
          0.6503658722569365,
          0.6416843997092457,
          0.4907060335795465,
          0.6441758718579682,
          0.5713241091300499,
          0.5764094654751307,
          0.5584517426067436,
          0.582698289012325,
          0.6401734158003897,
          0.5550108640888761,
          0.5072769278406136,
          0.563457141763934,
          0.6329583240946072,
          0.5768580507896294,
          0.5565887937055662,
          0.4353284213671637,
          0.5628903965614241,
          0.6477037065151873,
          0.4164287322152645,
          0.5828384288044239,
          0.37426439727290167
         ],
         "y0": " ",
         "yaxis": "y"
        }
       ],
       "layout": {
        "annotations": [
         {
          "font": {
           "color": "darkred",
           "size": 12
          },
          "showarrow": false,
          "text": "Threshold: 0.8",
          "x": 5,
          "xshift": 50,
          "y": 0.8,
          "yshift": 10
         },
         {
          "font": {
           "color": "darkblue",
           "size": 12
          },
          "showarrow": false,
          "text": "Threshold: 0.6",
          "x": 5,
          "xshift": 50,
          "y": 0.6,
          "yshift": -10
         }
        ],
        "bargap": 0.15,
        "boxmode": "group",
        "font": {
         "family": "Arial",
         "size": 14
        },
        "height": 650,
        "hovermode": "closest",
        "legend": {
         "title": {
          "text": "Version"
         },
         "tracegroupgap": 0
        },
        "margin": {
         "b": 60,
         "l": 60,
         "r": 40,
         "t": 70
        },
        "plot_bgcolor": "#f7f7f7",
        "shapes": [
         {
          "line": {
           "color": "darkred",
           "dash": "dash",
           "width": 2
          },
          "opacity": 0.7,
          "type": "line",
          "x0": -0.5,
          "x1": 4.5,
          "y0": 0.8,
          "y1": 0.8
         },
         {
          "line": {
           "color": "darkblue",
           "dash": "dash",
           "width": 2
          },
          "opacity": 0.7,
          "type": "line",
          "x0": 4,
          "x1": 5.5,
          "y0": 0.6,
          "y1": 0.6
         }
        ],
        "showlegend": true,
        "template": {
         "data": {
          "bar": [
           {
            "error_x": {
             "color": "#2a3f5f"
            },
            "error_y": {
             "color": "#2a3f5f"
            },
            "marker": {
             "line": {
              "color": "#E5ECF6",
              "width": 0.5
             },
             "pattern": {
              "fillmode": "overlay",
              "size": 10,
              "solidity": 0.2
             }
            },
            "type": "bar"
           }
          ],
          "barpolar": [
           {
            "marker": {
             "line": {
              "color": "#E5ECF6",
              "width": 0.5
             },
             "pattern": {
              "fillmode": "overlay",
              "size": 10,
              "solidity": 0.2
             }
            },
            "type": "barpolar"
           }
          ],
          "carpet": [
           {
            "aaxis": {
             "endlinecolor": "#2a3f5f",
             "gridcolor": "white",
             "linecolor": "white",
             "minorgridcolor": "white",
             "startlinecolor": "#2a3f5f"
            },
            "baxis": {
             "endlinecolor": "#2a3f5f",
             "gridcolor": "white",
             "linecolor": "white",
             "minorgridcolor": "white",
             "startlinecolor": "#2a3f5f"
            },
            "type": "carpet"
           }
          ],
          "choropleth": [
           {
            "colorbar": {
             "outlinewidth": 0,
             "ticks": ""
            },
            "type": "choropleth"
           }
          ],
          "contour": [
           {
            "colorbar": {
             "outlinewidth": 0,
             "ticks": ""
            },
            "colorscale": [
             [
              0,
              "#0d0887"
             ],
             [
              0.1111111111111111,
              "#46039f"
             ],
             [
              0.2222222222222222,
              "#7201a8"
             ],
             [
              0.3333333333333333,
              "#9c179e"
             ],
             [
              0.4444444444444444,
              "#bd3786"
             ],
             [
              0.5555555555555556,
              "#d8576b"
             ],
             [
              0.6666666666666666,
              "#ed7953"
             ],
             [
              0.7777777777777778,
              "#fb9f3a"
             ],
             [
              0.8888888888888888,
              "#fdca26"
             ],
             [
              1,
              "#f0f921"
             ]
            ],
            "type": "contour"
           }
          ],
          "contourcarpet": [
           {
            "colorbar": {
             "outlinewidth": 0,
             "ticks": ""
            },
            "type": "contourcarpet"
           }
          ],
          "heatmap": [
           {
            "colorbar": {
             "outlinewidth": 0,
             "ticks": ""
            },
            "colorscale": [
             [
              0,
              "#0d0887"
             ],
             [
              0.1111111111111111,
              "#46039f"
             ],
             [
              0.2222222222222222,
              "#7201a8"
             ],
             [
              0.3333333333333333,
              "#9c179e"
             ],
             [
              0.4444444444444444,
              "#bd3786"
             ],
             [
              0.5555555555555556,
              "#d8576b"
             ],
             [
              0.6666666666666666,
              "#ed7953"
             ],
             [
              0.7777777777777778,
              "#fb9f3a"
             ],
             [
              0.8888888888888888,
              "#fdca26"
             ],
             [
              1,
              "#f0f921"
             ]
            ],
            "type": "heatmap"
           }
          ],
          "heatmapgl": [
           {
            "colorbar": {
             "outlinewidth": 0,
             "ticks": ""
            },
            "colorscale": [
             [
              0,
              "#0d0887"
             ],
             [
              0.1111111111111111,
              "#46039f"
             ],
             [
              0.2222222222222222,
              "#7201a8"
             ],
             [
              0.3333333333333333,
              "#9c179e"
             ],
             [
              0.4444444444444444,
              "#bd3786"
             ],
             [
              0.5555555555555556,
              "#d8576b"
             ],
             [
              0.6666666666666666,
              "#ed7953"
             ],
             [
              0.7777777777777778,
              "#fb9f3a"
             ],
             [
              0.8888888888888888,
              "#fdca26"
             ],
             [
              1,
              "#f0f921"
             ]
            ],
            "type": "heatmapgl"
           }
          ],
          "histogram": [
           {
            "marker": {
             "pattern": {
              "fillmode": "overlay",
              "size": 10,
              "solidity": 0.2
             }
            },
            "type": "histogram"
           }
          ],
          "histogram2d": [
           {
            "colorbar": {
             "outlinewidth": 0,
             "ticks": ""
            },
            "colorscale": [
             [
              0,
              "#0d0887"
             ],
             [
              0.1111111111111111,
              "#46039f"
             ],
             [
              0.2222222222222222,
              "#7201a8"
             ],
             [
              0.3333333333333333,
              "#9c179e"
             ],
             [
              0.4444444444444444,
              "#bd3786"
             ],
             [
              0.5555555555555556,
              "#d8576b"
             ],
             [
              0.6666666666666666,
              "#ed7953"
             ],
             [
              0.7777777777777778,
              "#fb9f3a"
             ],
             [
              0.8888888888888888,
              "#fdca26"
             ],
             [
              1,
              "#f0f921"
             ]
            ],
            "type": "histogram2d"
           }
          ],
          "histogram2dcontour": [
           {
            "colorbar": {
             "outlinewidth": 0,
             "ticks": ""
            },
            "colorscale": [
             [
              0,
              "#0d0887"
             ],
             [
              0.1111111111111111,
              "#46039f"
             ],
             [
              0.2222222222222222,
              "#7201a8"
             ],
             [
              0.3333333333333333,
              "#9c179e"
             ],
             [
              0.4444444444444444,
              "#bd3786"
             ],
             [
              0.5555555555555556,
              "#d8576b"
             ],
             [
              0.6666666666666666,
              "#ed7953"
             ],
             [
              0.7777777777777778,
              "#fb9f3a"
             ],
             [
              0.8888888888888888,
              "#fdca26"
             ],
             [
              1,
              "#f0f921"
             ]
            ],
            "type": "histogram2dcontour"
           }
          ],
          "mesh3d": [
           {
            "colorbar": {
             "outlinewidth": 0,
             "ticks": ""
            },
            "type": "mesh3d"
           }
          ],
          "parcoords": [
           {
            "line": {
             "colorbar": {
              "outlinewidth": 0,
              "ticks": ""
             }
            },
            "type": "parcoords"
           }
          ],
          "pie": [
           {
            "automargin": true,
            "type": "pie"
           }
          ],
          "scatter": [
           {
            "fillpattern": {
             "fillmode": "overlay",
             "size": 10,
             "solidity": 0.2
            },
            "type": "scatter"
           }
          ],
          "scatter3d": [
           {
            "line": {
             "colorbar": {
              "outlinewidth": 0,
              "ticks": ""
             }
            },
            "marker": {
             "colorbar": {
              "outlinewidth": 0,
              "ticks": ""
             }
            },
            "type": "scatter3d"
           }
          ],
          "scattercarpet": [
           {
            "marker": {
             "colorbar": {
              "outlinewidth": 0,
              "ticks": ""
             }
            },
            "type": "scattercarpet"
           }
          ],
          "scattergeo": [
           {
            "marker": {
             "colorbar": {
              "outlinewidth": 0,
              "ticks": ""
             }
            },
            "type": "scattergeo"
           }
          ],
          "scattergl": [
           {
            "marker": {
             "colorbar": {
              "outlinewidth": 0,
              "ticks": ""
             }
            },
            "type": "scattergl"
           }
          ],
          "scattermapbox": [
           {
            "marker": {
             "colorbar": {
              "outlinewidth": 0,
              "ticks": ""
             }
            },
            "type": "scattermapbox"
           }
          ],
          "scatterpolar": [
           {
            "marker": {
             "colorbar": {
              "outlinewidth": 0,
              "ticks": ""
             }
            },
            "type": "scatterpolar"
           }
          ],
          "scatterpolargl": [
           {
            "marker": {
             "colorbar": {
              "outlinewidth": 0,
              "ticks": ""
             }
            },
            "type": "scatterpolargl"
           }
          ],
          "scatterternary": [
           {
            "marker": {
             "colorbar": {
              "outlinewidth": 0,
              "ticks": ""
             }
            },
            "type": "scatterternary"
           }
          ],
          "surface": [
           {
            "colorbar": {
             "outlinewidth": 0,
             "ticks": ""
            },
            "colorscale": [
             [
              0,
              "#0d0887"
             ],
             [
              0.1111111111111111,
              "#46039f"
             ],
             [
              0.2222222222222222,
              "#7201a8"
             ],
             [
              0.3333333333333333,
              "#9c179e"
             ],
             [
              0.4444444444444444,
              "#bd3786"
             ],
             [
              0.5555555555555556,
              "#d8576b"
             ],
             [
              0.6666666666666666,
              "#ed7953"
             ],
             [
              0.7777777777777778,
              "#fb9f3a"
             ],
             [
              0.8888888888888888,
              "#fdca26"
             ],
             [
              1,
              "#f0f921"
             ]
            ],
            "type": "surface"
           }
          ],
          "table": [
           {
            "cells": {
             "fill": {
              "color": "#EBF0F8"
             },
             "line": {
              "color": "white"
             }
            },
            "header": {
             "fill": {
              "color": "#C8D4E3"
             },
             "line": {
              "color": "white"
             }
            },
            "type": "table"
           }
          ]
         },
         "layout": {
          "annotationdefaults": {
           "arrowcolor": "#2a3f5f",
           "arrowhead": 0,
           "arrowwidth": 1
          },
          "autotypenumbers": "strict",
          "coloraxis": {
           "colorbar": {
            "outlinewidth": 0,
            "ticks": ""
           }
          },
          "colorscale": {
           "diverging": [
            [
             0,
             "#8e0152"
            ],
            [
             0.1,
             "#c51b7d"
            ],
            [
             0.2,
             "#de77ae"
            ],
            [
             0.3,
             "#f1b6da"
            ],
            [
             0.4,
             "#fde0ef"
            ],
            [
             0.5,
             "#f7f7f7"
            ],
            [
             0.6,
             "#e6f5d0"
            ],
            [
             0.7,
             "#b8e186"
            ],
            [
             0.8,
             "#7fbc41"
            ],
            [
             0.9,
             "#4d9221"
            ],
            [
             1,
             "#276419"
            ]
           ],
           "sequential": [
            [
             0,
             "#0d0887"
            ],
            [
             0.1111111111111111,
             "#46039f"
            ],
            [
             0.2222222222222222,
             "#7201a8"
            ],
            [
             0.3333333333333333,
             "#9c179e"
            ],
            [
             0.4444444444444444,
             "#bd3786"
            ],
            [
             0.5555555555555556,
             "#d8576b"
            ],
            [
             0.6666666666666666,
             "#ed7953"
            ],
            [
             0.7777777777777778,
             "#fb9f3a"
            ],
            [
             0.8888888888888888,
             "#fdca26"
            ],
            [
             1,
             "#f0f921"
            ]
           ],
           "sequentialminus": [
            [
             0,
             "#0d0887"
            ],
            [
             0.1111111111111111,
             "#46039f"
            ],
            [
             0.2222222222222222,
             "#7201a8"
            ],
            [
             0.3333333333333333,
             "#9c179e"
            ],
            [
             0.4444444444444444,
             "#bd3786"
            ],
            [
             0.5555555555555556,
             "#d8576b"
            ],
            [
             0.6666666666666666,
             "#ed7953"
            ],
            [
             0.7777777777777778,
             "#fb9f3a"
            ],
            [
             0.8888888888888888,
             "#fdca26"
            ],
            [
             1,
             "#f0f921"
            ]
           ]
          },
          "colorway": [
           "#636efa",
           "#EF553B",
           "#00cc96",
           "#ab63fa",
           "#FFA15A",
           "#19d3f3",
           "#FF6692",
           "#B6E880",
           "#FF97FF",
           "#FECB52"
          ],
          "font": {
           "color": "#2a3f5f"
          },
          "geo": {
           "bgcolor": "white",
           "lakecolor": "white",
           "landcolor": "#E5ECF6",
           "showlakes": true,
           "showland": true,
           "subunitcolor": "white"
          },
          "hoverlabel": {
           "align": "left"
          },
          "hovermode": "closest",
          "mapbox": {
           "style": "light"
          },
          "paper_bgcolor": "white",
          "plot_bgcolor": "#E5ECF6",
          "polar": {
           "angularaxis": {
            "gridcolor": "white",
            "linecolor": "white",
            "ticks": ""
           },
           "bgcolor": "#E5ECF6",
           "radialaxis": {
            "gridcolor": "white",
            "linecolor": "white",
            "ticks": ""
           }
          },
          "scene": {
           "xaxis": {
            "backgroundcolor": "#E5ECF6",
            "gridcolor": "white",
            "gridwidth": 2,
            "linecolor": "white",
            "showbackground": true,
            "ticks": "",
            "zerolinecolor": "white"
           },
           "yaxis": {
            "backgroundcolor": "#E5ECF6",
            "gridcolor": "white",
            "gridwidth": 2,
            "linecolor": "white",
            "showbackground": true,
            "ticks": "",
            "zerolinecolor": "white"
           },
           "zaxis": {
            "backgroundcolor": "#E5ECF6",
            "gridcolor": "white",
            "gridwidth": 2,
            "linecolor": "white",
            "showbackground": true,
            "ticks": "",
            "zerolinecolor": "white"
           }
          },
          "shapedefaults": {
           "line": {
            "color": "#2a3f5f"
           }
          },
          "ternary": {
           "aaxis": {
            "gridcolor": "white",
            "linecolor": "white",
            "ticks": ""
           },
           "baxis": {
            "gridcolor": "white",
            "linecolor": "white",
            "ticks": ""
           },
           "bgcolor": "#E5ECF6",
           "caxis": {
            "gridcolor": "white",
            "linecolor": "white",
            "ticks": ""
           }
          },
          "title": {
           "x": 0.05
          },
          "xaxis": {
           "automargin": true,
           "gridcolor": "white",
           "linecolor": "white",
           "ticks": "",
           "title": {
            "standoff": 15
           },
           "zerolinecolor": "white",
           "zerolinewidth": 2
          },
          "yaxis": {
           "automargin": true,
           "gridcolor": "white",
           "linecolor": "white",
           "ticks": "",
           "title": {
            "standoff": 15
           },
           "zerolinecolor": "white",
           "zerolinewidth": 2
          }
         }
        },
        "title": {
         "font": {
          "color": "darkblue",
          "family": "Times New Roman",
          "size": 22
         },
         "text": "Hit Relevance Distribution by Version (Static Persona)"
        },
        "width": 1000,
        "xaxis": {
         "anchor": "y",
         "categoryarray": [
          "baseline",
          "v1",
          "v2",
          "v3",
          "v4",
          "v5"
         ],
         "categoryorder": "array",
         "domain": [
          0,
          1
         ],
         "title": {
          "text": "Version"
         }
        },
        "yaxis": {
         "anchor": "x",
         "domain": [
          0,
          1
         ],
         "gridcolor": "lightgray",
         "showgrid": true,
         "title": {
          "text": "Hit Relevance Score"
         }
        }
       }
      }
     },
     "metadata": {},
     "output_type": "display_data"
    }
   ],
   "source": [
    "# Define thresholds as variables for flexibility\n",
    "threshold_baseline_to_v4 = 0.8\n",
    "threshold_v5 = 0.6\n",
    "\n",
    "# Dataframes for Static Persona\n",
    "dataframes_static = {\n",
    "    \"baseline\": Test_Results_2024052802_Baseline,\n",
    "    \"v1\": test_output_v1_2024_08_28_14_25_47,\n",
    "    \"v2\": test_output_v2_nonetype_2024_09_03_12_03_59,\n",
    "    \"v3\": test_output_v3_nonetype_2024_09,\n",
    "    \"v4\": test_output_v4_nonetype_2024_09_28_21_30_03,\n",
    "    \"v5\": test_output_v5_nonetype_2024_10_07_18_04_26\n",
    "}\n",
    "\n",
    "# Combine data for easier plotting\n",
    "all_data_static = []\n",
    "for version, df in dataframes_static.items():\n",
    "    df['version'] = version  # Add a column for version\n",
    "    all_data_static.append(df[['Column1.hit', 'Column1.hitRelevance', 'version']])\n",
    "\n",
    "# Concatenate all data into a single DataFrame\n",
    "combined_df_static = pd.concat(all_data_static)\n",
    "\n",
    "# Convert hit column to binary values (1 if hit, 0 if not) based on a threshold of 0.75\n",
    "combined_df_static['hit_binary'] = combined_df_static['Column1.hitRelevance'].apply(lambda x: 1 if x >= 0.75 else 0)\n",
    "\n",
    "# Create a box plot for Static Persona including the baseline\n",
    "fig_static = px.box(combined_df_static, \n",
    "                    x='version', \n",
    "                    y='Column1.hitRelevance', \n",
    "                    points='all',  # Show all data points\n",
    "                    title='Hit Relevance Distribution by Version (Static Persona)',\n",
    "                    labels={'Column1.hitRelevance': 'Hit Relevance Score', 'version': 'Version'},\n",
    "                    color='version',  \n",
    "                    color_discrete_sequence=px.colors.qualitative.Set2)  # Use distinct color palette\n",
    "\n",
    "# Customize box plot aesthetics\n",
    "fig_static.update_traces(\n",
    "    boxmean=True, \n",
    "    jitter=0.2,\n",
    "    pointpos=-1.5,\n",
    "    marker=dict(size=6, opacity=0.8),\n",
    "    width=0.4\n",
    ")\n",
    "\n",
    "# Add horizontal lines for thresholds\n",
    "fig_static.add_shape(\n",
    "    type=\"line\", line_color=\"darkred\", line_width=2, opacity=0.7, \n",
    "    x0=-0.5, x1=4.5, y0=threshold_baseline_to_v4, y1=threshold_baseline_to_v4, \n",
    "    line_dash=\"dash\"\n",
    ")\n",
    "fig_static.add_shape(\n",
    "    type=\"line\", line_color=\"darkblue\", line_width=2, opacity=0.7, \n",
    "    x0=4, x1=5.5, y0=threshold_v5, y1=threshold_v5,\n",
    "    line_dash=\"dash\"\n",
    ")\n",
    "\n",
    "# Move the threshold text annotations to the right\n",
    "fig_static.add_annotation(\n",
    "    x=5, y=threshold_baseline_to_v4,\n",
    "    text=\"Threshold: 0.8\", showarrow=False, xshift=50, yshift=10,\n",
    "    font=dict(size=12, color=\"darkred\")\n",
    ")\n",
    "fig_static.add_annotation(\n",
    "    x=5, y=threshold_v5,\n",
    "    text=\"Threshold: 0.6\", showarrow=False, xshift=50, yshift=-10,\n",
    "    font=dict(size=12, color=\"darkblue\")\n",
    ")\n",
    "\n",
    "# Adjust layout for better spacing and visual clarity\n",
    "fig_static.update_layout(\n",
    "    xaxis_title='Version',\n",
    "    yaxis_title='Hit Relevance Score',\n",
    "    legend_title_text='Version',\n",
    "    font=dict(size=14, family='Arial'),\n",
    "    plot_bgcolor='#f7f7f7',  \n",
    "    title_font=dict(size=22, family='Times New Roman', color='darkblue'),  \n",
    "    width=1000,\n",
    "    height=650,\n",
    "    margin=dict(t=70, l=60, r=40, b=60),\n",
    "    boxmode='group', \n",
    "    showlegend=True,  \n",
    "    yaxis=dict(showgrid=True, gridcolor='lightgray'),  \n",
    "    bargap=0.15,\n",
    "    hovermode=\"closest\"  \n",
    ")\n",
    "\n",
    "# Update hover template\n",
    "fig_static.update_traces(\n",
    "    hovertemplate=\"<b>Version</b>: %{x}<br><b>Hit Relevance</b>: %{y}<br><b>Hit Binary</b>: %{customdata}\"\n",
    ")\n",
    "\n",
    "# Display the figure\n",
    "fig_static.show()\n"
   ]
  },
  {
   "cell_type": "markdown",
   "metadata": {},
   "source": [
    "#### Box Plot: Tester Persona all versions "
   ]
  },
  {
   "cell_type": "code",
   "execution_count": 6,
   "metadata": {},
   "outputs": [
    {
     "data": {
      "application/vnd.plotly.v1+json": {
       "config": {
        "plotlyServerURL": "https://plot.ly"
       },
       "data": [
        {
         "alignmentgroup": "True",
         "boxmean": true,
         "boxpoints": "all",
         "hovertemplate": "<b>Version</b>: %{x}<br><b>Hit Relevance</b>: %{y}<br><b>Hit Binary</b>: %{customdata}",
         "jitter": 0.2,
         "legendgroup": "baseline",
         "marker": {
          "color": "rgb(102,194,165)",
          "opacity": 0.8,
          "size": 6
         },
         "name": "baseline",
         "notched": false,
         "offsetgroup": "baseline",
         "orientation": "v",
         "pointpos": -1.5,
         "showlegend": true,
         "type": "box",
         "width": 0.4,
         "x": [
          "baseline",
          "baseline",
          "baseline",
          "baseline",
          "baseline",
          "baseline",
          "baseline",
          "baseline",
          "baseline",
          "baseline",
          "baseline",
          "baseline",
          "baseline",
          "baseline",
          "baseline",
          "baseline",
          "baseline",
          "baseline",
          "baseline",
          "baseline",
          "baseline",
          "baseline",
          "baseline",
          "baseline",
          "baseline",
          "baseline",
          "baseline",
          "baseline",
          "baseline",
          "baseline",
          "baseline",
          "baseline",
          "baseline",
          "baseline",
          "baseline",
          "baseline",
          "baseline",
          "baseline",
          "baseline",
          "baseline",
          "baseline",
          "baseline",
          "baseline",
          "baseline",
          "baseline",
          "baseline",
          "baseline",
          "baseline",
          "baseline",
          "baseline",
          "baseline",
          "baseline",
          "baseline",
          "baseline",
          "baseline",
          "baseline",
          "baseline",
          "baseline",
          "baseline",
          "baseline",
          "baseline",
          "baseline",
          "baseline",
          "baseline",
          "baseline",
          "baseline",
          "baseline",
          "baseline",
          "baseline",
          "baseline",
          "baseline",
          "baseline",
          "baseline",
          "baseline",
          "baseline",
          "baseline",
          "baseline",
          "baseline",
          "baseline",
          "baseline",
          "baseline",
          "baseline",
          "baseline",
          "baseline",
          "baseline",
          "baseline",
          "baseline",
          "baseline",
          "baseline",
          "baseline",
          "baseline",
          "baseline",
          "baseline",
          "baseline",
          "baseline",
          "baseline",
          "baseline",
          "baseline",
          "baseline"
         ],
         "x0": " ",
         "xaxis": "x",
         "y": [
          0.8784441145756917,
          0.8774876933819626,
          0.8746684526475066,
          0.8746424643210794,
          0.8672439394801955,
          0.8603153999309818,
          0.855133577099862,
          0.854684365530313,
          0.8545490013947185,
          0.8536750205786069,
          0.8501388581189828,
          0.8499660383782022,
          0.8470403662206168,
          0.8463422141715554,
          0.8454658353831477,
          0.8453736197417216,
          0.8451186188958659,
          0.8450729794568982,
          0.843996474043092,
          0.8417384332596856,
          0.8399934314279974,
          0.8382348105204843,
          0.8373992935457025,
          0.8361225308669625,
          0.8351752441648143,
          0.8343694018089332,
          0.8321899352349762,
          0.832155049588577,
          0.830248828676792,
          0.8295025892387569,
          0.8289186592390524,
          0.8288114265837756,
          0.8284027920639331,
          0.8273072353527722,
          0.8271236092473713,
          0.826975894551871,
          0.8265560599870281,
          0.825320371453267,
          0.8248481659124333,
          0.824346976359626,
          0.8229000166277352,
          0.8206292698708735,
          0.8198691672518295,
          0.8195897019982514,
          0.8194865396947004,
          0.8188920393542686,
          0.8167959019266425,
          0.8164857256712671,
          0.8159706347347968,
          0.8159293705435575,
          0.8157958553839585,
          0.8154986121078773,
          0.814084258399054,
          0.8117359799225621,
          0.8115161548623933,
          0.8111692492276386,
          0.8108709355131023,
          0.810498399917788,
          0.8101889348326631,
          0.8099605332098587,
          0.8092608604270364,
          0.8079074337556884,
          0.8078390308025816,
          0.8078210638903874,
          0.8077010144788173,
          0.8076098567585128,
          0.807204013767107,
          0.8067548407994568,
          0.8061181657940557,
          0.8060373413831154,
          0.8059647466331435,
          0.8049369563243841,
          0.8036939307668896,
          0.8025805035692839,
          0.8022600750793488,
          0.8012921522278786,
          0.8005338717485814,
          0.7993632539029342,
          0.7977609335991143,
          0.7977478616824621,
          0.7970567781996246,
          0.7960420128627206,
          0.7959482970504347,
          0.7948834305972643,
          0.794524347185814,
          0.7939856708447534,
          0.7937062140910492,
          0.7932719784138285,
          0.7918442800322498,
          0.7901422444482195,
          0.7889456502312663,
          0.7883422641059364,
          0.7872176322886016,
          0.7869777101688635,
          0.7856166825021259,
          0.7854434461911843,
          0.7812875857150219,
          0.7810471085440618,
          0.7763484036629806
         ],
         "y0": " ",
         "yaxis": "y"
        },
        {
         "alignmentgroup": "True",
         "boxmean": true,
         "boxpoints": "all",
         "hovertemplate": "<b>Version</b>: %{x}<br><b>Hit Relevance</b>: %{y}<br><b>Hit Binary</b>: %{customdata}",
         "jitter": 0.2,
         "legendgroup": "v2",
         "marker": {
          "color": "rgb(252,141,98)",
          "opacity": 0.8,
          "size": 6
         },
         "name": "v2",
         "notched": false,
         "offsetgroup": "v2",
         "orientation": "v",
         "pointpos": -1.5,
         "showlegend": true,
         "type": "box",
         "width": 0.4,
         "x": [
          "v2",
          "v2",
          "v2",
          "v2",
          "v2",
          "v2",
          "v2",
          "v2",
          "v2",
          "v2",
          "v2",
          "v2",
          "v2",
          "v2",
          "v2",
          "v2",
          "v2",
          "v2",
          "v2",
          "v2",
          "v2",
          "v2",
          "v2",
          "v2",
          "v2",
          "v2",
          "v2",
          "v2",
          "v2",
          "v2",
          "v2",
          "v2",
          "v2",
          "v2",
          "v2",
          "v2",
          "v2",
          "v2",
          "v2",
          "v2",
          "v2",
          "v2",
          "v2",
          "v2",
          "v2",
          "v2",
          "v2",
          "v2",
          "v2",
          "v2",
          "v2",
          "v2",
          "v2",
          "v2",
          "v2",
          "v2",
          "v2",
          "v2",
          "v2",
          "v2",
          "v2",
          "v2",
          "v2",
          "v2",
          "v2",
          "v2",
          "v2",
          "v2",
          "v2",
          "v2",
          "v2",
          "v2",
          "v2",
          "v2",
          "v2",
          "v2",
          "v2",
          "v2",
          "v2",
          "v2",
          "v2",
          "v2",
          "v2",
          "v2",
          "v2",
          "v2",
          "v2",
          "v2",
          "v2",
          "v2",
          "v2",
          "v2",
          "v2",
          "v2",
          "v2",
          "v2",
          "v2",
          "v2",
          "v2",
          "v2"
         ],
         "x0": " ",
         "xaxis": "x",
         "y": [
          0.9260896548361044,
          0.8958465943886792,
          0.8835965409616544,
          0.8873837995736313,
          0.8533479846923361,
          0.9035330506872984,
          0.8713233459019327,
          0.8680085066020624,
          0.8190568611323094,
          0.8815219379965763,
          0.8345599170000927,
          0.9132679311334024,
          0.8066154482552983,
          0.8754113638252863,
          0.7869028287789468,
          0.8937630766721856,
          0.8357541911288255,
          0.8444135294118604,
          0.7869028287789468,
          0.8603974601345054,
          0.7869028287789468,
          0.8893231070197398,
          0.7869028287789468,
          0.8784992926819956,
          0.7869028287789468,
          0.8329459623017822,
          0.7869028287789468,
          0.8831018847649333,
          0.7869028287789468,
          0.8304822390967751,
          0.7869028287789468,
          0.7869028287789468,
          0.7869028287789468,
          0.8805711473862292,
          0.7869028287789468,
          0.863031670173316,
          0.7869028287789468,
          0.7869028287789468,
          0.7869028287789468,
          0.7869028287789468,
          0.8083703954979202,
          0.8702575370109655,
          0.7869028287789468,
          0.7869028287789468,
          0.7869028287789468,
          0.7869028287789468,
          0.7869028287789468,
          0.7869028287789468,
          0.8432393091870631,
          0.8583835613039328,
          0.7869028287789468,
          0.7869028287789468,
          0.7869028287789468,
          0.7869028287789468,
          0.7869028287789468,
          0.7869028287789468,
          0.7869028287789468,
          0.7869028287789468,
          0.7869028287789468,
          0.7869028287789468,
          0.7869028287789468,
          0.7869028287789468,
          0.7869028287789468,
          0.7869028287789468,
          0.7869028287789468,
          0.7869028287789468,
          0.7869028287789468,
          0.7869028287789468,
          0.7869028287789468,
          0.7869028287789468,
          0.8083703954979202,
          0.7869028287789468,
          0.7869028287789468,
          0.7869028287789468,
          0.7869028287789468,
          0.7869028287789468,
          0.7869028287789468,
          0.7869028287789468,
          0.7869028287789468,
          0.7869028287789468,
          0.7869028287789468,
          0.7869028287789468,
          0.7869028287789468,
          0.7869028287789468,
          0.7869028287789468,
          0.7869028287789468,
          0.7869028287789468,
          0.7869028287789468,
          0.8083703954979202,
          0.7869028287789468,
          0.8083703954979202,
          0.7869028287789468,
          0.7869028287789468,
          0.7869028287789468,
          0.8083703954979202,
          0.7869028287789468,
          0.8083703954979202,
          0.7869028287789468,
          0.8083703954979202,
          0.7869028287789468
         ],
         "y0": " ",
         "yaxis": "y"
        },
        {
         "alignmentgroup": "True",
         "boxmean": true,
         "boxpoints": "all",
         "hovertemplate": "<b>Version</b>: %{x}<br><b>Hit Relevance</b>: %{y}<br><b>Hit Binary</b>: %{customdata}",
         "jitter": 0.2,
         "legendgroup": "v3",
         "marker": {
          "color": "rgb(141,160,203)",
          "opacity": 0.8,
          "size": 6
         },
         "name": "v3",
         "notched": false,
         "offsetgroup": "v3",
         "orientation": "v",
         "pointpos": -1.5,
         "showlegend": true,
         "type": "box",
         "width": 0.4,
         "x": [
          "v3",
          "v3",
          "v3",
          "v3",
          "v3",
          "v3",
          "v3",
          "v3",
          "v3",
          "v3",
          "v3",
          "v3",
          "v3",
          "v3",
          "v3",
          "v3",
          "v3",
          "v3",
          "v3",
          "v3",
          "v3",
          "v3",
          "v3",
          "v3",
          "v3",
          "v3",
          "v3",
          "v3",
          "v3",
          "v3",
          "v3",
          "v3",
          "v3",
          "v3",
          "v3",
          "v3",
          "v3",
          "v3",
          "v3",
          "v3",
          "v3",
          "v3",
          "v3",
          "v3",
          "v3",
          "v3",
          "v3",
          "v3",
          "v3",
          "v3",
          "v3",
          "v3",
          "v3",
          "v3",
          "v3",
          "v3",
          "v3",
          "v3",
          "v3",
          "v3",
          "v3",
          "v3",
          "v3",
          "v3",
          "v3",
          "v3",
          "v3",
          "v3",
          "v3",
          "v3",
          "v3",
          "v3",
          "v3",
          "v3",
          "v3",
          "v3",
          "v3",
          "v3",
          "v3",
          "v3",
          "v3",
          "v3",
          "v3",
          "v3",
          "v3",
          "v3",
          "v3",
          "v3",
          "v3",
          "v3",
          "v3",
          "v3",
          "v3",
          "v3",
          "v3",
          "v3",
          "v3",
          "v3",
          "v3",
          "v3",
          "v3",
          "v3"
         ],
         "x0": " ",
         "xaxis": "x",
         "y": [
          0.8083703954979202,
          0.9015171754259578,
          0.8837635812431716,
          0.8946324709152895,
          0.8749615685205423,
          0.8609085530793594,
          0.8923783642835412,
          0.8400127777995611,
          0.8559000189173868,
          0.8610576837707733,
          0.8816710844115082,
          0.8879365385767628,
          0.8479416812151344,
          0.8660337901743131,
          0.8658823528937307,
          0.8797883047885774,
          0.8564037275268988,
          0.893291145304563,
          0.8699357659602196,
          0.8843390913864568,
          0.865274474085645,
          0.8742042946540715,
          0.894052300078144,
          0.866061568775749,
          0.8680381692617449,
          0.8763184688319102,
          0.8452840841558233,
          0.8642551674216407,
          0.9000543325509806,
          0.834566958924211,
          0.8495751864287734,
          0.857172606444935,
          0.885955392802664,
          0.883679291694515,
          0.8639565363512176,
          0.8895918588345837,
          0.8792651567865146,
          0.8588833064324073,
          0.8667847771738724,
          0.8835163885238911,
          0.8908259460290608,
          0.8778987907593877,
          0.8768674445521122,
          0.8721827309596497,
          0.8659382556285979,
          0.8570277978566414,
          0.8703736585022539,
          0.8832320962247275,
          0.8769112086779935,
          0.8613149146379736,
          0.8582612252297606,
          0.892564500517015,
          0.8644078382101941,
          0.8882612740393964,
          0.8574631475788088,
          0.8816617966667775,
          0.8680218381539563,
          0.8837603702345594,
          0.8662604177753735,
          0.8977959508719734,
          0.8763335639473581,
          0.8834053275408591,
          0.8683890274631374,
          0.8917816788812097,
          0.866012329794057,
          0.8893836466284686,
          0.8654097474120723,
          0.8871932192350038,
          0.8685926139809419,
          0.8912970771976463,
          0.8671114258538987,
          0.8877321653436078,
          0.8894235437271147,
          0.871625457533162,
          0.884415953135862,
          0.8654498883140633,
          0.8580881231454508,
          0.8737164279194867,
          0.8526935909967343,
          0.901509665570102,
          0.8938942046190123,
          0.8868835425853685,
          0.866972158098575,
          0.8845187341218077,
          0.8692471065432266,
          0.8902972146005897,
          0.850853241229639,
          0.8898047115055115,
          0.8679444453972042,
          0.8655358413538649,
          0.8572797634282897,
          0.8822278379691474,
          0.8662009219736643,
          0.8741928447012778,
          0.8674757682402574,
          0.8838565402063694,
          0.8692620309832861,
          0.8780055294175004,
          0.8497140727660184,
          0.8986917345010078,
          0.8704297858168426,
          0.8799261647674379
         ],
         "y0": " ",
         "yaxis": "y"
        },
        {
         "alignmentgroup": "True",
         "boxmean": true,
         "boxpoints": "all",
         "hovertemplate": "<b>Version</b>: %{x}<br><b>Hit Relevance</b>: %{y}<br><b>Hit Binary</b>: %{customdata}",
         "jitter": 0.2,
         "legendgroup": "v4",
         "marker": {
          "color": "rgb(231,138,195)",
          "opacity": 0.8,
          "size": 6
         },
         "name": "v4",
         "notched": false,
         "offsetgroup": "v4",
         "orientation": "v",
         "pointpos": -1.5,
         "showlegend": true,
         "type": "box",
         "width": 0.4,
         "x": [
          "v4",
          "v4",
          "v4",
          "v4",
          "v4",
          "v4",
          "v4",
          "v4",
          "v4",
          "v4",
          "v4",
          "v4",
          "v4",
          "v4",
          "v4",
          "v4",
          "v4",
          "v4",
          "v4",
          "v4",
          "v4",
          "v4",
          "v4",
          "v4",
          "v4",
          "v4",
          "v4",
          "v4",
          "v4",
          "v4",
          "v4",
          "v4",
          "v4",
          "v4",
          "v4",
          "v4",
          "v4",
          "v4",
          "v4",
          "v4",
          "v4",
          "v4",
          "v4",
          "v4",
          "v4",
          "v4",
          "v4",
          "v4",
          "v4",
          "v4",
          "v4",
          "v4",
          "v4",
          "v4",
          "v4",
          "v4",
          "v4",
          "v4",
          "v4",
          "v4",
          "v4",
          "v4",
          "v4",
          "v4",
          "v4",
          "v4",
          "v4",
          "v4",
          "v4",
          "v4",
          "v4",
          "v4",
          "v4",
          "v4",
          "v4",
          "v4",
          "v4",
          "v4",
          "v4",
          "v4",
          "v4",
          "v4",
          "v4",
          "v4",
          "v4",
          "v4",
          "v4",
          "v4",
          "v4",
          "v4",
          "v4",
          "v4",
          "v4",
          "v4",
          "v4",
          "v4",
          "v4",
          "v4",
          "v4",
          "v4"
         ],
         "x0": " ",
         "xaxis": "x",
         "y": [
          0.899425678580573,
          0.8841858110842884,
          0.8946324709152895,
          0.8782529409682958,
          0.8848509948202548,
          0.8765631908790298,
          0.8694720558744535,
          0.8816710844115082,
          0.853556733131251,
          0.851390555013653,
          0.8516295850035306,
          0.8448546946284595,
          0.9149889628496224,
          0.8835936323582444,
          0.8701221601791951,
          0.8421982714748847,
          0.8507106596227634,
          0.8630587612624951,
          0.8564037275268988,
          0.8830868630872897,
          0.8959521157397163,
          0.8523304026380984,
          0.8820680897147363,
          0.873302738139707,
          0.8662067928063856,
          0.8483985653426406,
          0.861618668162659,
          0.8900700283316093,
          0.8681242705488184,
          0.8301815964287346,
          0.8781911893759358,
          0.8799118223635365,
          0.8804708824383403,
          0.8800770177556605,
          0.8658125498372031,
          0.8717858304296473,
          0.8667950988683732,
          0.8509893908541228,
          0.8707194313343154,
          0.8564858475640829,
          0.8631344371435414,
          0.8717643234307194,
          0.8593765446884328,
          0.8339525641580207,
          0.871686351236009,
          0.8809646937695196,
          0.864465999804472,
          0.8608462381511908,
          0.8749077231927151,
          0.871139547948769,
          0.8945689572110711,
          0.8708724473393297,
          0.8861350552861318,
          0.8532426815410784,
          0.8598941095982945,
          0.867567396005291,
          0.8609057670026643,
          0.8286622463562502,
          0.8780297005345394,
          0.8838005691172023,
          0.8722468594757767,
          0.8751577028106131,
          0.8600058430423959,
          0.8805785552896785,
          0.8708701548282857,
          0.8661319936330839,
          0.8672548872932427,
          0.8721837992956972,
          0.8724539762151607,
          0.8333022916990186,
          0.8846299738046205,
          0.8986499335615127,
          0.8605682992736433,
          0.873161380722288,
          0.8862103516176731,
          0.8783930326564098,
          0.8845243343928193,
          0.8592618631134071,
          0.8650531711234029,
          0.8869733166807602,
          0.8836545084123362,
          0.8583163107227766,
          0.8895492481569449,
          0.8868200736265422,
          0.8569884908993959,
          0.8639701393099244,
          0.8703775637869767,
          0.8587823329468198,
          0.8737687199223553,
          0.8460184316230777,
          0.8868657091211494,
          0.8767387618572849,
          0.8885866629771221,
          0.8645786275221989,
          0.8799682999419439,
          0.8894621218575381,
          0.8817614418139013,
          0.8682819885407279,
          0.8849975614108211,
          0.8768515264945107
         ],
         "y0": " ",
         "yaxis": "y"
        },
        {
         "alignmentgroup": "True",
         "boxmean": true,
         "boxpoints": "all",
         "hovertemplate": "<b>Version</b>: %{x}<br><b>Hit Relevance</b>: %{y}<br><b>Hit Binary</b>: %{customdata}",
         "jitter": 0.2,
         "legendgroup": "v5",
         "marker": {
          "color": "rgb(166,216,84)",
          "opacity": 0.8,
          "size": 6
         },
         "name": "v5",
         "notched": false,
         "offsetgroup": "v5",
         "orientation": "v",
         "pointpos": -1.5,
         "showlegend": true,
         "type": "box",
         "width": 0.4,
         "x": [
          "v5",
          "v5",
          "v5",
          "v5",
          "v5",
          "v5",
          "v5",
          "v5",
          "v5",
          "v5",
          "v5",
          "v5",
          "v5",
          "v5",
          "v5",
          "v5",
          "v5",
          "v5",
          "v5",
          "v5",
          "v5",
          "v5",
          "v5",
          "v5",
          "v5",
          "v5",
          "v5",
          "v5",
          "v5",
          "v5",
          "v5",
          "v5",
          "v5",
          "v5",
          "v5",
          "v5",
          "v5",
          "v5",
          "v5",
          "v5",
          "v5",
          "v5",
          "v5",
          "v5",
          "v5",
          "v5",
          "v5",
          "v5",
          "v5",
          "v5",
          "v5",
          "v5",
          "v5",
          "v5",
          "v5",
          "v5",
          "v5",
          "v5",
          "v5",
          "v5",
          "v5",
          "v5",
          "v5",
          "v5",
          "v5",
          "v5",
          "v5",
          "v5",
          "v5",
          "v5",
          "v5",
          "v5",
          "v5",
          "v5",
          "v5",
          "v5",
          "v5",
          "v5",
          "v5",
          "v5",
          "v5",
          "v5",
          "v5",
          "v5",
          "v5",
          "v5",
          "v5",
          "v5",
          "v5",
          "v5",
          "v5",
          "v5",
          "v5",
          "v5",
          "v5",
          "v5",
          "v5",
          "v5",
          "v5",
          "v5"
         ],
         "x0": " ",
         "xaxis": "x",
         "y": [
          0.6547423615411883,
          0.5926958703882844,
          0.594969910319314,
          0.6160156827895168,
          0.5698871349370588,
          0.5617320256678324,
          0.6111754694470071,
          0.6351630296316265,
          0.5293620036593946,
          0.5165885848632344,
          0.6250891883376415,
          0.49050136945260353,
          0.6203614498942224,
          0.4531948769457778,
          0.6774992403523487,
          0.5846492597137487,
          0.5163347446350194,
          0.5919516919393911,
          0.6402926311497983,
          0.5635205370102799,
          0.5354044743483545,
          0.6143051704606554,
          0.5369242242159882,
          0.5367452337341134,
          0.578056803814586,
          0.5433467016775535,
          0.6301831975695363,
          0.5641906054153115,
          0.5907335452846273,
          0.6248047560151081,
          0.5660981755903569,
          0.5447378589290522,
          0.563288931130918,
          0.5748471682351924,
          0.5826424452581832,
          0.5427189123366614,
          0.5413360870891892,
          0.595766223122522,
          0.5957339778332926,
          0.5776283443287193,
          0.6032933229688233,
          0.6326433183463078,
          0.5503216950175941,
          0.6016617148871323,
          0.5544780575962043,
          0.6636248888945908,
          0.5880464619014087,
          0.6388290857277393,
          0.531036979609324,
          0.584734072567297,
          0.5338601023240597,
          0.5773632366452974,
          0.563860275460953,
          0.6406218658552324,
          0.5509740336322557,
          0.5064902771522247,
          0.5668280872435397,
          0.5332541056260819,
          0.595003980380172,
          0.6121739113380347,
          0.6440538036285128,
          0.564323388040357,
          0.5942667061121738,
          0.6414614235034671,
          0.5937492885840039,
          0.6432231385667997,
          0.611585823211942,
          0.6050815900818665,
          0.5355819303024529,
          0.538020868997667,
          0.5844923599809049,
          0.6145211319764742,
          0.5406255094606985,
          0.5920360836459677,
          0.5624074477991295,
          0.6337873312853946,
          0.5931903312840862,
          0.5922815646098171,
          0.6398459186989373,
          0.5964084460765852,
          0.5981937523759794,
          0.6656281506557784,
          0.596401168464537,
          0.6256239928849933,
          0.5764258196365921,
          0.5920360836459677,
          0.5571014837924884,
          0.5656138004916621,
          0.5641147867309964,
          0.6038237092867681,
          0.5832365100508811,
          0.5982273273453204,
          0.5981937523759794,
          0.6688786422362436,
          0.5907682871801937,
          0.5865539788915848,
          0.6398459186989373,
          0.6189789563509723,
          0.5556884954117249,
          0.6240766790855555
         ],
         "y0": " ",
         "yaxis": "y"
        }
       ],
       "layout": {
        "annotations": [
         {
          "font": {
           "color": "darkred",
           "size": 12
          },
          "showarrow": false,
          "text": "Threshold: 0.8",
          "x": 5,
          "xshift": 50,
          "y": 0.8,
          "yshift": 10
         },
         {
          "font": {
           "color": "darkblue",
           "size": 12
          },
          "showarrow": false,
          "text": "Threshold: 0.6",
          "x": 5,
          "xshift": 50,
          "y": 0.6,
          "yshift": -10
         }
        ],
        "bargap": 0.15,
        "boxmode": "group",
        "font": {
         "family": "Arial",
         "size": 14
        },
        "height": 650,
        "hovermode": "closest",
        "legend": {
         "title": {
          "text": "Version"
         },
         "tracegroupgap": 0
        },
        "margin": {
         "b": 60,
         "l": 60,
         "r": 40,
         "t": 70
        },
        "plot_bgcolor": "#f7f7f7",
        "shapes": [
         {
          "line": {
           "color": "darkred",
           "dash": "dash",
           "width": 2
          },
          "opacity": 0.7,
          "type": "line",
          "x0": -0.5,
          "x1": 4,
          "y0": 0.8,
          "y1": 0.8
         },
         {
          "line": {
           "color": "darkblue",
           "dash": "dash",
           "width": 2
          },
          "opacity": 0.7,
          "type": "line",
          "x0": 3,
          "x1": 5.5,
          "y0": 0.6,
          "y1": 0.6
         }
        ],
        "showlegend": true,
        "template": {
         "data": {
          "bar": [
           {
            "error_x": {
             "color": "#2a3f5f"
            },
            "error_y": {
             "color": "#2a3f5f"
            },
            "marker": {
             "line": {
              "color": "#E5ECF6",
              "width": 0.5
             },
             "pattern": {
              "fillmode": "overlay",
              "size": 10,
              "solidity": 0.2
             }
            },
            "type": "bar"
           }
          ],
          "barpolar": [
           {
            "marker": {
             "line": {
              "color": "#E5ECF6",
              "width": 0.5
             },
             "pattern": {
              "fillmode": "overlay",
              "size": 10,
              "solidity": 0.2
             }
            },
            "type": "barpolar"
           }
          ],
          "carpet": [
           {
            "aaxis": {
             "endlinecolor": "#2a3f5f",
             "gridcolor": "white",
             "linecolor": "white",
             "minorgridcolor": "white",
             "startlinecolor": "#2a3f5f"
            },
            "baxis": {
             "endlinecolor": "#2a3f5f",
             "gridcolor": "white",
             "linecolor": "white",
             "minorgridcolor": "white",
             "startlinecolor": "#2a3f5f"
            },
            "type": "carpet"
           }
          ],
          "choropleth": [
           {
            "colorbar": {
             "outlinewidth": 0,
             "ticks": ""
            },
            "type": "choropleth"
           }
          ],
          "contour": [
           {
            "colorbar": {
             "outlinewidth": 0,
             "ticks": ""
            },
            "colorscale": [
             [
              0,
              "#0d0887"
             ],
             [
              0.1111111111111111,
              "#46039f"
             ],
             [
              0.2222222222222222,
              "#7201a8"
             ],
             [
              0.3333333333333333,
              "#9c179e"
             ],
             [
              0.4444444444444444,
              "#bd3786"
             ],
             [
              0.5555555555555556,
              "#d8576b"
             ],
             [
              0.6666666666666666,
              "#ed7953"
             ],
             [
              0.7777777777777778,
              "#fb9f3a"
             ],
             [
              0.8888888888888888,
              "#fdca26"
             ],
             [
              1,
              "#f0f921"
             ]
            ],
            "type": "contour"
           }
          ],
          "contourcarpet": [
           {
            "colorbar": {
             "outlinewidth": 0,
             "ticks": ""
            },
            "type": "contourcarpet"
           }
          ],
          "heatmap": [
           {
            "colorbar": {
             "outlinewidth": 0,
             "ticks": ""
            },
            "colorscale": [
             [
              0,
              "#0d0887"
             ],
             [
              0.1111111111111111,
              "#46039f"
             ],
             [
              0.2222222222222222,
              "#7201a8"
             ],
             [
              0.3333333333333333,
              "#9c179e"
             ],
             [
              0.4444444444444444,
              "#bd3786"
             ],
             [
              0.5555555555555556,
              "#d8576b"
             ],
             [
              0.6666666666666666,
              "#ed7953"
             ],
             [
              0.7777777777777778,
              "#fb9f3a"
             ],
             [
              0.8888888888888888,
              "#fdca26"
             ],
             [
              1,
              "#f0f921"
             ]
            ],
            "type": "heatmap"
           }
          ],
          "heatmapgl": [
           {
            "colorbar": {
             "outlinewidth": 0,
             "ticks": ""
            },
            "colorscale": [
             [
              0,
              "#0d0887"
             ],
             [
              0.1111111111111111,
              "#46039f"
             ],
             [
              0.2222222222222222,
              "#7201a8"
             ],
             [
              0.3333333333333333,
              "#9c179e"
             ],
             [
              0.4444444444444444,
              "#bd3786"
             ],
             [
              0.5555555555555556,
              "#d8576b"
             ],
             [
              0.6666666666666666,
              "#ed7953"
             ],
             [
              0.7777777777777778,
              "#fb9f3a"
             ],
             [
              0.8888888888888888,
              "#fdca26"
             ],
             [
              1,
              "#f0f921"
             ]
            ],
            "type": "heatmapgl"
           }
          ],
          "histogram": [
           {
            "marker": {
             "pattern": {
              "fillmode": "overlay",
              "size": 10,
              "solidity": 0.2
             }
            },
            "type": "histogram"
           }
          ],
          "histogram2d": [
           {
            "colorbar": {
             "outlinewidth": 0,
             "ticks": ""
            },
            "colorscale": [
             [
              0,
              "#0d0887"
             ],
             [
              0.1111111111111111,
              "#46039f"
             ],
             [
              0.2222222222222222,
              "#7201a8"
             ],
             [
              0.3333333333333333,
              "#9c179e"
             ],
             [
              0.4444444444444444,
              "#bd3786"
             ],
             [
              0.5555555555555556,
              "#d8576b"
             ],
             [
              0.6666666666666666,
              "#ed7953"
             ],
             [
              0.7777777777777778,
              "#fb9f3a"
             ],
             [
              0.8888888888888888,
              "#fdca26"
             ],
             [
              1,
              "#f0f921"
             ]
            ],
            "type": "histogram2d"
           }
          ],
          "histogram2dcontour": [
           {
            "colorbar": {
             "outlinewidth": 0,
             "ticks": ""
            },
            "colorscale": [
             [
              0,
              "#0d0887"
             ],
             [
              0.1111111111111111,
              "#46039f"
             ],
             [
              0.2222222222222222,
              "#7201a8"
             ],
             [
              0.3333333333333333,
              "#9c179e"
             ],
             [
              0.4444444444444444,
              "#bd3786"
             ],
             [
              0.5555555555555556,
              "#d8576b"
             ],
             [
              0.6666666666666666,
              "#ed7953"
             ],
             [
              0.7777777777777778,
              "#fb9f3a"
             ],
             [
              0.8888888888888888,
              "#fdca26"
             ],
             [
              1,
              "#f0f921"
             ]
            ],
            "type": "histogram2dcontour"
           }
          ],
          "mesh3d": [
           {
            "colorbar": {
             "outlinewidth": 0,
             "ticks": ""
            },
            "type": "mesh3d"
           }
          ],
          "parcoords": [
           {
            "line": {
             "colorbar": {
              "outlinewidth": 0,
              "ticks": ""
             }
            },
            "type": "parcoords"
           }
          ],
          "pie": [
           {
            "automargin": true,
            "type": "pie"
           }
          ],
          "scatter": [
           {
            "fillpattern": {
             "fillmode": "overlay",
             "size": 10,
             "solidity": 0.2
            },
            "type": "scatter"
           }
          ],
          "scatter3d": [
           {
            "line": {
             "colorbar": {
              "outlinewidth": 0,
              "ticks": ""
             }
            },
            "marker": {
             "colorbar": {
              "outlinewidth": 0,
              "ticks": ""
             }
            },
            "type": "scatter3d"
           }
          ],
          "scattercarpet": [
           {
            "marker": {
             "colorbar": {
              "outlinewidth": 0,
              "ticks": ""
             }
            },
            "type": "scattercarpet"
           }
          ],
          "scattergeo": [
           {
            "marker": {
             "colorbar": {
              "outlinewidth": 0,
              "ticks": ""
             }
            },
            "type": "scattergeo"
           }
          ],
          "scattergl": [
           {
            "marker": {
             "colorbar": {
              "outlinewidth": 0,
              "ticks": ""
             }
            },
            "type": "scattergl"
           }
          ],
          "scattermapbox": [
           {
            "marker": {
             "colorbar": {
              "outlinewidth": 0,
              "ticks": ""
             }
            },
            "type": "scattermapbox"
           }
          ],
          "scatterpolar": [
           {
            "marker": {
             "colorbar": {
              "outlinewidth": 0,
              "ticks": ""
             }
            },
            "type": "scatterpolar"
           }
          ],
          "scatterpolargl": [
           {
            "marker": {
             "colorbar": {
              "outlinewidth": 0,
              "ticks": ""
             }
            },
            "type": "scatterpolargl"
           }
          ],
          "scatterternary": [
           {
            "marker": {
             "colorbar": {
              "outlinewidth": 0,
              "ticks": ""
             }
            },
            "type": "scatterternary"
           }
          ],
          "surface": [
           {
            "colorbar": {
             "outlinewidth": 0,
             "ticks": ""
            },
            "colorscale": [
             [
              0,
              "#0d0887"
             ],
             [
              0.1111111111111111,
              "#46039f"
             ],
             [
              0.2222222222222222,
              "#7201a8"
             ],
             [
              0.3333333333333333,
              "#9c179e"
             ],
             [
              0.4444444444444444,
              "#bd3786"
             ],
             [
              0.5555555555555556,
              "#d8576b"
             ],
             [
              0.6666666666666666,
              "#ed7953"
             ],
             [
              0.7777777777777778,
              "#fb9f3a"
             ],
             [
              0.8888888888888888,
              "#fdca26"
             ],
             [
              1,
              "#f0f921"
             ]
            ],
            "type": "surface"
           }
          ],
          "table": [
           {
            "cells": {
             "fill": {
              "color": "#EBF0F8"
             },
             "line": {
              "color": "white"
             }
            },
            "header": {
             "fill": {
              "color": "#C8D4E3"
             },
             "line": {
              "color": "white"
             }
            },
            "type": "table"
           }
          ]
         },
         "layout": {
          "annotationdefaults": {
           "arrowcolor": "#2a3f5f",
           "arrowhead": 0,
           "arrowwidth": 1
          },
          "autotypenumbers": "strict",
          "coloraxis": {
           "colorbar": {
            "outlinewidth": 0,
            "ticks": ""
           }
          },
          "colorscale": {
           "diverging": [
            [
             0,
             "#8e0152"
            ],
            [
             0.1,
             "#c51b7d"
            ],
            [
             0.2,
             "#de77ae"
            ],
            [
             0.3,
             "#f1b6da"
            ],
            [
             0.4,
             "#fde0ef"
            ],
            [
             0.5,
             "#f7f7f7"
            ],
            [
             0.6,
             "#e6f5d0"
            ],
            [
             0.7,
             "#b8e186"
            ],
            [
             0.8,
             "#7fbc41"
            ],
            [
             0.9,
             "#4d9221"
            ],
            [
             1,
             "#276419"
            ]
           ],
           "sequential": [
            [
             0,
             "#0d0887"
            ],
            [
             0.1111111111111111,
             "#46039f"
            ],
            [
             0.2222222222222222,
             "#7201a8"
            ],
            [
             0.3333333333333333,
             "#9c179e"
            ],
            [
             0.4444444444444444,
             "#bd3786"
            ],
            [
             0.5555555555555556,
             "#d8576b"
            ],
            [
             0.6666666666666666,
             "#ed7953"
            ],
            [
             0.7777777777777778,
             "#fb9f3a"
            ],
            [
             0.8888888888888888,
             "#fdca26"
            ],
            [
             1,
             "#f0f921"
            ]
           ],
           "sequentialminus": [
            [
             0,
             "#0d0887"
            ],
            [
             0.1111111111111111,
             "#46039f"
            ],
            [
             0.2222222222222222,
             "#7201a8"
            ],
            [
             0.3333333333333333,
             "#9c179e"
            ],
            [
             0.4444444444444444,
             "#bd3786"
            ],
            [
             0.5555555555555556,
             "#d8576b"
            ],
            [
             0.6666666666666666,
             "#ed7953"
            ],
            [
             0.7777777777777778,
             "#fb9f3a"
            ],
            [
             0.8888888888888888,
             "#fdca26"
            ],
            [
             1,
             "#f0f921"
            ]
           ]
          },
          "colorway": [
           "#636efa",
           "#EF553B",
           "#00cc96",
           "#ab63fa",
           "#FFA15A",
           "#19d3f3",
           "#FF6692",
           "#B6E880",
           "#FF97FF",
           "#FECB52"
          ],
          "font": {
           "color": "#2a3f5f"
          },
          "geo": {
           "bgcolor": "white",
           "lakecolor": "white",
           "landcolor": "#E5ECF6",
           "showlakes": true,
           "showland": true,
           "subunitcolor": "white"
          },
          "hoverlabel": {
           "align": "left"
          },
          "hovermode": "closest",
          "mapbox": {
           "style": "light"
          },
          "paper_bgcolor": "white",
          "plot_bgcolor": "#E5ECF6",
          "polar": {
           "angularaxis": {
            "gridcolor": "white",
            "linecolor": "white",
            "ticks": ""
           },
           "bgcolor": "#E5ECF6",
           "radialaxis": {
            "gridcolor": "white",
            "linecolor": "white",
            "ticks": ""
           }
          },
          "scene": {
           "xaxis": {
            "backgroundcolor": "#E5ECF6",
            "gridcolor": "white",
            "gridwidth": 2,
            "linecolor": "white",
            "showbackground": true,
            "ticks": "",
            "zerolinecolor": "white"
           },
           "yaxis": {
            "backgroundcolor": "#E5ECF6",
            "gridcolor": "white",
            "gridwidth": 2,
            "linecolor": "white",
            "showbackground": true,
            "ticks": "",
            "zerolinecolor": "white"
           },
           "zaxis": {
            "backgroundcolor": "#E5ECF6",
            "gridcolor": "white",
            "gridwidth": 2,
            "linecolor": "white",
            "showbackground": true,
            "ticks": "",
            "zerolinecolor": "white"
           }
          },
          "shapedefaults": {
           "line": {
            "color": "#2a3f5f"
           }
          },
          "ternary": {
           "aaxis": {
            "gridcolor": "white",
            "linecolor": "white",
            "ticks": ""
           },
           "baxis": {
            "gridcolor": "white",
            "linecolor": "white",
            "ticks": ""
           },
           "bgcolor": "#E5ECF6",
           "caxis": {
            "gridcolor": "white",
            "linecolor": "white",
            "ticks": ""
           }
          },
          "title": {
           "x": 0.05
          },
          "xaxis": {
           "automargin": true,
           "gridcolor": "white",
           "linecolor": "white",
           "ticks": "",
           "title": {
            "standoff": 15
           },
           "zerolinecolor": "white",
           "zerolinewidth": 2
          },
          "yaxis": {
           "automargin": true,
           "gridcolor": "white",
           "linecolor": "white",
           "ticks": "",
           "title": {
            "standoff": 15
           },
           "zerolinecolor": "white",
           "zerolinewidth": 2
          }
         }
        },
        "title": {
         "font": {
          "color": "darkblue",
          "family": "Times New Roman",
          "size": 22
         },
         "text": "Hit Relevance Distribution by Version (Tester Persona)"
        },
        "width": 1000,
        "xaxis": {
         "anchor": "y",
         "categoryarray": [
          "baseline",
          "v2",
          "v3",
          "v4",
          "v5"
         ],
         "categoryorder": "array",
         "domain": [
          0,
          1
         ],
         "title": {
          "text": "Version"
         }
        },
        "yaxis": {
         "anchor": "x",
         "domain": [
          0,
          1
         ],
         "gridcolor": "lightgray",
         "showgrid": true,
         "title": {
          "text": "Hit Relevance Score"
         }
        }
       }
      }
     },
     "metadata": {},
     "output_type": "display_data"
    }
   ],
   "source": [
    "# List of dataframes and their version labels for comparison\n",
    "dataframes_static = {\n",
    "    \"baseline\": Test_Results_2024052802_Baseline,\n",
    "    \"v2\": test_output_v2_tester_2024_09_03_12_13_59,\n",
    "    \"v3\": test_output_v3_tester_2024_09_17_03_21_25,\n",
    "    \"v4\": test_output_v4_tester_2024_09_29_00_32_01,\n",
    "    \"v5\": test_output_v5_tester_2024_10_07_17_35_56\n",
    "}\n",
    "\n",
    "# Combine data for easier plotting\n",
    "all_data_static = []\n",
    "for version, df in dataframes_static.items():\n",
    "    df['version'] = version  # Add a column for version\n",
    "    all_data_static.append(df[['Column1.hit', 'Column1.hitRelevance', 'version']])\n",
    "\n",
    "# Concatenate all data into a single DataFrame\n",
    "combined_df_static = pd.concat(all_data_static)\n",
    "\n",
    "# Convert hit column to binary values (1 if hit, 0 if not) based on a threshold of 0.75\n",
    "combined_df_static['hit_binary'] = combined_df_static['Column1.hitRelevance'].apply(lambda x: 1 if x >= 0.75 else 0)\n",
    "\n",
    "# Create a box plot for Static Questions including the baseline\n",
    "fig_static = px.box(combined_df_static, \n",
    "                    x='version', \n",
    "                    y='Column1.hitRelevance', \n",
    "                    points='all',  # Show all data points\n",
    "                    title='Hit Relevance Distribution by Version (Tester Persona)',\n",
    "                    labels={'Column1.hitRelevance': 'Hit Relevance Score', 'version': 'Version'},\n",
    "                    color='version',  \n",
    "                    color_discrete_sequence=px.colors.qualitative.Set2)  # Use distinct color palette\n",
    "\n",
    "# Customize box plot aesthetics for bigger boxes and scatter points\n",
    "fig_static.update_traces(\n",
    "    boxmean=True,  # Show mean in each box\n",
    "    jitter=0.2,  # Reduce jitter for more space\n",
    "    pointpos=-1.5,  # Adjust point position closer to boxes\n",
    "    marker=dict(size=6, opacity=0.8),  # Increase marker size\n",
    "    width=0.4  # Increase box width\n",
    ")\n",
    "\n",
    "# Add horizontal lines for thresholds\n",
    "fig_static.add_shape(\n",
    "    type=\"line\", line_color=\"darkred\", line_width=2, opacity=0.7, \n",
    "    x0=-0.5, x1=4, y0=threshold_baseline_to_v4, y1=threshold_baseline_to_v4, \n",
    "    line_dash=\"dash\"\n",
    ")\n",
    "fig_static.add_shape(\n",
    "    type=\"line\", line_color=\"darkblue\", line_width=2, opacity=0.7, \n",
    "    x0=3, x1=5.5, y0=threshold_v5, y1=threshold_v5,  # Line starts after the v4 column\n",
    "    line_dash=\"dash\"\n",
    ")\n",
    "\n",
    "# Move the threshold text annotations to the right\n",
    "fig_static.add_annotation(\n",
    "    x=5, y=threshold_baseline_to_v4,\n",
    "    text=\"Threshold: 0.8\", showarrow=False, xshift=50, yshift=10,\n",
    "    font=dict(size=12, color=\"darkred\")\n",
    ")\n",
    "fig_static.add_annotation(\n",
    "    x=5, y=threshold_v5,\n",
    "    text=\"Threshold: 0.6\", showarrow=False, xshift=50, yshift=-10,\n",
    "    font=dict(size=12, color=\"darkblue\")\n",
    ")\n",
    "\n",
    "# Adjust layout for better spacing and visual clarity\n",
    "fig_static.update_layout(\n",
    "    xaxis_title='Version',\n",
    "    yaxis_title='Hit Relevance Score',\n",
    "    legend_title_text='Version',\n",
    "    font=dict(size=14, family='Arial'),  # Different font for readability\n",
    "    plot_bgcolor='#f7f7f7',  # Soft background for readability\n",
    "    title_font=dict(size=22, family='Times New Roman', color='darkblue'),  # Stylish title font\n",
    "    width=1000,  # Adjust width\n",
    "    height=650,  # Adjust height\n",
    "    margin=dict(t=70, l=60, r=40, b=60),\n",
    "    boxmode='group', \n",
    "    showlegend=True,  \n",
    "    yaxis=dict(showgrid=True, gridcolor='lightgray'),  # Add gridlines for clarity\n",
    "    bargap=0.15,  # Adjust gap between boxes\n",
    "    hovermode=\"closest\"  # Hovering shows closest point information\n",
    ")\n",
    "\n",
    "# Update hover template for better clarity\n",
    "fig_static.update_traces(\n",
    "    hovertemplate=\"<b>Version</b>: %{x}<br><b>Hit Relevance</b>: %{y}<br><b>Hit Binary</b>: %{customdata}\"\n",
    ")\n",
    "\n",
    "# Display the figure\n",
    "fig_static.show()\n"
   ]
  },
  {
   "cell_type": "markdown",
   "metadata": {},
   "source": [
    "#### Box Plot: Developer Persona all versions "
   ]
  },
  {
   "cell_type": "code",
   "execution_count": 7,
   "metadata": {},
   "outputs": [
    {
     "data": {
      "application/vnd.plotly.v1+json": {
       "config": {
        "plotlyServerURL": "https://plot.ly"
       },
       "data": [
        {
         "alignmentgroup": "True",
         "boxmean": true,
         "boxpoints": "all",
         "hovertemplate": "<b>Version</b>: %{x}<br><b>Hit Relevance</b>: %{y}<br><b>Hit Binary</b>: %{customdata}",
         "jitter": 0.2,
         "legendgroup": "baseline",
         "marker": {
          "color": "rgb(102,194,165)",
          "opacity": 0.8,
          "size": 6
         },
         "name": "baseline",
         "notched": false,
         "offsetgroup": "baseline",
         "orientation": "v",
         "pointpos": -1.5,
         "showlegend": true,
         "type": "box",
         "width": 0.4,
         "x": [
          "baseline",
          "baseline",
          "baseline",
          "baseline",
          "baseline",
          "baseline",
          "baseline",
          "baseline",
          "baseline",
          "baseline",
          "baseline",
          "baseline",
          "baseline",
          "baseline",
          "baseline",
          "baseline",
          "baseline",
          "baseline",
          "baseline",
          "baseline",
          "baseline",
          "baseline",
          "baseline",
          "baseline",
          "baseline",
          "baseline",
          "baseline",
          "baseline",
          "baseline",
          "baseline",
          "baseline",
          "baseline",
          "baseline",
          "baseline",
          "baseline",
          "baseline",
          "baseline",
          "baseline",
          "baseline",
          "baseline",
          "baseline",
          "baseline",
          "baseline",
          "baseline",
          "baseline",
          "baseline",
          "baseline",
          "baseline",
          "baseline",
          "baseline",
          "baseline",
          "baseline",
          "baseline",
          "baseline",
          "baseline",
          "baseline",
          "baseline",
          "baseline",
          "baseline",
          "baseline",
          "baseline",
          "baseline",
          "baseline",
          "baseline",
          "baseline",
          "baseline",
          "baseline",
          "baseline",
          "baseline",
          "baseline",
          "baseline",
          "baseline",
          "baseline",
          "baseline",
          "baseline",
          "baseline",
          "baseline",
          "baseline",
          "baseline",
          "baseline",
          "baseline",
          "baseline",
          "baseline",
          "baseline",
          "baseline",
          "baseline",
          "baseline",
          "baseline",
          "baseline",
          "baseline",
          "baseline",
          "baseline",
          "baseline",
          "baseline",
          "baseline",
          "baseline",
          "baseline",
          "baseline",
          "baseline"
         ],
         "x0": " ",
         "xaxis": "x",
         "y": [
          0.8784441145756917,
          0.8774876933819626,
          0.8746684526475066,
          0.8746424643210794,
          0.8672439394801955,
          0.8603153999309818,
          0.855133577099862,
          0.854684365530313,
          0.8545490013947185,
          0.8536750205786069,
          0.8501388581189828,
          0.8499660383782022,
          0.8470403662206168,
          0.8463422141715554,
          0.8454658353831477,
          0.8453736197417216,
          0.8451186188958659,
          0.8450729794568982,
          0.843996474043092,
          0.8417384332596856,
          0.8399934314279974,
          0.8382348105204843,
          0.8373992935457025,
          0.8361225308669625,
          0.8351752441648143,
          0.8343694018089332,
          0.8321899352349762,
          0.832155049588577,
          0.830248828676792,
          0.8295025892387569,
          0.8289186592390524,
          0.8288114265837756,
          0.8284027920639331,
          0.8273072353527722,
          0.8271236092473713,
          0.826975894551871,
          0.8265560599870281,
          0.825320371453267,
          0.8248481659124333,
          0.824346976359626,
          0.8229000166277352,
          0.8206292698708735,
          0.8198691672518295,
          0.8195897019982514,
          0.8194865396947004,
          0.8188920393542686,
          0.8167959019266425,
          0.8164857256712671,
          0.8159706347347968,
          0.8159293705435575,
          0.8157958553839585,
          0.8154986121078773,
          0.814084258399054,
          0.8117359799225621,
          0.8115161548623933,
          0.8111692492276386,
          0.8108709355131023,
          0.810498399917788,
          0.8101889348326631,
          0.8099605332098587,
          0.8092608604270364,
          0.8079074337556884,
          0.8078390308025816,
          0.8078210638903874,
          0.8077010144788173,
          0.8076098567585128,
          0.807204013767107,
          0.8067548407994568,
          0.8061181657940557,
          0.8060373413831154,
          0.8059647466331435,
          0.8049369563243841,
          0.8036939307668896,
          0.8025805035692839,
          0.8022600750793488,
          0.8012921522278786,
          0.8005338717485814,
          0.7993632539029342,
          0.7977609335991143,
          0.7977478616824621,
          0.7970567781996246,
          0.7960420128627206,
          0.7959482970504347,
          0.7948834305972643,
          0.794524347185814,
          0.7939856708447534,
          0.7937062140910492,
          0.7932719784138285,
          0.7918442800322498,
          0.7901422444482195,
          0.7889456502312663,
          0.7883422641059364,
          0.7872176322886016,
          0.7869777101688635,
          0.7856166825021259,
          0.7854434461911843,
          0.7812875857150219,
          0.7810471085440618,
          0.7763484036629806
         ],
         "y0": " ",
         "yaxis": "y"
        },
        {
         "alignmentgroup": "True",
         "boxmean": true,
         "boxpoints": "all",
         "hovertemplate": "<b>Version</b>: %{x}<br><b>Hit Relevance</b>: %{y}<br><b>Hit Binary</b>: %{customdata}",
         "jitter": 0.2,
         "legendgroup": "v2",
         "marker": {
          "color": "rgb(252,141,98)",
          "opacity": 0.8,
          "size": 6
         },
         "name": "v2",
         "notched": false,
         "offsetgroup": "v2",
         "orientation": "v",
         "pointpos": -1.5,
         "showlegend": true,
         "type": "box",
         "width": 0.4,
         "x": [
          "v2",
          "v2",
          "v2",
          "v2",
          "v2",
          "v2",
          "v2",
          "v2",
          "v2",
          "v2",
          "v2",
          "v2",
          "v2",
          "v2",
          "v2",
          "v2",
          "v2",
          "v2",
          "v2",
          "v2",
          "v2",
          "v2",
          "v2",
          "v2",
          "v2",
          "v2",
          "v2",
          "v2",
          "v2",
          "v2",
          "v2",
          "v2",
          "v2",
          "v2",
          "v2",
          "v2",
          "v2",
          "v2",
          "v2",
          "v2",
          "v2",
          "v2",
          "v2",
          "v2",
          "v2",
          "v2",
          "v2",
          "v2",
          "v2",
          "v2",
          "v2",
          "v2",
          "v2",
          "v2",
          "v2",
          "v2",
          "v2",
          "v2",
          "v2",
          "v2",
          "v2",
          "v2",
          "v2",
          "v2",
          "v2",
          "v2",
          "v2",
          "v2",
          "v2",
          "v2",
          "v2",
          "v2",
          "v2",
          "v2",
          "v2",
          "v2",
          "v2",
          "v2",
          "v2",
          "v2",
          "v2",
          "v2",
          "v2",
          "v2",
          "v2",
          "v2",
          "v2",
          "v2",
          "v2",
          "v2",
          "v2",
          "v2",
          "v2",
          "v2",
          "v2",
          "v2",
          "v2",
          "v2",
          "v2",
          "v2"
         ],
         "x0": " ",
         "xaxis": "x",
         "y": [
          0.884762210789768,
          0.9255372175185402,
          0.8830329232036519,
          0.8868939205244404,
          0.8799656617494899,
          0.8838257490641401,
          0.8791118466632416,
          0.888633030629863,
          0.8689339577679515,
          0.8409274873356855,
          0.8767504925375763,
          0.8392944831300012,
          0.840288432773151,
          0.8354236330105812,
          0.7869028287789468,
          0.7869028287789468,
          0.8276331333323734,
          0.8511220281168624,
          0.8655347456999489,
          0.8559985505411742,
          0.8304667821098717,
          0.7869028287789468,
          0.7869028287789468,
          0.8460681938457998,
          0.8822233487308441,
          0.85460654032204,
          0.8707019460116849,
          0.8083703954979202,
          0.8002329691843793,
          0.7869028287789468,
          0.7869028287789468,
          0.7869028287789468,
          0.8501232090339811,
          0.7869028287789468,
          0.8700154397996658,
          0.8311222570611649,
          0.8521720295761063,
          0.7869028287789468,
          0.8735925041588358,
          0.8083703954979202,
          0.8296160148885376,
          0.8178725886356714,
          0.8524499305394312,
          0.8203926740936641,
          0.8320366239387859,
          0.7869028287789468,
          0.8779126193979027,
          0.7869028287789468,
          0.8021703051073606,
          0.7869028287789468,
          0.8797013546473093,
          0.8083703954979202,
          0.8435304524376659,
          0.8178725886356714,
          0.8706138615015921,
          0.8229108009609454,
          0.831317130837995,
          0.7869028287789468,
          0.8700154397996658,
          0.7869028287789468,
          0.8316389768617164,
          0.7869028287789468,
          0.8735925041588358,
          0.8083703954979202,
          0.8547248148816857,
          0.8178725886356714,
          0.8524499305394312,
          0.8195337778231886,
          0.8524285623507801,
          0.7869028287789468,
          0.8779126193979027,
          0.7869028287789468,
          0.8398433105553023,
          0.7869028287789468,
          0.8794504271150948,
          0.8083703954979202,
          0.8278998306365615,
          0.8178725886356714,
          0.8706138615015921,
          0.8195337778231886,
          0.8244281571301671,
          0.7869028287789468,
          0.8700154397996658,
          0.7869028287789468,
          0.8201765125077526,
          0.7869028287789468,
          0.8736175080780997,
          0.8083703954979202,
          0.8319209908749522,
          0.8178725886356714,
          0.8524499305394312,
          0.8203926740936641,
          0.8501232090339811,
          0.7869028287789468,
          0.8779126193979027,
          0.7869028287789468,
          0.8398433105553023,
          0.7869028287789468,
          0.8794504271150948,
          0.8083703954979202
         ],
         "y0": " ",
         "yaxis": "y"
        },
        {
         "alignmentgroup": "True",
         "boxmean": true,
         "boxpoints": "all",
         "hovertemplate": "<b>Version</b>: %{x}<br><b>Hit Relevance</b>: %{y}<br><b>Hit Binary</b>: %{customdata}",
         "jitter": 0.2,
         "legendgroup": "v3",
         "marker": {
          "color": "rgb(141,160,203)",
          "opacity": 0.8,
          "size": 6
         },
         "name": "v3",
         "notched": false,
         "offsetgroup": "v3",
         "orientation": "v",
         "pointpos": -1.5,
         "showlegend": true,
         "type": "box",
         "width": 0.4,
         "x": [
          "v3",
          "v3",
          "v3",
          "v3",
          "v3",
          "v3",
          "v3",
          "v3",
          "v3",
          "v3",
          "v3",
          "v3",
          "v3",
          "v3",
          "v3",
          "v3",
          "v3",
          "v3",
          "v3",
          "v3",
          "v3",
          "v3",
          "v3",
          "v3",
          "v3",
          "v3",
          "v3",
          "v3",
          "v3",
          "v3",
          "v3",
          "v3",
          "v3",
          "v3",
          "v3",
          "v3",
          "v3",
          "v3",
          "v3",
          "v3",
          "v3",
          "v3",
          "v3",
          "v3",
          "v3",
          "v3",
          "v3",
          "v3",
          "v3",
          "v3",
          "v3",
          "v3",
          "v3",
          "v3",
          "v3",
          "v3",
          "v3",
          "v3",
          "v3",
          "v3",
          "v3",
          "v3",
          "v3",
          "v3",
          "v3",
          "v3",
          "v3",
          "v3",
          "v3",
          "v3",
          "v3",
          "v3",
          "v3",
          "v3",
          "v3",
          "v3",
          "v3",
          "v3",
          "v3",
          "v3",
          "v3",
          "v3",
          "v3",
          "v3",
          "v3",
          "v3",
          "v3",
          "v3",
          "v3",
          "v3",
          "v3",
          "v3",
          "v3",
          "v3",
          "v3",
          "v3",
          "v3",
          "v3",
          "v3",
          "v3",
          "v3"
         ],
         "x0": " ",
         "xaxis": "x",
         "y": [
          0.8083703954979202,
          0.9152736324291726,
          0.9220781627466824,
          0.8919654041985545,
          0.8646025685043087,
          0.8684299400878649,
          0.8410708974284912,
          0.8932484912086401,
          0.8713775953387568,
          0.8753026131666618,
          0.883293010464145,
          0.907260622876584,
          0.9042310985876056,
          0.8593273449943226,
          0.917807685559686,
          0.9058252128147471,
          0.8999378878316521,
          0.8596399084204615,
          0.8862892938537512,
          0.8778862001463288,
          0.8899879172874793,
          0.8341127343120772,
          0.8806008446770845,
          0.8948522290189048,
          0.9022007209199404,
          0.894825475188518,
          0.896891218323444,
          0.8995392649638773,
          0.8845488390221227,
          0.821629911253539,
          0.8620759495068129,
          0.9091842780842432,
          0.8391656608532361,
          0.8530286731580092,
          0.8857858096153653,
          0.8435408216872798,
          0.8476780675742053,
          0.8291727401476111,
          0.8897603787665008,
          0.889588499867617,
          0.85815213170492,
          0.8891488367082941,
          0.8950908060585238,
          0.8886161825454185,
          0.8867191327635875,
          0.8886146003374512,
          0.889587321486042,
          0.8864790937132252,
          0.8848824409054965,
          0.8776778117487706,
          0.8744849010151187,
          0.8687862641361138,
          0.8722236289679591,
          0.9118992132404868,
          0.8800241603515114,
          0.8877243474188323,
          0.8774532124892932,
          0.9021872763781562,
          0.8805877117774507,
          0.8670926343124354,
          0.9112557469473244,
          0.8918657088390336,
          0.8614235671924377,
          0.8941869231689,
          0.871648437712746,
          0.8905907806316963,
          0.8896449235867104,
          0.8529272048281984,
          0.9061196473101154,
          0.8660708616953184,
          0.8743646402436148,
          0.8852254756508622,
          0.8696521390207572,
          0.8631943606808961,
          0.8887832392086623,
          0.8649853324673193,
          0.8587217142437389,
          0.8765838902641002,
          0.8787546936976759,
          0.8699711351031423,
          0.8755434650927602,
          0.862841364636884,
          0.8793772842751083,
          0.8809250827899622,
          0.8661294594104632,
          0.826462147777373,
          0.8647893941155722,
          0.8810388167943792,
          0.8705134300133269,
          0.8423343659392963,
          0.8923963688337074,
          0.8540758230430909,
          0.873027655722822,
          0.8391914855447494,
          0.872466422157343,
          0.890655241706256,
          0.868197619711733,
          0.8680196670614673,
          0.884073630161455,
          0.8663658768092102,
          0.8919416564277105
         ],
         "y0": " ",
         "yaxis": "y"
        },
        {
         "alignmentgroup": "True",
         "boxmean": true,
         "boxpoints": "all",
         "hovertemplate": "<b>Version</b>: %{x}<br><b>Hit Relevance</b>: %{y}<br><b>Hit Binary</b>: %{customdata}",
         "jitter": 0.2,
         "legendgroup": "v4",
         "marker": {
          "color": "rgb(231,138,195)",
          "opacity": 0.8,
          "size": 6
         },
         "name": "v4",
         "notched": false,
         "offsetgroup": "v4",
         "orientation": "v",
         "pointpos": -1.5,
         "showlegend": true,
         "type": "box",
         "width": 0.4,
         "x": [
          "v4",
          "v4",
          "v4",
          "v4",
          "v4",
          "v4",
          "v4",
          "v4",
          "v4",
          "v4",
          "v4",
          "v4",
          "v4",
          "v4",
          "v4",
          "v4",
          "v4",
          "v4",
          "v4",
          "v4",
          "v4",
          "v4",
          "v4",
          "v4",
          "v4",
          "v4",
          "v4",
          "v4",
          "v4",
          "v4",
          "v4",
          "v4",
          "v4",
          "v4",
          "v4",
          "v4",
          "v4",
          "v4",
          "v4",
          "v4",
          "v4",
          "v4",
          "v4",
          "v4",
          "v4",
          "v4",
          "v4",
          "v4",
          "v4",
          "v4",
          "v4",
          "v4",
          "v4",
          "v4",
          "v4",
          "v4",
          "v4",
          "v4",
          "v4",
          "v4",
          "v4",
          "v4",
          "v4",
          "v4",
          "v4",
          "v4",
          "v4",
          "v4",
          "v4",
          "v4",
          "v4",
          "v4",
          "v4",
          "v4",
          "v4",
          "v4",
          "v4",
          "v4",
          "v4",
          "v4",
          "v4",
          "v4",
          "v4",
          "v4",
          "v4",
          "v4",
          "v4",
          "v4",
          "v4",
          "v4",
          "v4",
          "v4",
          "v4",
          "v4",
          "v4",
          "v4",
          "v4",
          "v4",
          "v4",
          "v4"
         ],
         "x0": " ",
         "xaxis": "x",
         "y": [
          0.9125490349735256,
          0.9170406985803092,
          0.8875982212877107,
          0.8613522262540781,
          0.872149323188163,
          0.8303637140800361,
          0.918313969608644,
          0.8700043594647302,
          0.92535528561219,
          0.8583819710497751,
          0.8999192428519139,
          0.858819883369749,
          0.8214523560132084,
          0.8106002055982614,
          0.808384891758673,
          0.8986578987944036,
          0.8634084470568473,
          0.8525247025648912,
          0.907260622876584,
          0.8949816626965765,
          0.87929871079386,
          0.8525710750967607,
          0.868392139451109,
          0.8727965657017537,
          0.8576930478307992,
          0.8626111019919999,
          0.8988737345862591,
          0.8680347375001467,
          0.8689158517535562,
          0.8780611384291408,
          0.8677586228467297,
          0.8851966152308883,
          0.906717627643286,
          0.8940908045725743,
          0.9148486679110098,
          0.8749926005977292,
          0.878880552083495,
          0.8781975541804852,
          0.8835755882376777,
          0.8957425782510202,
          0.885762491678952,
          0.8843664333476459,
          0.8945927881042208,
          0.8634093487686979,
          0.8548417013000003,
          0.8483066342935078,
          0.892257576572012,
          0.8651450565386686,
          0.8611956003588346,
          0.8875260412833762,
          0.8954760295267873,
          0.8925746774509729,
          0.8502996876444346,
          0.818756300488843,
          0.8183343139266107,
          0.8799350017855181,
          0.8153990064271667,
          0.827192133273515,
          0.8626868889682385,
          0.8667768751326128,
          0.8556137088506408,
          0.8746574453882523,
          0.8774923461575244,
          0.8903911454851037,
          0.860690197223264,
          0.8769667910547794,
          0.8703362422947982,
          0.8712658336405842,
          0.865108722348039,
          0.8595687062388213,
          0.878825694116521,
          0.8496436517836379,
          0.8883206195215161,
          0.8832981730113286,
          0.8459305817354134,
          0.8970883890016753,
          0.8608558725547802,
          0.8425493455753086,
          0.8581478847252264,
          0.8510613411169673,
          0.8602528692433901,
          0.8508760261320377,
          0.865903401046781,
          0.8636549268455518,
          0.8817146050014355,
          0.8737336955242804,
          0.8787765200107382,
          0.8751840893259993,
          0.8738807710378649,
          0.8856146243431875,
          0.8671077239455628,
          0.8798329313609885,
          0.8602289380071341,
          0.8646537586597216,
          0.8631306201667842,
          0.8734466852438502,
          0.8727960133351874,
          0.8765676198905805,
          0.8948008296396015,
          0.8612301603859128
         ],
         "y0": " ",
         "yaxis": "y"
        },
        {
         "alignmentgroup": "True",
         "boxmean": true,
         "boxpoints": "all",
         "hovertemplate": "<b>Version</b>: %{x}<br><b>Hit Relevance</b>: %{y}<br><b>Hit Binary</b>: %{customdata}",
         "jitter": 0.2,
         "legendgroup": "v5",
         "marker": {
          "color": "rgb(166,216,84)",
          "opacity": 0.8,
          "size": 6
         },
         "name": "v5",
         "notched": false,
         "offsetgroup": "v5",
         "orientation": "v",
         "pointpos": -1.5,
         "showlegend": true,
         "type": "box",
         "width": 0.4,
         "x": [
          "v5",
          "v5",
          "v5",
          "v5",
          "v5",
          "v5",
          "v5",
          "v5",
          "v5",
          "v5",
          "v5",
          "v5",
          "v5",
          "v5",
          "v5",
          "v5",
          "v5",
          "v5",
          "v5",
          "v5",
          "v5",
          "v5",
          "v5",
          "v5",
          "v5",
          "v5",
          "v5",
          "v5",
          "v5",
          "v5",
          "v5",
          "v5",
          "v5",
          "v5",
          "v5",
          "v5",
          "v5",
          "v5",
          "v5",
          "v5",
          "v5",
          "v5",
          "v5",
          "v5",
          "v5",
          "v5",
          "v5",
          "v5",
          "v5",
          "v5",
          "v5",
          "v5",
          "v5",
          "v5",
          "v5",
          "v5",
          "v5",
          "v5",
          "v5",
          "v5",
          "v5",
          "v5",
          "v5",
          "v5",
          "v5",
          "v5",
          "v5",
          "v5",
          "v5",
          "v5",
          "v5",
          "v5",
          "v5",
          "v5",
          "v5",
          "v5",
          "v5",
          "v5",
          "v5",
          "v5",
          "v5",
          "v5",
          "v5",
          "v5",
          "v5",
          "v5",
          "v5",
          "v5",
          "v5",
          "v5",
          "v5",
          "v5",
          "v5",
          "v5",
          "v5",
          "v5",
          "v5",
          "v5",
          "v5",
          "v5"
         ],
         "x0": " ",
         "xaxis": "x",
         "y": [
          0.5626848281895075,
          0.5379585911759426,
          0.551143131832724,
          0.5238279786707994,
          0.5627398559313014,
          0.5735894737479884,
          0.5702665686199596,
          0.6000674100955248,
          0.556392030995828,
          0.5668812426025432,
          0.46311535403615905,
          0.5430099234621252,
          0.4720799507036731,
          0.6343678716076319,
          0.4932027539035682,
          0.5152384064071143,
          0.5340488437987333,
          0.5825052192800249,
          0.62250269184828,
          0.6241840052825935,
          0.4798247780495428,
          0.4692487452689322,
          0.5255238992445165,
          0.5337444040157748,
          0.5521718026834296,
          0.6199276586452639,
          0.6129797826495775,
          0.4945173326579632,
          0.6057761299497958,
          0.5819327288004313,
          0.544422456053703,
          0.5669384808932681,
          0.5561001472829729,
          0.595362527175347,
          0.5753078914665821,
          0.6265954644896071,
          0.47986623690501984,
          0.6022262550799531,
          0.5767135999869816,
          0.5076654469780616,
          0.6570673410039699,
          0.4967044988060334,
          0.5701683607683296,
          0.49975844268256214,
          0.5712212337473397,
          0.4913629443906314,
          0.5616694263359545,
          0.5227730512714572,
          0.5357889012458162,
          0.6941451189180716,
          0.5925004063776605,
          0.5584558280351564,
          0.6121420202806211,
          0.6285864479880248,
          0.5868831952445831,
          0.5469053927620426,
          0.5234418658356943,
          0.622444443987347,
          0.589871335309441,
          0.4895847796162715,
          0.5472130984007476,
          0.5806793864764589,
          0.5833397669588367,
          0.5036418721159758,
          0.5377070778149224,
          0.6299056343177043,
          0.601486992775078,
          0.5380527712100321,
          0.5309427397281189,
          0.5758925880647775,
          0.5441272559185285,
          0.5237898721061909,
          0.5710894332390755,
          0.6317241326451314,
          0.5672205447249299,
          0.566391972031935,
          0.5241721949874862,
          0.6160908968282496,
          0.46178273846964,
          0.5332050561052482,
          0.5578101845477924,
          0.6077017477471107,
          0.5826147620277955,
          0.5668134088658006,
          0.5509320221617643,
          0.5769870470510097,
          0.5753389842943744,
          0.5228403047921816,
          0.6076729979228671,
          0.685084738445448,
          0.5213200631938628,
          0.5604809108882302,
          0.5234418658356943,
          0.6601224635294691,
          0.5616694263359545,
          0.547334315987066,
          0.5290356177360139,
          0.6352889417787004,
          0.565444617539338,
          0.5171719849408615
         ],
         "y0": " ",
         "yaxis": "y"
        }
       ],
       "layout": {
        "annotations": [
         {
          "font": {
           "color": "darkred",
           "size": 12
          },
          "showarrow": false,
          "text": "Threshold: 0.8",
          "x": 5,
          "xshift": 50,
          "y": 0.8,
          "yshift": 10
         },
         {
          "font": {
           "color": "darkblue",
           "size": 12
          },
          "showarrow": false,
          "text": "Threshold: 0.6",
          "x": 5,
          "xshift": 50,
          "y": 0.6,
          "yshift": -10
         }
        ],
        "bargap": 0.15,
        "boxmode": "group",
        "font": {
         "family": "Arial",
         "size": 14
        },
        "height": 650,
        "hovermode": "closest",
        "legend": {
         "title": {
          "text": "Version"
         },
         "tracegroupgap": 0
        },
        "margin": {
         "b": 60,
         "l": 60,
         "r": 40,
         "t": 70
        },
        "plot_bgcolor": "#f7f7f7",
        "shapes": [
         {
          "line": {
           "color": "darkred",
           "dash": "dash",
           "width": 2
          },
          "opacity": 0.7,
          "type": "line",
          "x0": -0.5,
          "x1": 4,
          "y0": 0.8,
          "y1": 0.8
         },
         {
          "line": {
           "color": "darkblue",
           "dash": "dash",
           "width": 2
          },
          "opacity": 0.7,
          "type": "line",
          "x0": 3,
          "x1": 5.5,
          "y0": 0.6,
          "y1": 0.6
         }
        ],
        "showlegend": true,
        "template": {
         "data": {
          "bar": [
           {
            "error_x": {
             "color": "#2a3f5f"
            },
            "error_y": {
             "color": "#2a3f5f"
            },
            "marker": {
             "line": {
              "color": "#E5ECF6",
              "width": 0.5
             },
             "pattern": {
              "fillmode": "overlay",
              "size": 10,
              "solidity": 0.2
             }
            },
            "type": "bar"
           }
          ],
          "barpolar": [
           {
            "marker": {
             "line": {
              "color": "#E5ECF6",
              "width": 0.5
             },
             "pattern": {
              "fillmode": "overlay",
              "size": 10,
              "solidity": 0.2
             }
            },
            "type": "barpolar"
           }
          ],
          "carpet": [
           {
            "aaxis": {
             "endlinecolor": "#2a3f5f",
             "gridcolor": "white",
             "linecolor": "white",
             "minorgridcolor": "white",
             "startlinecolor": "#2a3f5f"
            },
            "baxis": {
             "endlinecolor": "#2a3f5f",
             "gridcolor": "white",
             "linecolor": "white",
             "minorgridcolor": "white",
             "startlinecolor": "#2a3f5f"
            },
            "type": "carpet"
           }
          ],
          "choropleth": [
           {
            "colorbar": {
             "outlinewidth": 0,
             "ticks": ""
            },
            "type": "choropleth"
           }
          ],
          "contour": [
           {
            "colorbar": {
             "outlinewidth": 0,
             "ticks": ""
            },
            "colorscale": [
             [
              0,
              "#0d0887"
             ],
             [
              0.1111111111111111,
              "#46039f"
             ],
             [
              0.2222222222222222,
              "#7201a8"
             ],
             [
              0.3333333333333333,
              "#9c179e"
             ],
             [
              0.4444444444444444,
              "#bd3786"
             ],
             [
              0.5555555555555556,
              "#d8576b"
             ],
             [
              0.6666666666666666,
              "#ed7953"
             ],
             [
              0.7777777777777778,
              "#fb9f3a"
             ],
             [
              0.8888888888888888,
              "#fdca26"
             ],
             [
              1,
              "#f0f921"
             ]
            ],
            "type": "contour"
           }
          ],
          "contourcarpet": [
           {
            "colorbar": {
             "outlinewidth": 0,
             "ticks": ""
            },
            "type": "contourcarpet"
           }
          ],
          "heatmap": [
           {
            "colorbar": {
             "outlinewidth": 0,
             "ticks": ""
            },
            "colorscale": [
             [
              0,
              "#0d0887"
             ],
             [
              0.1111111111111111,
              "#46039f"
             ],
             [
              0.2222222222222222,
              "#7201a8"
             ],
             [
              0.3333333333333333,
              "#9c179e"
             ],
             [
              0.4444444444444444,
              "#bd3786"
             ],
             [
              0.5555555555555556,
              "#d8576b"
             ],
             [
              0.6666666666666666,
              "#ed7953"
             ],
             [
              0.7777777777777778,
              "#fb9f3a"
             ],
             [
              0.8888888888888888,
              "#fdca26"
             ],
             [
              1,
              "#f0f921"
             ]
            ],
            "type": "heatmap"
           }
          ],
          "heatmapgl": [
           {
            "colorbar": {
             "outlinewidth": 0,
             "ticks": ""
            },
            "colorscale": [
             [
              0,
              "#0d0887"
             ],
             [
              0.1111111111111111,
              "#46039f"
             ],
             [
              0.2222222222222222,
              "#7201a8"
             ],
             [
              0.3333333333333333,
              "#9c179e"
             ],
             [
              0.4444444444444444,
              "#bd3786"
             ],
             [
              0.5555555555555556,
              "#d8576b"
             ],
             [
              0.6666666666666666,
              "#ed7953"
             ],
             [
              0.7777777777777778,
              "#fb9f3a"
             ],
             [
              0.8888888888888888,
              "#fdca26"
             ],
             [
              1,
              "#f0f921"
             ]
            ],
            "type": "heatmapgl"
           }
          ],
          "histogram": [
           {
            "marker": {
             "pattern": {
              "fillmode": "overlay",
              "size": 10,
              "solidity": 0.2
             }
            },
            "type": "histogram"
           }
          ],
          "histogram2d": [
           {
            "colorbar": {
             "outlinewidth": 0,
             "ticks": ""
            },
            "colorscale": [
             [
              0,
              "#0d0887"
             ],
             [
              0.1111111111111111,
              "#46039f"
             ],
             [
              0.2222222222222222,
              "#7201a8"
             ],
             [
              0.3333333333333333,
              "#9c179e"
             ],
             [
              0.4444444444444444,
              "#bd3786"
             ],
             [
              0.5555555555555556,
              "#d8576b"
             ],
             [
              0.6666666666666666,
              "#ed7953"
             ],
             [
              0.7777777777777778,
              "#fb9f3a"
             ],
             [
              0.8888888888888888,
              "#fdca26"
             ],
             [
              1,
              "#f0f921"
             ]
            ],
            "type": "histogram2d"
           }
          ],
          "histogram2dcontour": [
           {
            "colorbar": {
             "outlinewidth": 0,
             "ticks": ""
            },
            "colorscale": [
             [
              0,
              "#0d0887"
             ],
             [
              0.1111111111111111,
              "#46039f"
             ],
             [
              0.2222222222222222,
              "#7201a8"
             ],
             [
              0.3333333333333333,
              "#9c179e"
             ],
             [
              0.4444444444444444,
              "#bd3786"
             ],
             [
              0.5555555555555556,
              "#d8576b"
             ],
             [
              0.6666666666666666,
              "#ed7953"
             ],
             [
              0.7777777777777778,
              "#fb9f3a"
             ],
             [
              0.8888888888888888,
              "#fdca26"
             ],
             [
              1,
              "#f0f921"
             ]
            ],
            "type": "histogram2dcontour"
           }
          ],
          "mesh3d": [
           {
            "colorbar": {
             "outlinewidth": 0,
             "ticks": ""
            },
            "type": "mesh3d"
           }
          ],
          "parcoords": [
           {
            "line": {
             "colorbar": {
              "outlinewidth": 0,
              "ticks": ""
             }
            },
            "type": "parcoords"
           }
          ],
          "pie": [
           {
            "automargin": true,
            "type": "pie"
           }
          ],
          "scatter": [
           {
            "fillpattern": {
             "fillmode": "overlay",
             "size": 10,
             "solidity": 0.2
            },
            "type": "scatter"
           }
          ],
          "scatter3d": [
           {
            "line": {
             "colorbar": {
              "outlinewidth": 0,
              "ticks": ""
             }
            },
            "marker": {
             "colorbar": {
              "outlinewidth": 0,
              "ticks": ""
             }
            },
            "type": "scatter3d"
           }
          ],
          "scattercarpet": [
           {
            "marker": {
             "colorbar": {
              "outlinewidth": 0,
              "ticks": ""
             }
            },
            "type": "scattercarpet"
           }
          ],
          "scattergeo": [
           {
            "marker": {
             "colorbar": {
              "outlinewidth": 0,
              "ticks": ""
             }
            },
            "type": "scattergeo"
           }
          ],
          "scattergl": [
           {
            "marker": {
             "colorbar": {
              "outlinewidth": 0,
              "ticks": ""
             }
            },
            "type": "scattergl"
           }
          ],
          "scattermapbox": [
           {
            "marker": {
             "colorbar": {
              "outlinewidth": 0,
              "ticks": ""
             }
            },
            "type": "scattermapbox"
           }
          ],
          "scatterpolar": [
           {
            "marker": {
             "colorbar": {
              "outlinewidth": 0,
              "ticks": ""
             }
            },
            "type": "scatterpolar"
           }
          ],
          "scatterpolargl": [
           {
            "marker": {
             "colorbar": {
              "outlinewidth": 0,
              "ticks": ""
             }
            },
            "type": "scatterpolargl"
           }
          ],
          "scatterternary": [
           {
            "marker": {
             "colorbar": {
              "outlinewidth": 0,
              "ticks": ""
             }
            },
            "type": "scatterternary"
           }
          ],
          "surface": [
           {
            "colorbar": {
             "outlinewidth": 0,
             "ticks": ""
            },
            "colorscale": [
             [
              0,
              "#0d0887"
             ],
             [
              0.1111111111111111,
              "#46039f"
             ],
             [
              0.2222222222222222,
              "#7201a8"
             ],
             [
              0.3333333333333333,
              "#9c179e"
             ],
             [
              0.4444444444444444,
              "#bd3786"
             ],
             [
              0.5555555555555556,
              "#d8576b"
             ],
             [
              0.6666666666666666,
              "#ed7953"
             ],
             [
              0.7777777777777778,
              "#fb9f3a"
             ],
             [
              0.8888888888888888,
              "#fdca26"
             ],
             [
              1,
              "#f0f921"
             ]
            ],
            "type": "surface"
           }
          ],
          "table": [
           {
            "cells": {
             "fill": {
              "color": "#EBF0F8"
             },
             "line": {
              "color": "white"
             }
            },
            "header": {
             "fill": {
              "color": "#C8D4E3"
             },
             "line": {
              "color": "white"
             }
            },
            "type": "table"
           }
          ]
         },
         "layout": {
          "annotationdefaults": {
           "arrowcolor": "#2a3f5f",
           "arrowhead": 0,
           "arrowwidth": 1
          },
          "autotypenumbers": "strict",
          "coloraxis": {
           "colorbar": {
            "outlinewidth": 0,
            "ticks": ""
           }
          },
          "colorscale": {
           "diverging": [
            [
             0,
             "#8e0152"
            ],
            [
             0.1,
             "#c51b7d"
            ],
            [
             0.2,
             "#de77ae"
            ],
            [
             0.3,
             "#f1b6da"
            ],
            [
             0.4,
             "#fde0ef"
            ],
            [
             0.5,
             "#f7f7f7"
            ],
            [
             0.6,
             "#e6f5d0"
            ],
            [
             0.7,
             "#b8e186"
            ],
            [
             0.8,
             "#7fbc41"
            ],
            [
             0.9,
             "#4d9221"
            ],
            [
             1,
             "#276419"
            ]
           ],
           "sequential": [
            [
             0,
             "#0d0887"
            ],
            [
             0.1111111111111111,
             "#46039f"
            ],
            [
             0.2222222222222222,
             "#7201a8"
            ],
            [
             0.3333333333333333,
             "#9c179e"
            ],
            [
             0.4444444444444444,
             "#bd3786"
            ],
            [
             0.5555555555555556,
             "#d8576b"
            ],
            [
             0.6666666666666666,
             "#ed7953"
            ],
            [
             0.7777777777777778,
             "#fb9f3a"
            ],
            [
             0.8888888888888888,
             "#fdca26"
            ],
            [
             1,
             "#f0f921"
            ]
           ],
           "sequentialminus": [
            [
             0,
             "#0d0887"
            ],
            [
             0.1111111111111111,
             "#46039f"
            ],
            [
             0.2222222222222222,
             "#7201a8"
            ],
            [
             0.3333333333333333,
             "#9c179e"
            ],
            [
             0.4444444444444444,
             "#bd3786"
            ],
            [
             0.5555555555555556,
             "#d8576b"
            ],
            [
             0.6666666666666666,
             "#ed7953"
            ],
            [
             0.7777777777777778,
             "#fb9f3a"
            ],
            [
             0.8888888888888888,
             "#fdca26"
            ],
            [
             1,
             "#f0f921"
            ]
           ]
          },
          "colorway": [
           "#636efa",
           "#EF553B",
           "#00cc96",
           "#ab63fa",
           "#FFA15A",
           "#19d3f3",
           "#FF6692",
           "#B6E880",
           "#FF97FF",
           "#FECB52"
          ],
          "font": {
           "color": "#2a3f5f"
          },
          "geo": {
           "bgcolor": "white",
           "lakecolor": "white",
           "landcolor": "#E5ECF6",
           "showlakes": true,
           "showland": true,
           "subunitcolor": "white"
          },
          "hoverlabel": {
           "align": "left"
          },
          "hovermode": "closest",
          "mapbox": {
           "style": "light"
          },
          "paper_bgcolor": "white",
          "plot_bgcolor": "#E5ECF6",
          "polar": {
           "angularaxis": {
            "gridcolor": "white",
            "linecolor": "white",
            "ticks": ""
           },
           "bgcolor": "#E5ECF6",
           "radialaxis": {
            "gridcolor": "white",
            "linecolor": "white",
            "ticks": ""
           }
          },
          "scene": {
           "xaxis": {
            "backgroundcolor": "#E5ECF6",
            "gridcolor": "white",
            "gridwidth": 2,
            "linecolor": "white",
            "showbackground": true,
            "ticks": "",
            "zerolinecolor": "white"
           },
           "yaxis": {
            "backgroundcolor": "#E5ECF6",
            "gridcolor": "white",
            "gridwidth": 2,
            "linecolor": "white",
            "showbackground": true,
            "ticks": "",
            "zerolinecolor": "white"
           },
           "zaxis": {
            "backgroundcolor": "#E5ECF6",
            "gridcolor": "white",
            "gridwidth": 2,
            "linecolor": "white",
            "showbackground": true,
            "ticks": "",
            "zerolinecolor": "white"
           }
          },
          "shapedefaults": {
           "line": {
            "color": "#2a3f5f"
           }
          },
          "ternary": {
           "aaxis": {
            "gridcolor": "white",
            "linecolor": "white",
            "ticks": ""
           },
           "baxis": {
            "gridcolor": "white",
            "linecolor": "white",
            "ticks": ""
           },
           "bgcolor": "#E5ECF6",
           "caxis": {
            "gridcolor": "white",
            "linecolor": "white",
            "ticks": ""
           }
          },
          "title": {
           "x": 0.05
          },
          "xaxis": {
           "automargin": true,
           "gridcolor": "white",
           "linecolor": "white",
           "ticks": "",
           "title": {
            "standoff": 15
           },
           "zerolinecolor": "white",
           "zerolinewidth": 2
          },
          "yaxis": {
           "automargin": true,
           "gridcolor": "white",
           "linecolor": "white",
           "ticks": "",
           "title": {
            "standoff": 15
           },
           "zerolinecolor": "white",
           "zerolinewidth": 2
          }
         }
        },
        "title": {
         "font": {
          "color": "darkblue",
          "family": "Times New Roman",
          "size": 22
         },
         "text": "Hit Relevance Distribution by Version (Developer Persona)"
        },
        "width": 1000,
        "xaxis": {
         "anchor": "y",
         "categoryarray": [
          "baseline",
          "v2",
          "v3",
          "v4",
          "v5"
         ],
         "categoryorder": "array",
         "domain": [
          0,
          1
         ],
         "title": {
          "text": "Version"
         }
        },
        "yaxis": {
         "anchor": "x",
         "domain": [
          0,
          1
         ],
         "gridcolor": "lightgray",
         "showgrid": true,
         "title": {
          "text": "Hit Relevance Score"
         }
        }
       }
      }
     },
     "metadata": {},
     "output_type": "display_data"
    }
   ],
   "source": [
    "\n",
    "# Dataframes for Developer Persona \n",
    "dataframes_developer = {\n",
    "    \"baseline\": Test_Results_2024052802_Baseline,\n",
    "    \"v2\": test_output_v2_developer_2024_09_03_12_10_22,\n",
    "    \"v3\": test_output_v3_developer_2024_0,\n",
    "    \"v4\": test_output_v4_developer_2024_09_28_21_45_10,\n",
    "    \"v5\": test_output_v5_businessanalyst_2024_10_07_17_55_42\n",
    "}\n",
    "\n",
    "# Combine data for easier plotting\n",
    "all_data_developer = []\n",
    "for version, df in dataframes_developer.items():\n",
    "    df['version'] = version  # Add a column for version\n",
    "    all_data_developer.append(df[['Column1.hit', 'Column1.hitRelevance', 'version']])\n",
    "\n",
    "# Concatenate all data into a single DataFrame\n",
    "combined_df_developer = pd.concat(all_data_developer)\n",
    "\n",
    "# Convert hit column to binary values (1 if hit, 0 if not) based on a threshold of 0.75\n",
    "combined_df_developer['hit_binary'] = combined_df_developer['Column1.hitRelevance'].apply(lambda x: 1 if x >= 0.75 else 0)\n",
    "\n",
    "# Create a box plot for Developer Persona\n",
    "fig_developer = px.box(combined_df_developer, \n",
    "                       x='version', \n",
    "                       y='Column1.hitRelevance', \n",
    "                       points='all',\n",
    "                       title='Hit Relevance Distribution by Version (Developer Persona)',\n",
    "                       labels={'Column1.hitRelevance': 'Hit Relevance Score', 'version': 'Version'},\n",
    "                       color='version',  \n",
    "                       color_discrete_sequence=px.colors.qualitative.Set2)\n",
    "\n",
    "# Customize box plot aesthetics\n",
    "fig_developer.update_traces(\n",
    "    boxmean=True,\n",
    "    jitter=0.2,\n",
    "    pointpos=-1.5,\n",
    "    marker=dict(size=6, opacity=0.8),\n",
    "    width=0.4\n",
    ")\n",
    "\n",
    "# Add horizontal lines for thresholds\n",
    "fig_developer.add_shape(\n",
    "    type=\"line\", line_color=\"darkred\", line_width=2, opacity=0.7, \n",
    "    x0=-0.5, x1=4, y0=threshold_baseline_to_v4, y1=threshold_baseline_to_v4, \n",
    "    line_dash=\"dash\"\n",
    ")\n",
    "fig_developer.add_shape(\n",
    "    type=\"line\", line_color=\"darkblue\", line_width=2, opacity=0.7, \n",
    "    x0=3, x1=5.5, y0=threshold_v5, y1=threshold_v5,\n",
    "    line_dash=\"dash\"\n",
    ")\n",
    "\n",
    "# Move the threshold text annotations to the right\n",
    "fig_developer.add_annotation(\n",
    "    x=5, y=threshold_baseline_to_v4,\n",
    "    text=\"Threshold: 0.8\", showarrow=False, xshift=50, yshift=10,\n",
    "    font=dict(size=12, color=\"darkred\")\n",
    ")\n",
    "fig_developer.add_annotation(\n",
    "    x=5, y=threshold_v5,\n",
    "    text=\"Threshold: 0.6\", showarrow=False, xshift=50, yshift=-10,\n",
    "    font=dict(size=12, color=\"darkblue\")\n",
    ")\n",
    "\n",
    "# Adjust layout\n",
    "fig_developer.update_layout(\n",
    "    xaxis_title='Version',\n",
    "    yaxis_title='Hit Relevance Score',\n",
    "    legend_title_text='Version',\n",
    "    font=dict(size=14, family='Arial'),\n",
    "    plot_bgcolor='#f7f7f7',\n",
    "    title_font=dict(size=22, family='Times New Roman', color='darkblue'),\n",
    "    width=1000,\n",
    "    height=650,\n",
    "    margin=dict(t=70, l=60, r=40, b=60),\n",
    "    boxmode='group',\n",
    "    showlegend=True,  \n",
    "    yaxis=dict(showgrid=True, gridcolor='lightgray'),\n",
    "    bargap=0.15,\n",
    "    hovermode=\"closest\"\n",
    ")\n",
    "\n",
    "# Update hover template\n",
    "fig_developer.update_traces(\n",
    "    hovertemplate=\"<b>Version</b>: %{x}<br><b>Hit Relevance</b>: %{y}<br><b>Hit Binary</b>: %{customdata}\"\n",
    ")\n",
    "\n",
    "# Display the figure\n",
    "fig_developer.show()\n"
   ]
  },
  {
   "cell_type": "markdown",
   "metadata": {},
   "source": [
    "#### Box Plot: Buisness Analyst Persona all versions "
   ]
  },
  {
   "cell_type": "code",
   "execution_count": 8,
   "metadata": {},
   "outputs": [
    {
     "data": {
      "application/vnd.plotly.v1+json": {
       "config": {
        "plotlyServerURL": "https://plot.ly"
       },
       "data": [
        {
         "alignmentgroup": "True",
         "boxmean": true,
         "boxpoints": "all",
         "hovertemplate": "<b>Version</b>: %{x}<br><b>Hit Relevance</b>: %{y}<br><b>Hit Binary</b>: %{customdata}",
         "jitter": 0.2,
         "legendgroup": "baseline",
         "marker": {
          "color": "rgb(102,194,165)",
          "opacity": 0.8,
          "size": 6
         },
         "name": "baseline",
         "notched": false,
         "offsetgroup": "baseline",
         "orientation": "v",
         "pointpos": -1.5,
         "showlegend": true,
         "type": "box",
         "width": 0.4,
         "x": [
          "baseline",
          "baseline",
          "baseline",
          "baseline",
          "baseline",
          "baseline",
          "baseline",
          "baseline",
          "baseline",
          "baseline",
          "baseline",
          "baseline",
          "baseline",
          "baseline",
          "baseline",
          "baseline",
          "baseline",
          "baseline",
          "baseline",
          "baseline",
          "baseline",
          "baseline",
          "baseline",
          "baseline",
          "baseline",
          "baseline",
          "baseline",
          "baseline",
          "baseline",
          "baseline",
          "baseline",
          "baseline",
          "baseline",
          "baseline",
          "baseline",
          "baseline",
          "baseline",
          "baseline",
          "baseline",
          "baseline",
          "baseline",
          "baseline",
          "baseline",
          "baseline",
          "baseline",
          "baseline",
          "baseline",
          "baseline",
          "baseline",
          "baseline",
          "baseline",
          "baseline",
          "baseline",
          "baseline",
          "baseline",
          "baseline",
          "baseline",
          "baseline",
          "baseline",
          "baseline",
          "baseline",
          "baseline",
          "baseline",
          "baseline",
          "baseline",
          "baseline",
          "baseline",
          "baseline",
          "baseline",
          "baseline",
          "baseline",
          "baseline",
          "baseline",
          "baseline",
          "baseline",
          "baseline",
          "baseline",
          "baseline",
          "baseline",
          "baseline",
          "baseline",
          "baseline",
          "baseline",
          "baseline",
          "baseline",
          "baseline",
          "baseline",
          "baseline",
          "baseline",
          "baseline",
          "baseline",
          "baseline",
          "baseline",
          "baseline",
          "baseline",
          "baseline",
          "baseline",
          "baseline",
          "baseline"
         ],
         "x0": " ",
         "xaxis": "x",
         "y": [
          0.8784441145756917,
          0.8774876933819626,
          0.8746684526475066,
          0.8746424643210794,
          0.8672439394801955,
          0.8603153999309818,
          0.855133577099862,
          0.854684365530313,
          0.8545490013947185,
          0.8536750205786069,
          0.8501388581189828,
          0.8499660383782022,
          0.8470403662206168,
          0.8463422141715554,
          0.8454658353831477,
          0.8453736197417216,
          0.8451186188958659,
          0.8450729794568982,
          0.843996474043092,
          0.8417384332596856,
          0.8399934314279974,
          0.8382348105204843,
          0.8373992935457025,
          0.8361225308669625,
          0.8351752441648143,
          0.8343694018089332,
          0.8321899352349762,
          0.832155049588577,
          0.830248828676792,
          0.8295025892387569,
          0.8289186592390524,
          0.8288114265837756,
          0.8284027920639331,
          0.8273072353527722,
          0.8271236092473713,
          0.826975894551871,
          0.8265560599870281,
          0.825320371453267,
          0.8248481659124333,
          0.824346976359626,
          0.8229000166277352,
          0.8206292698708735,
          0.8198691672518295,
          0.8195897019982514,
          0.8194865396947004,
          0.8188920393542686,
          0.8167959019266425,
          0.8164857256712671,
          0.8159706347347968,
          0.8159293705435575,
          0.8157958553839585,
          0.8154986121078773,
          0.814084258399054,
          0.8117359799225621,
          0.8115161548623933,
          0.8111692492276386,
          0.8108709355131023,
          0.810498399917788,
          0.8101889348326631,
          0.8099605332098587,
          0.8092608604270364,
          0.8079074337556884,
          0.8078390308025816,
          0.8078210638903874,
          0.8077010144788173,
          0.8076098567585128,
          0.807204013767107,
          0.8067548407994568,
          0.8061181657940557,
          0.8060373413831154,
          0.8059647466331435,
          0.8049369563243841,
          0.8036939307668896,
          0.8025805035692839,
          0.8022600750793488,
          0.8012921522278786,
          0.8005338717485814,
          0.7993632539029342,
          0.7977609335991143,
          0.7977478616824621,
          0.7970567781996246,
          0.7960420128627206,
          0.7959482970504347,
          0.7948834305972643,
          0.794524347185814,
          0.7939856708447534,
          0.7937062140910492,
          0.7932719784138285,
          0.7918442800322498,
          0.7901422444482195,
          0.7889456502312663,
          0.7883422641059364,
          0.7872176322886016,
          0.7869777101688635,
          0.7856166825021259,
          0.7854434461911843,
          0.7812875857150219,
          0.7810471085440618,
          0.7763484036629806
         ],
         "y0": " ",
         "yaxis": "y"
        },
        {
         "alignmentgroup": "True",
         "boxmean": true,
         "boxpoints": "all",
         "hovertemplate": "<b>Version</b>: %{x}<br><b>Hit Relevance</b>: %{y}<br><b>Hit Binary</b>: %{customdata}",
         "jitter": 0.2,
         "legendgroup": "v2",
         "marker": {
          "color": "rgb(252,141,98)",
          "opacity": 0.8,
          "size": 6
         },
         "name": "v2",
         "notched": false,
         "offsetgroup": "v2",
         "orientation": "v",
         "pointpos": -1.5,
         "showlegend": true,
         "type": "box",
         "width": 0.4,
         "x": [
          "v2",
          "v2",
          "v2",
          "v2",
          "v2",
          "v2",
          "v2",
          "v2",
          "v2",
          "v2",
          "v2",
          "v2",
          "v2",
          "v2",
          "v2",
          "v2",
          "v2",
          "v2",
          "v2",
          "v2",
          "v2",
          "v2",
          "v2",
          "v2",
          "v2",
          "v2",
          "v2",
          "v2",
          "v2",
          "v2",
          "v2",
          "v2",
          "v2",
          "v2",
          "v2",
          "v2",
          "v2",
          "v2",
          "v2",
          "v2",
          "v2",
          "v2",
          "v2",
          "v2",
          "v2",
          "v2",
          "v2",
          "v2",
          "v2",
          "v2",
          "v2",
          "v2",
          "v2",
          "v2",
          "v2",
          "v2",
          "v2",
          "v2",
          "v2",
          "v2",
          "v2",
          "v2",
          "v2",
          "v2",
          "v2",
          "v2",
          "v2",
          "v2",
          "v2",
          "v2",
          "v2",
          "v2",
          "v2",
          "v2",
          "v2",
          "v2",
          "v2",
          "v2",
          "v2",
          "v2",
          "v2",
          "v2",
          "v2",
          "v2",
          "v2",
          "v2",
          "v2",
          "v2",
          "v2",
          "v2",
          "v2",
          "v2",
          "v2",
          "v2",
          "v2",
          "v2",
          "v2",
          "v2",
          "v2",
          "v2"
         ],
         "x0": " ",
         "xaxis": "x",
         "y": [
          0.925781253398802,
          0.9002609443056855,
          0.8923076210489114,
          0.9009824042225856,
          0.8975995429338126,
          0.8964398186582996,
          0.8935559104483027,
          0.8918887561642863,
          0.7869028287789468,
          0.8982909147255994,
          0.8934098851833159,
          0.892624653364244,
          0.8885427869977558,
          0.9040159271277428,
          0.9000265481166451,
          0.8694697855639434,
          0.8863699448920073,
          0.7869028287789468,
          0.8710628351285689,
          0.8916591125458198,
          0.7869028287789468,
          0.7869028287789468,
          0.8707825197900287,
          0.9093757715592058,
          0.8906448337668644,
          0.7869028287789468,
          0.9039100474032608,
          0.8862728899488659,
          0.7869028287789468,
          0.8561247770309184,
          0.8854935210987919,
          0.8083703954979202,
          0.915025441593786,
          0.907898692918885,
          0.8760014188668405,
          0.892334230669809,
          0.7868719302070888,
          0.7869028287789468,
          0.8863341828352918,
          0.7869028287789468,
          0.8710634414323196,
          0.8922656628564806,
          0.8768367886636266,
          0.8865866297865846,
          0.8883348825145082,
          0.8802253087959571,
          0.8858399630511821,
          0.8083703954979202,
          0.8926115660595216,
          0.8914236932482871,
          0.7869028287789468,
          0.8680939611484357,
          0.7869028287789468,
          0.8879578456111935,
          0.8974754871374087,
          0.7869028287789468,
          0.8968822312779074,
          0.8929255310399842,
          0.7869028287789468,
          0.8671937593310913,
          0.7869028287789468,
          0.7869028287789468,
          0.8848897432714946,
          0.8083703954979202,
          0.8898011067416771,
          0.8876670198052422,
          0.7869028287789468,
          0.8694644280838495,
          0.8805220120799089,
          0.7869028287789468,
          0.8740941779487243,
          0.8761761520348712,
          0.8762019304139819,
          0.7869028287789468,
          0.7869028287789468,
          0.8900911835951897,
          0.7869028287789468,
          0.7869028287789468,
          0.8775940568900029,
          0.86379531251827,
          0.8855301645192643,
          0.8981586834057937,
          0.884907539838112,
          0.8849324913331528,
          0.7869028287789468,
          0.7869028287789468,
          0.7869028287789468,
          0.7869028287789468,
          0.7869028287789468,
          0.7869028287789468,
          0.8966778257324771,
          0.889176407759723,
          0.7869028287789468,
          0.7869028287789468,
          0.8812311564729811,
          0.8886670657691611,
          0.8977169480039757,
          0.7869028287789468,
          0.7869028287789468,
          0.8863498316574381
         ],
         "y0": " ",
         "yaxis": "y"
        },
        {
         "alignmentgroup": "True",
         "boxmean": true,
         "boxpoints": "all",
         "hovertemplate": "<b>Version</b>: %{x}<br><b>Hit Relevance</b>: %{y}<br><b>Hit Binary</b>: %{customdata}",
         "jitter": 0.2,
         "legendgroup": "v3",
         "marker": {
          "color": "rgb(141,160,203)",
          "opacity": 0.8,
          "size": 6
         },
         "name": "v3",
         "notched": false,
         "offsetgroup": "v3",
         "orientation": "v",
         "pointpos": -1.5,
         "showlegend": true,
         "type": "box",
         "width": 0.4,
         "x": [
          "v3",
          "v3",
          "v3",
          "v3",
          "v3",
          "v3",
          "v3",
          "v3",
          "v3",
          "v3",
          "v3",
          "v3",
          "v3",
          "v3",
          "v3",
          "v3",
          "v3",
          "v3",
          "v3",
          "v3",
          "v3",
          "v3",
          "v3",
          "v3",
          "v3",
          "v3",
          "v3",
          "v3",
          "v3",
          "v3",
          "v3",
          "v3",
          "v3",
          "v3",
          "v3",
          "v3",
          "v3",
          "v3",
          "v3",
          "v3",
          "v3",
          "v3",
          "v3",
          "v3",
          "v3",
          "v3",
          "v3",
          "v3",
          "v3",
          "v3",
          "v3",
          "v3",
          "v3",
          "v3",
          "v3",
          "v3",
          "v3",
          "v3",
          "v3",
          "v3",
          "v3",
          "v3",
          "v3",
          "v3",
          "v3",
          "v3",
          "v3",
          "v3",
          "v3",
          "v3",
          "v3",
          "v3",
          "v3",
          "v3",
          "v3",
          "v3",
          "v3",
          "v3",
          "v3",
          "v3",
          "v3",
          "v3",
          "v3",
          "v3",
          "v3",
          "v3",
          "v3",
          "v3",
          "v3",
          "v3",
          "v3",
          "v3",
          "v3",
          "v3",
          "v3",
          "v3",
          "v3",
          "v3",
          "v3",
          "v3",
          "v3",
          "v3"
         ],
         "x0": " ",
         "xaxis": "x",
         "y": [
          0.8083703954979202,
          0.8922157949973222,
          0.8627125308391278,
          0.8927656084074856,
          0.8680480283887906,
          0.8752072964985901,
          0.882606349073998,
          0.8756449656794494,
          0.8917887535987512,
          0.8698714333588377,
          0.8665365655503806,
          0.8784575913704322,
          0.8781499372442343,
          0.8778038374537495,
          0.8871434618638618,
          0.8624995291125448,
          0.8714035590068662,
          0.8572886687344675,
          0.8608911867889214,
          0.8673272514800682,
          0.8651265733442882,
          0.8688606386701758,
          0.8671674454850152,
          0.8623414764615384,
          0.8589999472916422,
          0.8695840670468553,
          0.8794848508548733,
          0.8636182598567884,
          0.868438050576924,
          0.8577477943397475,
          0.9034177736070896,
          0.8771152687881361,
          0.8760996817256078,
          0.886738048304303,
          0.8502206006568602,
          0.8730891759860584,
          0.865945713662144,
          0.8654853458412803,
          0.8878529946503262,
          0.8698219506725495,
          0.8666523432710432,
          0.8753512321260981,
          0.8595540236484995,
          0.8823739243174586,
          0.8633794548817899,
          0.8676806524330092,
          0.8986746626630971,
          0.8752930084557498,
          0.8652149089637972,
          0.8717871336928219,
          0.8520950961457613,
          0.8651183968116382,
          0.8632611721269834,
          0.8688996549986941,
          0.8871666733708379,
          0.8771540832771615,
          0.8755135782145451,
          0.855304018296137,
          0.8740861607494457,
          0.8715160476703527,
          0.8580392364132345,
          0.90093500325521,
          0.8695703198407729,
          0.8691827023424603,
          0.8627288485888357,
          0.8692050114788884,
          0.832082850517313,
          0.8691950566145152,
          0.8660306223172377,
          0.8670077087307453,
          0.891131840136674,
          0.8564870278688782,
          0.8589907344074318,
          0.8636887374385043,
          0.8956752642558031,
          0.8751370901659713,
          0.8616977836874531,
          0.8571829057958268,
          0.8787222928383385,
          0.8577372744846431,
          0.8634490897211897,
          0.843634210493448,
          0.8570131420631468,
          0.8643252704702808,
          0.8715347943067006,
          0.8647883914674903,
          0.8596463453308213,
          0.8612656918987714,
          0.8614656677430144,
          0.8698455527062033,
          0.8581509187048756,
          0.862983457293862,
          0.8598030411143744,
          0.8616180665041032,
          0.8876713660394968,
          0.8764562551071113,
          0.8622165505534747,
          0.8508665105936918,
          0.8599612009153524,
          0.8879865795491658,
          0.8632537350230334,
          0.8767119771350291
         ],
         "y0": " ",
         "yaxis": "y"
        },
        {
         "alignmentgroup": "True",
         "boxmean": true,
         "boxpoints": "all",
         "hovertemplate": "<b>Version</b>: %{x}<br><b>Hit Relevance</b>: %{y}<br><b>Hit Binary</b>: %{customdata}",
         "jitter": 0.2,
         "legendgroup": "v4",
         "marker": {
          "color": "rgb(231,138,195)",
          "opacity": 0.8,
          "size": 6
         },
         "name": "v4",
         "notched": false,
         "offsetgroup": "v4",
         "orientation": "v",
         "pointpos": -1.5,
         "showlegend": true,
         "type": "box",
         "width": 0.4,
         "x": [
          "v4",
          "v4",
          "v4",
          "v4",
          "v4",
          "v4",
          "v4",
          "v4",
          "v4",
          "v4",
          "v4",
          "v4",
          "v4",
          "v4",
          "v4",
          "v4",
          "v4",
          "v4",
          "v4",
          "v4",
          "v4",
          "v4",
          "v4",
          "v4",
          "v4",
          "v4",
          "v4",
          "v4",
          "v4",
          "v4",
          "v4",
          "v4",
          "v4",
          "v4",
          "v4",
          "v4",
          "v4",
          "v4",
          "v4",
          "v4",
          "v4",
          "v4",
          "v4",
          "v4",
          "v4",
          "v4",
          "v4",
          "v4",
          "v4",
          "v4",
          "v4",
          "v4",
          "v4",
          "v4",
          "v4",
          "v4",
          "v4",
          "v4",
          "v4",
          "v4",
          "v4",
          "v4",
          "v4",
          "v4",
          "v4",
          "v4",
          "v4",
          "v4",
          "v4",
          "v4",
          "v4",
          "v4",
          "v4",
          "v4",
          "v4",
          "v4",
          "v4",
          "v4",
          "v4",
          "v4",
          "v4",
          "v4",
          "v4",
          "v4",
          "v4",
          "v4",
          "v4",
          "v4",
          "v4",
          "v4",
          "v4",
          "v4",
          "v4",
          "v4",
          "v4",
          "v4",
          "v4",
          "v4",
          "v4",
          "v4"
         ],
         "x0": " ",
         "xaxis": "x",
         "y": [
          0.8697393910899545,
          0.8910156005838029,
          0.8866139743248748,
          0.8712542972899145,
          0.8547178182262136,
          0.8809798426081538,
          0.8826171764921442,
          0.8763143550833317,
          0.8820786260461465,
          0.8770315645885366,
          0.8719744836917137,
          0.8771554147673865,
          0.8660655581544457,
          0.8779393513495969,
          0.8645237813684424,
          0.8722487047510994,
          0.8803917538145132,
          0.8657214363044599,
          0.8861883097303953,
          0.8529383027534263,
          0.8867783332114516,
          0.8776052100146059,
          0.8695506982261886,
          0.8686979370335839,
          0.8738208911988398,
          0.8806341085920368,
          0.8693046585855314,
          0.8644568365434664,
          0.8362353005141436,
          0.8697623738263205,
          0.8795061898438358,
          0.8640161809765271,
          0.8744736702078131,
          0.8588736001970815,
          0.8500439600131373,
          0.8763068031035085,
          0.8727239897573158,
          0.8754567839677414,
          0.8664180332999974,
          0.8870388343929974,
          0.8546111518269639,
          0.8826670509752038,
          0.8755384750613422,
          0.8717186470509123,
          0.9022447145246832,
          0.8719407745789967,
          0.8496301637384719,
          0.8870685665873949,
          0.890957352947751,
          0.8786800109686976,
          0.8731266772130396,
          0.8740571985272786,
          0.8711884725348232,
          0.8712235947064113,
          0.8512300377213842,
          0.8637064923801302,
          0.8715299331141968,
          0.8602343436929818,
          0.8399536505317545,
          0.8843534907059679,
          0.8937898610434534,
          0.8522376801151742,
          0.8527080555800398,
          0.8709568017803936,
          0.8680092024074321,
          0.8708864364233855,
          0.8496568100899761,
          0.8903205793213386,
          0.8606270887344426,
          0.8734531100732879,
          0.8605399912427031,
          0.8645312415737277,
          0.8964109516806297,
          0.8927689803175661,
          0.8477074602007605,
          0.8794798849294259,
          0.8935462373131613,
          0.8686149201084529,
          0.8574269261228208,
          0.8823753922434641,
          0.8595540236484995,
          0.8649193206496718,
          0.8621846556469749,
          0.8760123065105768,
          0.8875328216970341,
          0.865959202388268,
          0.8496883132724933,
          0.8710211939116201,
          0.8570131420631468,
          0.8704455816044389,
          0.8688468078365978,
          0.8787342788760055,
          0.8783062388477221,
          0.8931297067217732,
          0.8583034521431591,
          0.8713679085396201,
          0.8596463453308213,
          0.864020434400735,
          0.8576267461340911,
          0.8772074922630392
         ],
         "y0": " ",
         "yaxis": "y"
        },
        {
         "alignmentgroup": "True",
         "boxmean": true,
         "boxpoints": "all",
         "hovertemplate": "<b>Version</b>: %{x}<br><b>Hit Relevance</b>: %{y}<br><b>Hit Binary</b>: %{customdata}",
         "jitter": 0.2,
         "legendgroup": "v5",
         "marker": {
          "color": "rgb(166,216,84)",
          "opacity": 0.8,
          "size": 6
         },
         "name": "v5",
         "notched": false,
         "offsetgroup": "v5",
         "orientation": "v",
         "pointpos": -1.5,
         "showlegend": true,
         "type": "box",
         "width": 0.4,
         "x": [
          "v5",
          "v5",
          "v5",
          "v5",
          "v5",
          "v5",
          "v5",
          "v5",
          "v5",
          "v5",
          "v5",
          "v5",
          "v5",
          "v5",
          "v5",
          "v5",
          "v5",
          "v5",
          "v5",
          "v5",
          "v5",
          "v5",
          "v5",
          "v5",
          "v5",
          "v5",
          "v5",
          "v5",
          "v5",
          "v5",
          "v5",
          "v5",
          "v5",
          "v5",
          "v5",
          "v5",
          "v5",
          "v5",
          "v5",
          "v5",
          "v5",
          "v5",
          "v5",
          "v5",
          "v5",
          "v5",
          "v5",
          "v5",
          "v5",
          "v5",
          "v5",
          "v5",
          "v5",
          "v5",
          "v5",
          "v5",
          "v5",
          "v5",
          "v5",
          "v5",
          "v5",
          "v5",
          "v5",
          "v5",
          "v5",
          "v5",
          "v5",
          "v5",
          "v5",
          "v5",
          "v5",
          "v5",
          "v5",
          "v5",
          "v5",
          "v5",
          "v5",
          "v5",
          "v5",
          "v5",
          "v5",
          "v5",
          "v5",
          "v5",
          "v5",
          "v5",
          "v5",
          "v5",
          "v5",
          "v5",
          "v5",
          "v5",
          "v5",
          "v5",
          "v5",
          "v5",
          "v5",
          "v5",
          "v5",
          "v5"
         ],
         "x0": " ",
         "xaxis": "x",
         "y": [
          0.5626848281895075,
          0.5379585911759426,
          0.551143131832724,
          0.5238279786707994,
          0.5627398559313014,
          0.5735894737479884,
          0.5702665686199596,
          0.6000674100955248,
          0.556392030995828,
          0.5668812426025432,
          0.46311535403615905,
          0.5430099234621252,
          0.4720799507036731,
          0.6343678716076319,
          0.4932027539035682,
          0.5152384064071143,
          0.5340488437987333,
          0.5825052192800249,
          0.62250269184828,
          0.6241840052825935,
          0.4798247780495428,
          0.4692487452689322,
          0.5255238992445165,
          0.5337444040157748,
          0.5521718026834296,
          0.6199276586452639,
          0.6129797826495775,
          0.4945173326579632,
          0.6057761299497958,
          0.5819327288004313,
          0.544422456053703,
          0.5669384808932681,
          0.5561001472829729,
          0.595362527175347,
          0.5753078914665821,
          0.6265954644896071,
          0.47986623690501984,
          0.6022262550799531,
          0.5767135999869816,
          0.5076654469780616,
          0.6570673410039699,
          0.4967044988060334,
          0.5701683607683296,
          0.49975844268256214,
          0.5712212337473397,
          0.4913629443906314,
          0.5616694263359545,
          0.5227730512714572,
          0.5357889012458162,
          0.6941451189180716,
          0.5925004063776605,
          0.5584558280351564,
          0.6121420202806211,
          0.6285864479880248,
          0.5868831952445831,
          0.5469053927620426,
          0.5234418658356943,
          0.622444443987347,
          0.589871335309441,
          0.4895847796162715,
          0.5472130984007476,
          0.5806793864764589,
          0.5833397669588367,
          0.5036418721159758,
          0.5377070778149224,
          0.6299056343177043,
          0.601486992775078,
          0.5380527712100321,
          0.5309427397281189,
          0.5758925880647775,
          0.5441272559185285,
          0.5237898721061909,
          0.5710894332390755,
          0.6317241326451314,
          0.5672205447249299,
          0.566391972031935,
          0.5241721949874862,
          0.6160908968282496,
          0.46178273846964,
          0.5332050561052482,
          0.5578101845477924,
          0.6077017477471107,
          0.5826147620277955,
          0.5668134088658006,
          0.5509320221617643,
          0.5769870470510097,
          0.5753389842943744,
          0.5228403047921816,
          0.6076729979228671,
          0.685084738445448,
          0.5213200631938628,
          0.5604809108882302,
          0.5234418658356943,
          0.6601224635294691,
          0.5616694263359545,
          0.547334315987066,
          0.5290356177360139,
          0.6352889417787004,
          0.565444617539338,
          0.5171719849408615
         ],
         "y0": " ",
         "yaxis": "y"
        }
       ],
       "layout": {
        "annotations": [
         {
          "font": {
           "color": "darkred",
           "size": 12
          },
          "showarrow": false,
          "text": "Threshold: 0.8",
          "x": 5,
          "xshift": 50,
          "y": 0.8,
          "yshift": 10
         },
         {
          "font": {
           "color": "darkblue",
           "size": 12
          },
          "showarrow": false,
          "text": "Threshold: 0.6",
          "x": 5,
          "xshift": 50,
          "y": 0.6,
          "yshift": -10
         }
        ],
        "bargap": 0.15,
        "boxmode": "group",
        "font": {
         "family": "Arial",
         "size": 14
        },
        "height": 650,
        "hovermode": "closest",
        "legend": {
         "title": {
          "text": "Version"
         },
         "tracegroupgap": 0
        },
        "margin": {
         "b": 60,
         "l": 60,
         "r": 40,
         "t": 70
        },
        "plot_bgcolor": "#f7f7f7",
        "shapes": [
         {
          "line": {
           "color": "darkred",
           "dash": "dash",
           "width": 2
          },
          "opacity": 0.7,
          "type": "line",
          "x0": -0.5,
          "x1": 4,
          "y0": 0.8,
          "y1": 0.8
         },
         {
          "line": {
           "color": "darkblue",
           "dash": "dash",
           "width": 2
          },
          "opacity": 0.7,
          "type": "line",
          "x0": 3,
          "x1": 5.5,
          "y0": 0.6,
          "y1": 0.6
         }
        ],
        "showlegend": true,
        "template": {
         "data": {
          "bar": [
           {
            "error_x": {
             "color": "#2a3f5f"
            },
            "error_y": {
             "color": "#2a3f5f"
            },
            "marker": {
             "line": {
              "color": "#E5ECF6",
              "width": 0.5
             },
             "pattern": {
              "fillmode": "overlay",
              "size": 10,
              "solidity": 0.2
             }
            },
            "type": "bar"
           }
          ],
          "barpolar": [
           {
            "marker": {
             "line": {
              "color": "#E5ECF6",
              "width": 0.5
             },
             "pattern": {
              "fillmode": "overlay",
              "size": 10,
              "solidity": 0.2
             }
            },
            "type": "barpolar"
           }
          ],
          "carpet": [
           {
            "aaxis": {
             "endlinecolor": "#2a3f5f",
             "gridcolor": "white",
             "linecolor": "white",
             "minorgridcolor": "white",
             "startlinecolor": "#2a3f5f"
            },
            "baxis": {
             "endlinecolor": "#2a3f5f",
             "gridcolor": "white",
             "linecolor": "white",
             "minorgridcolor": "white",
             "startlinecolor": "#2a3f5f"
            },
            "type": "carpet"
           }
          ],
          "choropleth": [
           {
            "colorbar": {
             "outlinewidth": 0,
             "ticks": ""
            },
            "type": "choropleth"
           }
          ],
          "contour": [
           {
            "colorbar": {
             "outlinewidth": 0,
             "ticks": ""
            },
            "colorscale": [
             [
              0,
              "#0d0887"
             ],
             [
              0.1111111111111111,
              "#46039f"
             ],
             [
              0.2222222222222222,
              "#7201a8"
             ],
             [
              0.3333333333333333,
              "#9c179e"
             ],
             [
              0.4444444444444444,
              "#bd3786"
             ],
             [
              0.5555555555555556,
              "#d8576b"
             ],
             [
              0.6666666666666666,
              "#ed7953"
             ],
             [
              0.7777777777777778,
              "#fb9f3a"
             ],
             [
              0.8888888888888888,
              "#fdca26"
             ],
             [
              1,
              "#f0f921"
             ]
            ],
            "type": "contour"
           }
          ],
          "contourcarpet": [
           {
            "colorbar": {
             "outlinewidth": 0,
             "ticks": ""
            },
            "type": "contourcarpet"
           }
          ],
          "heatmap": [
           {
            "colorbar": {
             "outlinewidth": 0,
             "ticks": ""
            },
            "colorscale": [
             [
              0,
              "#0d0887"
             ],
             [
              0.1111111111111111,
              "#46039f"
             ],
             [
              0.2222222222222222,
              "#7201a8"
             ],
             [
              0.3333333333333333,
              "#9c179e"
             ],
             [
              0.4444444444444444,
              "#bd3786"
             ],
             [
              0.5555555555555556,
              "#d8576b"
             ],
             [
              0.6666666666666666,
              "#ed7953"
             ],
             [
              0.7777777777777778,
              "#fb9f3a"
             ],
             [
              0.8888888888888888,
              "#fdca26"
             ],
             [
              1,
              "#f0f921"
             ]
            ],
            "type": "heatmap"
           }
          ],
          "heatmapgl": [
           {
            "colorbar": {
             "outlinewidth": 0,
             "ticks": ""
            },
            "colorscale": [
             [
              0,
              "#0d0887"
             ],
             [
              0.1111111111111111,
              "#46039f"
             ],
             [
              0.2222222222222222,
              "#7201a8"
             ],
             [
              0.3333333333333333,
              "#9c179e"
             ],
             [
              0.4444444444444444,
              "#bd3786"
             ],
             [
              0.5555555555555556,
              "#d8576b"
             ],
             [
              0.6666666666666666,
              "#ed7953"
             ],
             [
              0.7777777777777778,
              "#fb9f3a"
             ],
             [
              0.8888888888888888,
              "#fdca26"
             ],
             [
              1,
              "#f0f921"
             ]
            ],
            "type": "heatmapgl"
           }
          ],
          "histogram": [
           {
            "marker": {
             "pattern": {
              "fillmode": "overlay",
              "size": 10,
              "solidity": 0.2
             }
            },
            "type": "histogram"
           }
          ],
          "histogram2d": [
           {
            "colorbar": {
             "outlinewidth": 0,
             "ticks": ""
            },
            "colorscale": [
             [
              0,
              "#0d0887"
             ],
             [
              0.1111111111111111,
              "#46039f"
             ],
             [
              0.2222222222222222,
              "#7201a8"
             ],
             [
              0.3333333333333333,
              "#9c179e"
             ],
             [
              0.4444444444444444,
              "#bd3786"
             ],
             [
              0.5555555555555556,
              "#d8576b"
             ],
             [
              0.6666666666666666,
              "#ed7953"
             ],
             [
              0.7777777777777778,
              "#fb9f3a"
             ],
             [
              0.8888888888888888,
              "#fdca26"
             ],
             [
              1,
              "#f0f921"
             ]
            ],
            "type": "histogram2d"
           }
          ],
          "histogram2dcontour": [
           {
            "colorbar": {
             "outlinewidth": 0,
             "ticks": ""
            },
            "colorscale": [
             [
              0,
              "#0d0887"
             ],
             [
              0.1111111111111111,
              "#46039f"
             ],
             [
              0.2222222222222222,
              "#7201a8"
             ],
             [
              0.3333333333333333,
              "#9c179e"
             ],
             [
              0.4444444444444444,
              "#bd3786"
             ],
             [
              0.5555555555555556,
              "#d8576b"
             ],
             [
              0.6666666666666666,
              "#ed7953"
             ],
             [
              0.7777777777777778,
              "#fb9f3a"
             ],
             [
              0.8888888888888888,
              "#fdca26"
             ],
             [
              1,
              "#f0f921"
             ]
            ],
            "type": "histogram2dcontour"
           }
          ],
          "mesh3d": [
           {
            "colorbar": {
             "outlinewidth": 0,
             "ticks": ""
            },
            "type": "mesh3d"
           }
          ],
          "parcoords": [
           {
            "line": {
             "colorbar": {
              "outlinewidth": 0,
              "ticks": ""
             }
            },
            "type": "parcoords"
           }
          ],
          "pie": [
           {
            "automargin": true,
            "type": "pie"
           }
          ],
          "scatter": [
           {
            "fillpattern": {
             "fillmode": "overlay",
             "size": 10,
             "solidity": 0.2
            },
            "type": "scatter"
           }
          ],
          "scatter3d": [
           {
            "line": {
             "colorbar": {
              "outlinewidth": 0,
              "ticks": ""
             }
            },
            "marker": {
             "colorbar": {
              "outlinewidth": 0,
              "ticks": ""
             }
            },
            "type": "scatter3d"
           }
          ],
          "scattercarpet": [
           {
            "marker": {
             "colorbar": {
              "outlinewidth": 0,
              "ticks": ""
             }
            },
            "type": "scattercarpet"
           }
          ],
          "scattergeo": [
           {
            "marker": {
             "colorbar": {
              "outlinewidth": 0,
              "ticks": ""
             }
            },
            "type": "scattergeo"
           }
          ],
          "scattergl": [
           {
            "marker": {
             "colorbar": {
              "outlinewidth": 0,
              "ticks": ""
             }
            },
            "type": "scattergl"
           }
          ],
          "scattermapbox": [
           {
            "marker": {
             "colorbar": {
              "outlinewidth": 0,
              "ticks": ""
             }
            },
            "type": "scattermapbox"
           }
          ],
          "scatterpolar": [
           {
            "marker": {
             "colorbar": {
              "outlinewidth": 0,
              "ticks": ""
             }
            },
            "type": "scatterpolar"
           }
          ],
          "scatterpolargl": [
           {
            "marker": {
             "colorbar": {
              "outlinewidth": 0,
              "ticks": ""
             }
            },
            "type": "scatterpolargl"
           }
          ],
          "scatterternary": [
           {
            "marker": {
             "colorbar": {
              "outlinewidth": 0,
              "ticks": ""
             }
            },
            "type": "scatterternary"
           }
          ],
          "surface": [
           {
            "colorbar": {
             "outlinewidth": 0,
             "ticks": ""
            },
            "colorscale": [
             [
              0,
              "#0d0887"
             ],
             [
              0.1111111111111111,
              "#46039f"
             ],
             [
              0.2222222222222222,
              "#7201a8"
             ],
             [
              0.3333333333333333,
              "#9c179e"
             ],
             [
              0.4444444444444444,
              "#bd3786"
             ],
             [
              0.5555555555555556,
              "#d8576b"
             ],
             [
              0.6666666666666666,
              "#ed7953"
             ],
             [
              0.7777777777777778,
              "#fb9f3a"
             ],
             [
              0.8888888888888888,
              "#fdca26"
             ],
             [
              1,
              "#f0f921"
             ]
            ],
            "type": "surface"
           }
          ],
          "table": [
           {
            "cells": {
             "fill": {
              "color": "#EBF0F8"
             },
             "line": {
              "color": "white"
             }
            },
            "header": {
             "fill": {
              "color": "#C8D4E3"
             },
             "line": {
              "color": "white"
             }
            },
            "type": "table"
           }
          ]
         },
         "layout": {
          "annotationdefaults": {
           "arrowcolor": "#2a3f5f",
           "arrowhead": 0,
           "arrowwidth": 1
          },
          "autotypenumbers": "strict",
          "coloraxis": {
           "colorbar": {
            "outlinewidth": 0,
            "ticks": ""
           }
          },
          "colorscale": {
           "diverging": [
            [
             0,
             "#8e0152"
            ],
            [
             0.1,
             "#c51b7d"
            ],
            [
             0.2,
             "#de77ae"
            ],
            [
             0.3,
             "#f1b6da"
            ],
            [
             0.4,
             "#fde0ef"
            ],
            [
             0.5,
             "#f7f7f7"
            ],
            [
             0.6,
             "#e6f5d0"
            ],
            [
             0.7,
             "#b8e186"
            ],
            [
             0.8,
             "#7fbc41"
            ],
            [
             0.9,
             "#4d9221"
            ],
            [
             1,
             "#276419"
            ]
           ],
           "sequential": [
            [
             0,
             "#0d0887"
            ],
            [
             0.1111111111111111,
             "#46039f"
            ],
            [
             0.2222222222222222,
             "#7201a8"
            ],
            [
             0.3333333333333333,
             "#9c179e"
            ],
            [
             0.4444444444444444,
             "#bd3786"
            ],
            [
             0.5555555555555556,
             "#d8576b"
            ],
            [
             0.6666666666666666,
             "#ed7953"
            ],
            [
             0.7777777777777778,
             "#fb9f3a"
            ],
            [
             0.8888888888888888,
             "#fdca26"
            ],
            [
             1,
             "#f0f921"
            ]
           ],
           "sequentialminus": [
            [
             0,
             "#0d0887"
            ],
            [
             0.1111111111111111,
             "#46039f"
            ],
            [
             0.2222222222222222,
             "#7201a8"
            ],
            [
             0.3333333333333333,
             "#9c179e"
            ],
            [
             0.4444444444444444,
             "#bd3786"
            ],
            [
             0.5555555555555556,
             "#d8576b"
            ],
            [
             0.6666666666666666,
             "#ed7953"
            ],
            [
             0.7777777777777778,
             "#fb9f3a"
            ],
            [
             0.8888888888888888,
             "#fdca26"
            ],
            [
             1,
             "#f0f921"
            ]
           ]
          },
          "colorway": [
           "#636efa",
           "#EF553B",
           "#00cc96",
           "#ab63fa",
           "#FFA15A",
           "#19d3f3",
           "#FF6692",
           "#B6E880",
           "#FF97FF",
           "#FECB52"
          ],
          "font": {
           "color": "#2a3f5f"
          },
          "geo": {
           "bgcolor": "white",
           "lakecolor": "white",
           "landcolor": "#E5ECF6",
           "showlakes": true,
           "showland": true,
           "subunitcolor": "white"
          },
          "hoverlabel": {
           "align": "left"
          },
          "hovermode": "closest",
          "mapbox": {
           "style": "light"
          },
          "paper_bgcolor": "white",
          "plot_bgcolor": "#E5ECF6",
          "polar": {
           "angularaxis": {
            "gridcolor": "white",
            "linecolor": "white",
            "ticks": ""
           },
           "bgcolor": "#E5ECF6",
           "radialaxis": {
            "gridcolor": "white",
            "linecolor": "white",
            "ticks": ""
           }
          },
          "scene": {
           "xaxis": {
            "backgroundcolor": "#E5ECF6",
            "gridcolor": "white",
            "gridwidth": 2,
            "linecolor": "white",
            "showbackground": true,
            "ticks": "",
            "zerolinecolor": "white"
           },
           "yaxis": {
            "backgroundcolor": "#E5ECF6",
            "gridcolor": "white",
            "gridwidth": 2,
            "linecolor": "white",
            "showbackground": true,
            "ticks": "",
            "zerolinecolor": "white"
           },
           "zaxis": {
            "backgroundcolor": "#E5ECF6",
            "gridcolor": "white",
            "gridwidth": 2,
            "linecolor": "white",
            "showbackground": true,
            "ticks": "",
            "zerolinecolor": "white"
           }
          },
          "shapedefaults": {
           "line": {
            "color": "#2a3f5f"
           }
          },
          "ternary": {
           "aaxis": {
            "gridcolor": "white",
            "linecolor": "white",
            "ticks": ""
           },
           "baxis": {
            "gridcolor": "white",
            "linecolor": "white",
            "ticks": ""
           },
           "bgcolor": "#E5ECF6",
           "caxis": {
            "gridcolor": "white",
            "linecolor": "white",
            "ticks": ""
           }
          },
          "title": {
           "x": 0.05
          },
          "xaxis": {
           "automargin": true,
           "gridcolor": "white",
           "linecolor": "white",
           "ticks": "",
           "title": {
            "standoff": 15
           },
           "zerolinecolor": "white",
           "zerolinewidth": 2
          },
          "yaxis": {
           "automargin": true,
           "gridcolor": "white",
           "linecolor": "white",
           "ticks": "",
           "title": {
            "standoff": 15
           },
           "zerolinecolor": "white",
           "zerolinewidth": 2
          }
         }
        },
        "title": {
         "font": {
          "color": "darkblue",
          "family": "Times New Roman",
          "size": 22
         },
         "text": "Hit Relevance Distribution by Version (Business Analyst Persona)"
        },
        "width": 1000,
        "xaxis": {
         "anchor": "y",
         "categoryarray": [
          "baseline",
          "v2",
          "v3",
          "v4",
          "v5"
         ],
         "categoryorder": "array",
         "domain": [
          0,
          1
         ],
         "title": {
          "text": "Version"
         }
        },
        "yaxis": {
         "anchor": "x",
         "domain": [
          0,
          1
         ],
         "gridcolor": "lightgray",
         "showgrid": true,
         "title": {
          "text": "Hit Relevance Score"
         }
        }
       }
      }
     },
     "metadata": {},
     "output_type": "display_data"
    }
   ],
   "source": [
    "# Dataframes for Business Analyst Persona \n",
    "dataframes_ba = {\n",
    "    \"baseline\": Test_Results_2024052802_Baseline,\n",
    "    \"v2\": test_output_v2_businessanalyst_2024_09_03_12_17_34,\n",
    "    \"v3\": test_output_v3_businessanalyst_2024_09_17_03_35_43,\n",
    "    \"v4\": test_output_v4_businessanalyst_2024_09_29_01_42_36,\n",
    "    \"v5\": test_output_v5_businessanalyst_2024_10_07_17_55_42\n",
    "}\n",
    "\n",
    "# Combine data for easier plotting\n",
    "all_data_ba = []\n",
    "for version, df in dataframes_ba.items():\n",
    "    df['version'] = version  # Add a column for version\n",
    "    all_data_ba.append(df[['Column1.hit', 'Column1.hitRelevance', 'version']])\n",
    "\n",
    "# Concatenate all data into a single DataFrame\n",
    "combined_df_ba = pd.concat(all_data_ba)\n",
    "\n",
    "# Convert hit column to binary values (1 if hit, 0 if not) based on a threshold of 0.75\n",
    "combined_df_ba['hit_binary'] = combined_df_ba['Column1.hitRelevance'].apply(lambda x: 1 if x >= 0.75 else 0)\n",
    "\n",
    "# Create a box plot for Business Analyst Persona\n",
    "fig_ba = px.box(combined_df_ba, \n",
    "                x='version', \n",
    "                y='Column1.hitRelevance', \n",
    "                points='all', \n",
    "                title='Hit Relevance Distribution by Version (Business Analyst Persona)',\n",
    "                labels={'Column1.hitRelevance': 'Hit Relevance Score', 'version': 'Version'},\n",
    "                color='version',  \n",
    "                color_discrete_sequence=px.colors.qualitative.Set2)\n",
    "\n",
    "# Customize box plot aesthetics\n",
    "fig_ba.update_traces(\n",
    "    boxmean=True, \n",
    "    jitter=0.2, \n",
    "    pointpos=-1.5, \n",
    "    marker=dict(size=6, opacity=0.8), \n",
    "    width=0.4\n",
    ")\n",
    "\n",
    "# Add horizontal lines for thresholds\n",
    "fig_ba.add_shape(\n",
    "    type=\"line\", line_color=\"darkred\", line_width=2, opacity=0.7, \n",
    "    x0=-0.5, x1=4, y0=threshold_baseline_to_v4, y1=threshold_baseline_to_v4, \n",
    "    line_dash=\"dash\"\n",
    ")\n",
    "fig_ba.add_shape(\n",
    "    type=\"line\", line_color=\"darkblue\", line_width=2, opacity=0.7, \n",
    "    x0=3, x1=5.5, y0=threshold_v5, y1=threshold_v5,\n",
    "    line_dash=\"dash\"\n",
    ")\n",
    "\n",
    "# Move the threshold text annotations to the right\n",
    "fig_ba.add_annotation(\n",
    "    x=5, y=threshold_baseline_to_v4,\n",
    "    text=\"Threshold: 0.8\", showarrow=False, xshift=50, yshift=10,\n",
    "    font=dict(size=12, color=\"darkred\")\n",
    ")\n",
    "fig_ba.add_annotation(\n",
    "    x=5, y=threshold_v5,\n",
    "    text=\"Threshold: 0.6\", showarrow=False, xshift=50, yshift=-10,\n",
    "    font=dict(size=12, color=\"darkblue\")\n",
    ")\n",
    "\n",
    "# Adjust layout\n",
    "fig_ba.update_layout(\n",
    "    xaxis_title='Version',\n",
    "    yaxis_title='Hit Relevance Score',\n",
    "    legend_title_text='Version',\n",
    "    font=dict(size=14, family='Arial'),\n",
    "    plot_bgcolor='#f7f7f7',  \n",
    "    title_font=dict(size=22, family='Times New Roman', color='darkblue'),  \n",
    "    width=1000,\n",
    "    height=650,\n",
    "    margin=dict(t=70, l=60, r=40, b=60),\n",
    "    boxmode='group', \n",
    "    showlegend=True,  \n",
    "    yaxis=dict(showgrid=True, gridcolor='lightgray'),  \n",
    "    bargap=0.15,\n",
    "    hovermode=\"closest\"\n",
    ")\n",
    "\n",
    "# Update hover template\n",
    "fig_ba.update_traces(\n",
    "    hovertemplate=\"<b>Version</b>: %{x}<br><b>Hit Relevance</b>: %{y}<br><b>Hit Binary</b>: %{customdata}\"\n",
    ")\n",
    "\n",
    "# Display the figure\n",
    "fig_ba.show()\n"
   ]
  },
  {
   "cell_type": "markdown",
   "metadata": {},
   "source": [
    "## Visualizations Set 2: Grouped Bar Graphs (Gemini Evualation) "
   ]
  },
  {
   "cell_type": "code",
   "execution_count": 10,
   "metadata": {},
   "outputs": [],
   "source": [
    "dataframes_persona = {\n",
    "    \"static\": {\n",
    "        \"v4\": test_output_v4_nonetype_2024_09_28_21_30_03,\n",
    "        \"v5\": test_output_v5_nonetype_2024_10_07_18_04_26\n",
    "    },\n",
    "    \"developer\": {\n",
    "        \"v4\": test_output_v4_developer_2024_09_28_21_45_10,\n",
    "        \"v5\": test_output_v5_developer_2024_10_07_17_25_23\n",
    "    },\n",
    "    \"tester\": {\n",
    "        \"v4\": test_output_v4_tester_2024_09_29_00_32_01,\n",
    "        \"v5\": test_output_v5_tester_2024_10_07_17_35_56\n",
    "    },\n",
    "    \"business_analyst\": {\n",
    "        \"v4\": test_output_v4_businessanalyst_2024_09_29_01_42_36,\n",
    "        \"v5\": test_output_v5_businessanalyst_2024_10_07_17_55_42\n",
    "    }\n",
    "}\n",
    "\n",
    "# Define the color palette for Gemini scores (pastel colors)\n",
    "likert_colors = ['#FFB3BA', '#FFDFBA', '#BAFFC9', '#BAE1FF']  # Pastel shades for 1-4\n",
    "\n",
    "# Define score labels for the legend (with descriptions)\n",
    "score_labels = {\n",
    "    1: '1: Irrelevant or incoherent',\n",
    "    2: '2: Partially relevant but incomplete',\n",
    "    3: '3: Mostly relevant and coherent',\n",
    "    4: '4: Fully relevant and coherent'\n",
    "}\n",
    "\n",
    "# Function to create a visually enhanced grouped bar chart with mean scores for each persona\n",
    "def create_enhanced_gemini_chart(dataframes_persona, version):\n",
    "    # Prepare the layout for the visualization\n",
    "    fig = go.Figure()\n",
    "\n",
    "    personas = ['static', 'developer', 'business analyst', 'tester']  # Removed underscores\n",
    "    \n",
    "    # Iterate over each persona and plot the grouped bars\n",
    "    for i, persona in enumerate(personas):\n",
    "        df = dataframes_persona[persona.replace(' ', '_')][version]  # Replace spaces with underscores to match the data\n",
    "\n",
    "        # Calculate the mean score for each persona\n",
    "        mean_score = df['Column1.gemini_evaluation'].mean()\n",
    "        \n",
    "        # Calculate the counts for each score (1 to 4)\n",
    "        score_counts = df['Column1.gemini_evaluation'].value_counts().reindex([1, 2, 3, 4], fill_value=0).sort_index()\n",
    "\n",
    "        # Add a bar for each score (1 to 4) for this persona\n",
    "        for score, count in score_counts.items():\n",
    "            fig.add_trace(go.Bar(\n",
    "                x=[persona], y=[count], \n",
    "                name=score_labels[score],  # One legend for each score\n",
    "                marker_color=likert_colors[score-1],  # Pastel color for each score\n",
    "                hoverinfo='y+name',\n",
    "                text=f'Score: {score}, Count: {count}',\n",
    "                textposition='auto',\n",
    "                offsetgroup=score,  # Grouping the bars by score\n",
    "            ))\n",
    "        \n",
    "        # Add a text annotation for the mean score with proper spacing\n",
    "        fig.add_annotation(\n",
    "            x=persona,\n",
    "            y=max(score_counts) + 5,  # Position the annotation above the bars\n",
    "            text=f\"Mean: {mean_score:.2f}\",\n",
    "            showarrow=False,\n",
    "            font=dict(size=14, family='Arial', color='black')\n",
    "        )\n",
    "        \n",
    "        # Add vertical dashed line separators between personas\n",
    "        fig.add_shape(type=\"line\",\n",
    "                      x0=i + 0.5, x1=i + 0.5, y0=0, y1=max(score_counts) + 10,\n",
    "                      line=dict(color=\"gray\", dash=\"dash\", width=1.5),\n",
    "                      opacity=0.5)  # Translucent separator\n",
    "\n",
    "    # Customize the layout\n",
    "    fig.update_layout(\n",
    "        barmode='group',  # Group the bars instead of stacking\n",
    "        title={\n",
    "            'text': f'Gemini Score Distribution - {version.upper()}',\n",
    "            'y':0.95,\n",
    "            'x':0.5,\n",
    "            'xanchor': 'center',\n",
    "            'yanchor': 'top',\n",
    "            'font': {'size': 24, 'family': 'Times New Roman', 'color': 'darkblue'}\n",
    "        },\n",
    "        xaxis_title=\"Personas\",\n",
    "        yaxis_title=\"Count of Responses\",\n",
    "        legend_title=\"Gemini Evaluation Scale\",\n",
    "        font=dict(size=14),\n",
    "        title_font=dict(size=20),\n",
    "        plot_bgcolor='white',\n",
    "        height=600,\n",
    "        width=1200,  # Increased width to accommodate the legend\n",
    "        margin=dict(l=50, r=50, t=50, b=50)  # Adjust margins for better spacing\n",
    "    )\n",
    "    \n",
    "    # Update legend to show only 4 entries (1 per score)\n",
    "    fig.update_traces(showlegend=False)  # Hide individual legends\n",
    "    for score, color in score_labels.items():\n",
    "        fig.add_trace(go.Bar(\n",
    "            x=[None], y=[None],\n",
    "            marker_color=likert_colors[score-1],\n",
    "            name=score_labels[score],\n",
    "            showlegend=True\n",
    "        ))\n",
    "\n",
    "    # Show the figure\n",
    "    fig.show()\n",
    "\n",
    "\n"
   ]
  },
  {
   "cell_type": "markdown",
   "metadata": {},
   "source": []
  },
  {
   "cell_type": "code",
   "execution_count": 11,
   "metadata": {},
   "outputs": [
    {
     "data": {
      "application/vnd.plotly.v1+json": {
       "config": {
        "plotlyServerURL": "https://plot.ly"
       },
       "data": [
        {
         "hoverinfo": "y+name",
         "marker": {
          "color": "#FFB3BA"
         },
         "name": "1: Irrelevant or incoherent",
         "offsetgroup": "1",
         "showlegend": false,
         "text": "Score: 1, Count: 0",
         "textposition": "auto",
         "type": "bar",
         "x": [
          "static"
         ],
         "y": [
          0
         ]
        },
        {
         "hoverinfo": "y+name",
         "marker": {
          "color": "#FFDFBA"
         },
         "name": "2: Partially relevant but incomplete",
         "offsetgroup": "2",
         "showlegend": false,
         "text": "Score: 2, Count: 1",
         "textposition": "auto",
         "type": "bar",
         "x": [
          "static"
         ],
         "y": [
          1
         ]
        },
        {
         "hoverinfo": "y+name",
         "marker": {
          "color": "#BAFFC9"
         },
         "name": "3: Mostly relevant and coherent",
         "offsetgroup": "3",
         "showlegend": false,
         "text": "Score: 3, Count: 0",
         "textposition": "auto",
         "type": "bar",
         "x": [
          "static"
         ],
         "y": [
          0
         ]
        },
        {
         "hoverinfo": "y+name",
         "marker": {
          "color": "#BAE1FF"
         },
         "name": "4: Fully relevant and coherent",
         "offsetgroup": "4",
         "showlegend": false,
         "text": "Score: 4, Count: 98",
         "textposition": "auto",
         "type": "bar",
         "x": [
          "static"
         ],
         "y": [
          98
         ]
        },
        {
         "hoverinfo": "y+name",
         "marker": {
          "color": "#FFB3BA"
         },
         "name": "1: Irrelevant or incoherent",
         "offsetgroup": "1",
         "showlegend": false,
         "text": "Score: 1, Count: 3",
         "textposition": "auto",
         "type": "bar",
         "x": [
          "developer"
         ],
         "y": [
          3
         ]
        },
        {
         "hoverinfo": "y+name",
         "marker": {
          "color": "#FFDFBA"
         },
         "name": "2: Partially relevant but incomplete",
         "offsetgroup": "2",
         "showlegend": false,
         "text": "Score: 2, Count: 2",
         "textposition": "auto",
         "type": "bar",
         "x": [
          "developer"
         ],
         "y": [
          2
         ]
        },
        {
         "hoverinfo": "y+name",
         "marker": {
          "color": "#BAFFC9"
         },
         "name": "3: Mostly relevant and coherent",
         "offsetgroup": "3",
         "showlegend": false,
         "text": "Score: 3, Count: 0",
         "textposition": "auto",
         "type": "bar",
         "x": [
          "developer"
         ],
         "y": [
          0
         ]
        },
        {
         "hoverinfo": "y+name",
         "marker": {
          "color": "#BAE1FF"
         },
         "name": "4: Fully relevant and coherent",
         "offsetgroup": "4",
         "showlegend": false,
         "text": "Score: 4, Count: 95",
         "textposition": "auto",
         "type": "bar",
         "x": [
          "developer"
         ],
         "y": [
          95
         ]
        },
        {
         "hoverinfo": "y+name",
         "marker": {
          "color": "#FFB3BA"
         },
         "name": "1: Irrelevant or incoherent",
         "offsetgroup": "1",
         "showlegend": false,
         "text": "Score: 1, Count: 0",
         "textposition": "auto",
         "type": "bar",
         "x": [
          "business analyst"
         ],
         "y": [
          0
         ]
        },
        {
         "hoverinfo": "y+name",
         "marker": {
          "color": "#FFDFBA"
         },
         "name": "2: Partially relevant but incomplete",
         "offsetgroup": "2",
         "showlegend": false,
         "text": "Score: 2, Count: 0",
         "textposition": "auto",
         "type": "bar",
         "x": [
          "business analyst"
         ],
         "y": [
          0
         ]
        },
        {
         "hoverinfo": "y+name",
         "marker": {
          "color": "#BAFFC9"
         },
         "name": "3: Mostly relevant and coherent",
         "offsetgroup": "3",
         "showlegend": false,
         "text": "Score: 3, Count: 0",
         "textposition": "auto",
         "type": "bar",
         "x": [
          "business analyst"
         ],
         "y": [
          0
         ]
        },
        {
         "hoverinfo": "y+name",
         "marker": {
          "color": "#BAE1FF"
         },
         "name": "4: Fully relevant and coherent",
         "offsetgroup": "4",
         "showlegend": false,
         "text": "Score: 4, Count: 100",
         "textposition": "auto",
         "type": "bar",
         "x": [
          "business analyst"
         ],
         "y": [
          100
         ]
        },
        {
         "hoverinfo": "y+name",
         "marker": {
          "color": "#FFB3BA"
         },
         "name": "1: Irrelevant or incoherent",
         "offsetgroup": "1",
         "showlegend": false,
         "text": "Score: 1, Count: 16",
         "textposition": "auto",
         "type": "bar",
         "x": [
          "tester"
         ],
         "y": [
          16
         ]
        },
        {
         "hoverinfo": "y+name",
         "marker": {
          "color": "#FFDFBA"
         },
         "name": "2: Partially relevant but incomplete",
         "offsetgroup": "2",
         "showlegend": false,
         "text": "Score: 2, Count: 37",
         "textposition": "auto",
         "type": "bar",
         "x": [
          "tester"
         ],
         "y": [
          37
         ]
        },
        {
         "hoverinfo": "y+name",
         "marker": {
          "color": "#BAFFC9"
         },
         "name": "3: Mostly relevant and coherent",
         "offsetgroup": "3",
         "showlegend": false,
         "text": "Score: 3, Count: 0",
         "textposition": "auto",
         "type": "bar",
         "x": [
          "tester"
         ],
         "y": [
          0
         ]
        },
        {
         "hoverinfo": "y+name",
         "marker": {
          "color": "#BAE1FF"
         },
         "name": "4: Fully relevant and coherent",
         "offsetgroup": "4",
         "showlegend": false,
         "text": "Score: 4, Count: 47",
         "textposition": "auto",
         "type": "bar",
         "x": [
          "tester"
         ],
         "y": [
          47
         ]
        },
        {
         "marker": {
          "color": "#FFB3BA"
         },
         "name": "1: Irrelevant or incoherent",
         "showlegend": true,
         "type": "bar",
         "x": [
          null
         ],
         "y": [
          null
         ]
        },
        {
         "marker": {
          "color": "#FFDFBA"
         },
         "name": "2: Partially relevant but incomplete",
         "showlegend": true,
         "type": "bar",
         "x": [
          null
         ],
         "y": [
          null
         ]
        },
        {
         "marker": {
          "color": "#BAFFC9"
         },
         "name": "3: Mostly relevant and coherent",
         "showlegend": true,
         "type": "bar",
         "x": [
          null
         ],
         "y": [
          null
         ]
        },
        {
         "marker": {
          "color": "#BAE1FF"
         },
         "name": "4: Fully relevant and coherent",
         "showlegend": true,
         "type": "bar",
         "x": [
          null
         ],
         "y": [
          null
         ]
        }
       ],
       "layout": {
        "annotations": [
         {
          "font": {
           "color": "black",
           "family": "Arial",
           "size": 14
          },
          "showarrow": false,
          "text": "Mean: 3.98",
          "x": "static",
          "y": 103
         },
         {
          "font": {
           "color": "black",
           "family": "Arial",
           "size": 14
          },
          "showarrow": false,
          "text": "Mean: 3.87",
          "x": "developer",
          "y": 100
         },
         {
          "font": {
           "color": "black",
           "family": "Arial",
           "size": 14
          },
          "showarrow": false,
          "text": "Mean: 4.00",
          "x": "business analyst",
          "y": 105
         },
         {
          "font": {
           "color": "black",
           "family": "Arial",
           "size": 14
          },
          "showarrow": false,
          "text": "Mean: 2.78",
          "x": "tester",
          "y": 52
         }
        ],
        "barmode": "group",
        "font": {
         "size": 14
        },
        "height": 600,
        "legend": {
         "title": {
          "text": "Gemini Evaluation Scale"
         }
        },
        "margin": {
         "b": 50,
         "l": 50,
         "r": 50,
         "t": 50
        },
        "plot_bgcolor": "white",
        "shapes": [
         {
          "line": {
           "color": "gray",
           "dash": "dash",
           "width": 1.5
          },
          "opacity": 0.5,
          "type": "line",
          "x0": 0.5,
          "x1": 0.5,
          "y0": 0,
          "y1": 108
         },
         {
          "line": {
           "color": "gray",
           "dash": "dash",
           "width": 1.5
          },
          "opacity": 0.5,
          "type": "line",
          "x0": 1.5,
          "x1": 1.5,
          "y0": 0,
          "y1": 105
         },
         {
          "line": {
           "color": "gray",
           "dash": "dash",
           "width": 1.5
          },
          "opacity": 0.5,
          "type": "line",
          "x0": 2.5,
          "x1": 2.5,
          "y0": 0,
          "y1": 110
         },
         {
          "line": {
           "color": "gray",
           "dash": "dash",
           "width": 1.5
          },
          "opacity": 0.5,
          "type": "line",
          "x0": 3.5,
          "x1": 3.5,
          "y0": 0,
          "y1": 57
         }
        ],
        "template": {
         "data": {
          "bar": [
           {
            "error_x": {
             "color": "#2a3f5f"
            },
            "error_y": {
             "color": "#2a3f5f"
            },
            "marker": {
             "line": {
              "color": "#E5ECF6",
              "width": 0.5
             },
             "pattern": {
              "fillmode": "overlay",
              "size": 10,
              "solidity": 0.2
             }
            },
            "type": "bar"
           }
          ],
          "barpolar": [
           {
            "marker": {
             "line": {
              "color": "#E5ECF6",
              "width": 0.5
             },
             "pattern": {
              "fillmode": "overlay",
              "size": 10,
              "solidity": 0.2
             }
            },
            "type": "barpolar"
           }
          ],
          "carpet": [
           {
            "aaxis": {
             "endlinecolor": "#2a3f5f",
             "gridcolor": "white",
             "linecolor": "white",
             "minorgridcolor": "white",
             "startlinecolor": "#2a3f5f"
            },
            "baxis": {
             "endlinecolor": "#2a3f5f",
             "gridcolor": "white",
             "linecolor": "white",
             "minorgridcolor": "white",
             "startlinecolor": "#2a3f5f"
            },
            "type": "carpet"
           }
          ],
          "choropleth": [
           {
            "colorbar": {
             "outlinewidth": 0,
             "ticks": ""
            },
            "type": "choropleth"
           }
          ],
          "contour": [
           {
            "colorbar": {
             "outlinewidth": 0,
             "ticks": ""
            },
            "colorscale": [
             [
              0,
              "#0d0887"
             ],
             [
              0.1111111111111111,
              "#46039f"
             ],
             [
              0.2222222222222222,
              "#7201a8"
             ],
             [
              0.3333333333333333,
              "#9c179e"
             ],
             [
              0.4444444444444444,
              "#bd3786"
             ],
             [
              0.5555555555555556,
              "#d8576b"
             ],
             [
              0.6666666666666666,
              "#ed7953"
             ],
             [
              0.7777777777777778,
              "#fb9f3a"
             ],
             [
              0.8888888888888888,
              "#fdca26"
             ],
             [
              1,
              "#f0f921"
             ]
            ],
            "type": "contour"
           }
          ],
          "contourcarpet": [
           {
            "colorbar": {
             "outlinewidth": 0,
             "ticks": ""
            },
            "type": "contourcarpet"
           }
          ],
          "heatmap": [
           {
            "colorbar": {
             "outlinewidth": 0,
             "ticks": ""
            },
            "colorscale": [
             [
              0,
              "#0d0887"
             ],
             [
              0.1111111111111111,
              "#46039f"
             ],
             [
              0.2222222222222222,
              "#7201a8"
             ],
             [
              0.3333333333333333,
              "#9c179e"
             ],
             [
              0.4444444444444444,
              "#bd3786"
             ],
             [
              0.5555555555555556,
              "#d8576b"
             ],
             [
              0.6666666666666666,
              "#ed7953"
             ],
             [
              0.7777777777777778,
              "#fb9f3a"
             ],
             [
              0.8888888888888888,
              "#fdca26"
             ],
             [
              1,
              "#f0f921"
             ]
            ],
            "type": "heatmap"
           }
          ],
          "heatmapgl": [
           {
            "colorbar": {
             "outlinewidth": 0,
             "ticks": ""
            },
            "colorscale": [
             [
              0,
              "#0d0887"
             ],
             [
              0.1111111111111111,
              "#46039f"
             ],
             [
              0.2222222222222222,
              "#7201a8"
             ],
             [
              0.3333333333333333,
              "#9c179e"
             ],
             [
              0.4444444444444444,
              "#bd3786"
             ],
             [
              0.5555555555555556,
              "#d8576b"
             ],
             [
              0.6666666666666666,
              "#ed7953"
             ],
             [
              0.7777777777777778,
              "#fb9f3a"
             ],
             [
              0.8888888888888888,
              "#fdca26"
             ],
             [
              1,
              "#f0f921"
             ]
            ],
            "type": "heatmapgl"
           }
          ],
          "histogram": [
           {
            "marker": {
             "pattern": {
              "fillmode": "overlay",
              "size": 10,
              "solidity": 0.2
             }
            },
            "type": "histogram"
           }
          ],
          "histogram2d": [
           {
            "colorbar": {
             "outlinewidth": 0,
             "ticks": ""
            },
            "colorscale": [
             [
              0,
              "#0d0887"
             ],
             [
              0.1111111111111111,
              "#46039f"
             ],
             [
              0.2222222222222222,
              "#7201a8"
             ],
             [
              0.3333333333333333,
              "#9c179e"
             ],
             [
              0.4444444444444444,
              "#bd3786"
             ],
             [
              0.5555555555555556,
              "#d8576b"
             ],
             [
              0.6666666666666666,
              "#ed7953"
             ],
             [
              0.7777777777777778,
              "#fb9f3a"
             ],
             [
              0.8888888888888888,
              "#fdca26"
             ],
             [
              1,
              "#f0f921"
             ]
            ],
            "type": "histogram2d"
           }
          ],
          "histogram2dcontour": [
           {
            "colorbar": {
             "outlinewidth": 0,
             "ticks": ""
            },
            "colorscale": [
             [
              0,
              "#0d0887"
             ],
             [
              0.1111111111111111,
              "#46039f"
             ],
             [
              0.2222222222222222,
              "#7201a8"
             ],
             [
              0.3333333333333333,
              "#9c179e"
             ],
             [
              0.4444444444444444,
              "#bd3786"
             ],
             [
              0.5555555555555556,
              "#d8576b"
             ],
             [
              0.6666666666666666,
              "#ed7953"
             ],
             [
              0.7777777777777778,
              "#fb9f3a"
             ],
             [
              0.8888888888888888,
              "#fdca26"
             ],
             [
              1,
              "#f0f921"
             ]
            ],
            "type": "histogram2dcontour"
           }
          ],
          "mesh3d": [
           {
            "colorbar": {
             "outlinewidth": 0,
             "ticks": ""
            },
            "type": "mesh3d"
           }
          ],
          "parcoords": [
           {
            "line": {
             "colorbar": {
              "outlinewidth": 0,
              "ticks": ""
             }
            },
            "type": "parcoords"
           }
          ],
          "pie": [
           {
            "automargin": true,
            "type": "pie"
           }
          ],
          "scatter": [
           {
            "fillpattern": {
             "fillmode": "overlay",
             "size": 10,
             "solidity": 0.2
            },
            "type": "scatter"
           }
          ],
          "scatter3d": [
           {
            "line": {
             "colorbar": {
              "outlinewidth": 0,
              "ticks": ""
             }
            },
            "marker": {
             "colorbar": {
              "outlinewidth": 0,
              "ticks": ""
             }
            },
            "type": "scatter3d"
           }
          ],
          "scattercarpet": [
           {
            "marker": {
             "colorbar": {
              "outlinewidth": 0,
              "ticks": ""
             }
            },
            "type": "scattercarpet"
           }
          ],
          "scattergeo": [
           {
            "marker": {
             "colorbar": {
              "outlinewidth": 0,
              "ticks": ""
             }
            },
            "type": "scattergeo"
           }
          ],
          "scattergl": [
           {
            "marker": {
             "colorbar": {
              "outlinewidth": 0,
              "ticks": ""
             }
            },
            "type": "scattergl"
           }
          ],
          "scattermapbox": [
           {
            "marker": {
             "colorbar": {
              "outlinewidth": 0,
              "ticks": ""
             }
            },
            "type": "scattermapbox"
           }
          ],
          "scatterpolar": [
           {
            "marker": {
             "colorbar": {
              "outlinewidth": 0,
              "ticks": ""
             }
            },
            "type": "scatterpolar"
           }
          ],
          "scatterpolargl": [
           {
            "marker": {
             "colorbar": {
              "outlinewidth": 0,
              "ticks": ""
             }
            },
            "type": "scatterpolargl"
           }
          ],
          "scatterternary": [
           {
            "marker": {
             "colorbar": {
              "outlinewidth": 0,
              "ticks": ""
             }
            },
            "type": "scatterternary"
           }
          ],
          "surface": [
           {
            "colorbar": {
             "outlinewidth": 0,
             "ticks": ""
            },
            "colorscale": [
             [
              0,
              "#0d0887"
             ],
             [
              0.1111111111111111,
              "#46039f"
             ],
             [
              0.2222222222222222,
              "#7201a8"
             ],
             [
              0.3333333333333333,
              "#9c179e"
             ],
             [
              0.4444444444444444,
              "#bd3786"
             ],
             [
              0.5555555555555556,
              "#d8576b"
             ],
             [
              0.6666666666666666,
              "#ed7953"
             ],
             [
              0.7777777777777778,
              "#fb9f3a"
             ],
             [
              0.8888888888888888,
              "#fdca26"
             ],
             [
              1,
              "#f0f921"
             ]
            ],
            "type": "surface"
           }
          ],
          "table": [
           {
            "cells": {
             "fill": {
              "color": "#EBF0F8"
             },
             "line": {
              "color": "white"
             }
            },
            "header": {
             "fill": {
              "color": "#C8D4E3"
             },
             "line": {
              "color": "white"
             }
            },
            "type": "table"
           }
          ]
         },
         "layout": {
          "annotationdefaults": {
           "arrowcolor": "#2a3f5f",
           "arrowhead": 0,
           "arrowwidth": 1
          },
          "autotypenumbers": "strict",
          "coloraxis": {
           "colorbar": {
            "outlinewidth": 0,
            "ticks": ""
           }
          },
          "colorscale": {
           "diverging": [
            [
             0,
             "#8e0152"
            ],
            [
             0.1,
             "#c51b7d"
            ],
            [
             0.2,
             "#de77ae"
            ],
            [
             0.3,
             "#f1b6da"
            ],
            [
             0.4,
             "#fde0ef"
            ],
            [
             0.5,
             "#f7f7f7"
            ],
            [
             0.6,
             "#e6f5d0"
            ],
            [
             0.7,
             "#b8e186"
            ],
            [
             0.8,
             "#7fbc41"
            ],
            [
             0.9,
             "#4d9221"
            ],
            [
             1,
             "#276419"
            ]
           ],
           "sequential": [
            [
             0,
             "#0d0887"
            ],
            [
             0.1111111111111111,
             "#46039f"
            ],
            [
             0.2222222222222222,
             "#7201a8"
            ],
            [
             0.3333333333333333,
             "#9c179e"
            ],
            [
             0.4444444444444444,
             "#bd3786"
            ],
            [
             0.5555555555555556,
             "#d8576b"
            ],
            [
             0.6666666666666666,
             "#ed7953"
            ],
            [
             0.7777777777777778,
             "#fb9f3a"
            ],
            [
             0.8888888888888888,
             "#fdca26"
            ],
            [
             1,
             "#f0f921"
            ]
           ],
           "sequentialminus": [
            [
             0,
             "#0d0887"
            ],
            [
             0.1111111111111111,
             "#46039f"
            ],
            [
             0.2222222222222222,
             "#7201a8"
            ],
            [
             0.3333333333333333,
             "#9c179e"
            ],
            [
             0.4444444444444444,
             "#bd3786"
            ],
            [
             0.5555555555555556,
             "#d8576b"
            ],
            [
             0.6666666666666666,
             "#ed7953"
            ],
            [
             0.7777777777777778,
             "#fb9f3a"
            ],
            [
             0.8888888888888888,
             "#fdca26"
            ],
            [
             1,
             "#f0f921"
            ]
           ]
          },
          "colorway": [
           "#636efa",
           "#EF553B",
           "#00cc96",
           "#ab63fa",
           "#FFA15A",
           "#19d3f3",
           "#FF6692",
           "#B6E880",
           "#FF97FF",
           "#FECB52"
          ],
          "font": {
           "color": "#2a3f5f"
          },
          "geo": {
           "bgcolor": "white",
           "lakecolor": "white",
           "landcolor": "#E5ECF6",
           "showlakes": true,
           "showland": true,
           "subunitcolor": "white"
          },
          "hoverlabel": {
           "align": "left"
          },
          "hovermode": "closest",
          "mapbox": {
           "style": "light"
          },
          "paper_bgcolor": "white",
          "plot_bgcolor": "#E5ECF6",
          "polar": {
           "angularaxis": {
            "gridcolor": "white",
            "linecolor": "white",
            "ticks": ""
           },
           "bgcolor": "#E5ECF6",
           "radialaxis": {
            "gridcolor": "white",
            "linecolor": "white",
            "ticks": ""
           }
          },
          "scene": {
           "xaxis": {
            "backgroundcolor": "#E5ECF6",
            "gridcolor": "white",
            "gridwidth": 2,
            "linecolor": "white",
            "showbackground": true,
            "ticks": "",
            "zerolinecolor": "white"
           },
           "yaxis": {
            "backgroundcolor": "#E5ECF6",
            "gridcolor": "white",
            "gridwidth": 2,
            "linecolor": "white",
            "showbackground": true,
            "ticks": "",
            "zerolinecolor": "white"
           },
           "zaxis": {
            "backgroundcolor": "#E5ECF6",
            "gridcolor": "white",
            "gridwidth": 2,
            "linecolor": "white",
            "showbackground": true,
            "ticks": "",
            "zerolinecolor": "white"
           }
          },
          "shapedefaults": {
           "line": {
            "color": "#2a3f5f"
           }
          },
          "ternary": {
           "aaxis": {
            "gridcolor": "white",
            "linecolor": "white",
            "ticks": ""
           },
           "baxis": {
            "gridcolor": "white",
            "linecolor": "white",
            "ticks": ""
           },
           "bgcolor": "#E5ECF6",
           "caxis": {
            "gridcolor": "white",
            "linecolor": "white",
            "ticks": ""
           }
          },
          "title": {
           "x": 0.05
          },
          "xaxis": {
           "automargin": true,
           "gridcolor": "white",
           "linecolor": "white",
           "ticks": "",
           "title": {
            "standoff": 15
           },
           "zerolinecolor": "white",
           "zerolinewidth": 2
          },
          "yaxis": {
           "automargin": true,
           "gridcolor": "white",
           "linecolor": "white",
           "ticks": "",
           "title": {
            "standoff": 15
           },
           "zerolinecolor": "white",
           "zerolinewidth": 2
          }
         }
        },
        "title": {
         "font": {
          "color": "darkblue",
          "family": "Times New Roman",
          "size": 20
         },
         "text": "Gemini Score Distribution - V4",
         "x": 0.5,
         "xanchor": "center",
         "y": 0.95,
         "yanchor": "top"
        },
        "width": 1200,
        "xaxis": {
         "title": {
          "text": "Personas"
         }
        },
        "yaxis": {
         "title": {
          "text": "Count of Responses"
         }
        }
       }
      }
     },
     "metadata": {},
     "output_type": "display_data"
    }
   ],
   "source": [
    "# Create the enhanced chart for v4 (you can do the same for v5 by changing the version)\n",
    "create_enhanced_gemini_chart(dataframes_persona, 'v4')"
   ]
  },
  {
   "cell_type": "markdown",
   "metadata": {},
   "source": []
  },
  {
   "cell_type": "code",
   "execution_count": 12,
   "metadata": {},
   "outputs": [
    {
     "data": {
      "application/vnd.plotly.v1+json": {
       "config": {
        "plotlyServerURL": "https://plot.ly"
       },
       "data": [
        {
         "hoverinfo": "y+name",
         "marker": {
          "color": "#FFB3BA"
         },
         "name": "1: Irrelevant or incoherent",
         "offsetgroup": "1",
         "showlegend": false,
         "text": "Score: 1, Count: 0",
         "textposition": "auto",
         "type": "bar",
         "x": [
          "static"
         ],
         "y": [
          0
         ]
        },
        {
         "hoverinfo": "y+name",
         "marker": {
          "color": "#FFDFBA"
         },
         "name": "2: Partially relevant but incomplete",
         "offsetgroup": "2",
         "showlegend": false,
         "text": "Score: 2, Count: 0",
         "textposition": "auto",
         "type": "bar",
         "x": [
          "static"
         ],
         "y": [
          0
         ]
        },
        {
         "hoverinfo": "y+name",
         "marker": {
          "color": "#BAFFC9"
         },
         "name": "3: Mostly relevant and coherent",
         "offsetgroup": "3",
         "showlegend": false,
         "text": "Score: 3, Count: 1",
         "textposition": "auto",
         "type": "bar",
         "x": [
          "static"
         ],
         "y": [
          1
         ]
        },
        {
         "hoverinfo": "y+name",
         "marker": {
          "color": "#BAE1FF"
         },
         "name": "4: Fully relevant and coherent",
         "offsetgroup": "4",
         "showlegend": false,
         "text": "Score: 4, Count: 98",
         "textposition": "auto",
         "type": "bar",
         "x": [
          "static"
         ],
         "y": [
          98
         ]
        },
        {
         "hoverinfo": "y+name",
         "marker": {
          "color": "#FFB3BA"
         },
         "name": "1: Irrelevant or incoherent",
         "offsetgroup": "1",
         "showlegend": false,
         "text": "Score: 1, Count: 2",
         "textposition": "auto",
         "type": "bar",
         "x": [
          "developer"
         ],
         "y": [
          2
         ]
        },
        {
         "hoverinfo": "y+name",
         "marker": {
          "color": "#FFDFBA"
         },
         "name": "2: Partially relevant but incomplete",
         "offsetgroup": "2",
         "showlegend": false,
         "text": "Score: 2, Count: 15",
         "textposition": "auto",
         "type": "bar",
         "x": [
          "developer"
         ],
         "y": [
          15
         ]
        },
        {
         "hoverinfo": "y+name",
         "marker": {
          "color": "#BAFFC9"
         },
         "name": "3: Mostly relevant and coherent",
         "offsetgroup": "3",
         "showlegend": false,
         "text": "Score: 3, Count: 7",
         "textposition": "auto",
         "type": "bar",
         "x": [
          "developer"
         ],
         "y": [
          7
         ]
        },
        {
         "hoverinfo": "y+name",
         "marker": {
          "color": "#BAE1FF"
         },
         "name": "4: Fully relevant and coherent",
         "offsetgroup": "4",
         "showlegend": false,
         "text": "Score: 4, Count: 76",
         "textposition": "auto",
         "type": "bar",
         "x": [
          "developer"
         ],
         "y": [
          76
         ]
        },
        {
         "hoverinfo": "y+name",
         "marker": {
          "color": "#FFB3BA"
         },
         "name": "1: Irrelevant or incoherent",
         "offsetgroup": "1",
         "showlegend": false,
         "text": "Score: 1, Count: 0",
         "textposition": "auto",
         "type": "bar",
         "x": [
          "business analyst"
         ],
         "y": [
          0
         ]
        },
        {
         "hoverinfo": "y+name",
         "marker": {
          "color": "#FFDFBA"
         },
         "name": "2: Partially relevant but incomplete",
         "offsetgroup": "2",
         "showlegend": false,
         "text": "Score: 2, Count: 0",
         "textposition": "auto",
         "type": "bar",
         "x": [
          "business analyst"
         ],
         "y": [
          0
         ]
        },
        {
         "hoverinfo": "y+name",
         "marker": {
          "color": "#BAFFC9"
         },
         "name": "3: Mostly relevant and coherent",
         "offsetgroup": "3",
         "showlegend": false,
         "text": "Score: 3, Count: 0",
         "textposition": "auto",
         "type": "bar",
         "x": [
          "business analyst"
         ],
         "y": [
          0
         ]
        },
        {
         "hoverinfo": "y+name",
         "marker": {
          "color": "#BAE1FF"
         },
         "name": "4: Fully relevant and coherent",
         "offsetgroup": "4",
         "showlegend": false,
         "text": "Score: 4, Count: 100",
         "textposition": "auto",
         "type": "bar",
         "x": [
          "business analyst"
         ],
         "y": [
          100
         ]
        },
        {
         "hoverinfo": "y+name",
         "marker": {
          "color": "#FFB3BA"
         },
         "name": "1: Irrelevant or incoherent",
         "offsetgroup": "1",
         "showlegend": false,
         "text": "Score: 1, Count: 2",
         "textposition": "auto",
         "type": "bar",
         "x": [
          "tester"
         ],
         "y": [
          2
         ]
        },
        {
         "hoverinfo": "y+name",
         "marker": {
          "color": "#FFDFBA"
         },
         "name": "2: Partially relevant but incomplete",
         "offsetgroup": "2",
         "showlegend": false,
         "text": "Score: 2, Count: 0",
         "textposition": "auto",
         "type": "bar",
         "x": [
          "tester"
         ],
         "y": [
          0
         ]
        },
        {
         "hoverinfo": "y+name",
         "marker": {
          "color": "#BAFFC9"
         },
         "name": "3: Mostly relevant and coherent",
         "offsetgroup": "3",
         "showlegend": false,
         "text": "Score: 3, Count: 3",
         "textposition": "auto",
         "type": "bar",
         "x": [
          "tester"
         ],
         "y": [
          3
         ]
        },
        {
         "hoverinfo": "y+name",
         "marker": {
          "color": "#BAE1FF"
         },
         "name": "4: Fully relevant and coherent",
         "offsetgroup": "4",
         "showlegend": false,
         "text": "Score: 4, Count: 95",
         "textposition": "auto",
         "type": "bar",
         "x": [
          "tester"
         ],
         "y": [
          95
         ]
        },
        {
         "marker": {
          "color": "#FFB3BA"
         },
         "name": "1: Irrelevant or incoherent",
         "showlegend": true,
         "type": "bar",
         "x": [
          null
         ],
         "y": [
          null
         ]
        },
        {
         "marker": {
          "color": "#FFDFBA"
         },
         "name": "2: Partially relevant but incomplete",
         "showlegend": true,
         "type": "bar",
         "x": [
          null
         ],
         "y": [
          null
         ]
        },
        {
         "marker": {
          "color": "#BAFFC9"
         },
         "name": "3: Mostly relevant and coherent",
         "showlegend": true,
         "type": "bar",
         "x": [
          null
         ],
         "y": [
          null
         ]
        },
        {
         "marker": {
          "color": "#BAE1FF"
         },
         "name": "4: Fully relevant and coherent",
         "showlegend": true,
         "type": "bar",
         "x": [
          null
         ],
         "y": [
          null
         ]
        }
       ],
       "layout": {
        "annotations": [
         {
          "font": {
           "color": "black",
           "family": "Arial",
           "size": 14
          },
          "showarrow": false,
          "text": "Mean: 3.99",
          "x": "static",
          "y": 103
         },
         {
          "font": {
           "color": "black",
           "family": "Arial",
           "size": 14
          },
          "showarrow": false,
          "text": "Mean: 3.57",
          "x": "developer",
          "y": 81
         },
         {
          "font": {
           "color": "black",
           "family": "Arial",
           "size": 14
          },
          "showarrow": false,
          "text": "Mean: 4.00",
          "x": "business analyst",
          "y": 105
         },
         {
          "font": {
           "color": "black",
           "family": "Arial",
           "size": 14
          },
          "showarrow": false,
          "text": "Mean: 3.91",
          "x": "tester",
          "y": 100
         }
        ],
        "barmode": "group",
        "font": {
         "size": 14
        },
        "height": 600,
        "legend": {
         "title": {
          "text": "Gemini Evaluation Scale"
         }
        },
        "margin": {
         "b": 50,
         "l": 50,
         "r": 50,
         "t": 50
        },
        "plot_bgcolor": "white",
        "shapes": [
         {
          "line": {
           "color": "gray",
           "dash": "dash",
           "width": 1.5
          },
          "opacity": 0.5,
          "type": "line",
          "x0": 0.5,
          "x1": 0.5,
          "y0": 0,
          "y1": 108
         },
         {
          "line": {
           "color": "gray",
           "dash": "dash",
           "width": 1.5
          },
          "opacity": 0.5,
          "type": "line",
          "x0": 1.5,
          "x1": 1.5,
          "y0": 0,
          "y1": 86
         },
         {
          "line": {
           "color": "gray",
           "dash": "dash",
           "width": 1.5
          },
          "opacity": 0.5,
          "type": "line",
          "x0": 2.5,
          "x1": 2.5,
          "y0": 0,
          "y1": 110
         },
         {
          "line": {
           "color": "gray",
           "dash": "dash",
           "width": 1.5
          },
          "opacity": 0.5,
          "type": "line",
          "x0": 3.5,
          "x1": 3.5,
          "y0": 0,
          "y1": 105
         }
        ],
        "template": {
         "data": {
          "bar": [
           {
            "error_x": {
             "color": "#2a3f5f"
            },
            "error_y": {
             "color": "#2a3f5f"
            },
            "marker": {
             "line": {
              "color": "#E5ECF6",
              "width": 0.5
             },
             "pattern": {
              "fillmode": "overlay",
              "size": 10,
              "solidity": 0.2
             }
            },
            "type": "bar"
           }
          ],
          "barpolar": [
           {
            "marker": {
             "line": {
              "color": "#E5ECF6",
              "width": 0.5
             },
             "pattern": {
              "fillmode": "overlay",
              "size": 10,
              "solidity": 0.2
             }
            },
            "type": "barpolar"
           }
          ],
          "carpet": [
           {
            "aaxis": {
             "endlinecolor": "#2a3f5f",
             "gridcolor": "white",
             "linecolor": "white",
             "minorgridcolor": "white",
             "startlinecolor": "#2a3f5f"
            },
            "baxis": {
             "endlinecolor": "#2a3f5f",
             "gridcolor": "white",
             "linecolor": "white",
             "minorgridcolor": "white",
             "startlinecolor": "#2a3f5f"
            },
            "type": "carpet"
           }
          ],
          "choropleth": [
           {
            "colorbar": {
             "outlinewidth": 0,
             "ticks": ""
            },
            "type": "choropleth"
           }
          ],
          "contour": [
           {
            "colorbar": {
             "outlinewidth": 0,
             "ticks": ""
            },
            "colorscale": [
             [
              0,
              "#0d0887"
             ],
             [
              0.1111111111111111,
              "#46039f"
             ],
             [
              0.2222222222222222,
              "#7201a8"
             ],
             [
              0.3333333333333333,
              "#9c179e"
             ],
             [
              0.4444444444444444,
              "#bd3786"
             ],
             [
              0.5555555555555556,
              "#d8576b"
             ],
             [
              0.6666666666666666,
              "#ed7953"
             ],
             [
              0.7777777777777778,
              "#fb9f3a"
             ],
             [
              0.8888888888888888,
              "#fdca26"
             ],
             [
              1,
              "#f0f921"
             ]
            ],
            "type": "contour"
           }
          ],
          "contourcarpet": [
           {
            "colorbar": {
             "outlinewidth": 0,
             "ticks": ""
            },
            "type": "contourcarpet"
           }
          ],
          "heatmap": [
           {
            "colorbar": {
             "outlinewidth": 0,
             "ticks": ""
            },
            "colorscale": [
             [
              0,
              "#0d0887"
             ],
             [
              0.1111111111111111,
              "#46039f"
             ],
             [
              0.2222222222222222,
              "#7201a8"
             ],
             [
              0.3333333333333333,
              "#9c179e"
             ],
             [
              0.4444444444444444,
              "#bd3786"
             ],
             [
              0.5555555555555556,
              "#d8576b"
             ],
             [
              0.6666666666666666,
              "#ed7953"
             ],
             [
              0.7777777777777778,
              "#fb9f3a"
             ],
             [
              0.8888888888888888,
              "#fdca26"
             ],
             [
              1,
              "#f0f921"
             ]
            ],
            "type": "heatmap"
           }
          ],
          "heatmapgl": [
           {
            "colorbar": {
             "outlinewidth": 0,
             "ticks": ""
            },
            "colorscale": [
             [
              0,
              "#0d0887"
             ],
             [
              0.1111111111111111,
              "#46039f"
             ],
             [
              0.2222222222222222,
              "#7201a8"
             ],
             [
              0.3333333333333333,
              "#9c179e"
             ],
             [
              0.4444444444444444,
              "#bd3786"
             ],
             [
              0.5555555555555556,
              "#d8576b"
             ],
             [
              0.6666666666666666,
              "#ed7953"
             ],
             [
              0.7777777777777778,
              "#fb9f3a"
             ],
             [
              0.8888888888888888,
              "#fdca26"
             ],
             [
              1,
              "#f0f921"
             ]
            ],
            "type": "heatmapgl"
           }
          ],
          "histogram": [
           {
            "marker": {
             "pattern": {
              "fillmode": "overlay",
              "size": 10,
              "solidity": 0.2
             }
            },
            "type": "histogram"
           }
          ],
          "histogram2d": [
           {
            "colorbar": {
             "outlinewidth": 0,
             "ticks": ""
            },
            "colorscale": [
             [
              0,
              "#0d0887"
             ],
             [
              0.1111111111111111,
              "#46039f"
             ],
             [
              0.2222222222222222,
              "#7201a8"
             ],
             [
              0.3333333333333333,
              "#9c179e"
             ],
             [
              0.4444444444444444,
              "#bd3786"
             ],
             [
              0.5555555555555556,
              "#d8576b"
             ],
             [
              0.6666666666666666,
              "#ed7953"
             ],
             [
              0.7777777777777778,
              "#fb9f3a"
             ],
             [
              0.8888888888888888,
              "#fdca26"
             ],
             [
              1,
              "#f0f921"
             ]
            ],
            "type": "histogram2d"
           }
          ],
          "histogram2dcontour": [
           {
            "colorbar": {
             "outlinewidth": 0,
             "ticks": ""
            },
            "colorscale": [
             [
              0,
              "#0d0887"
             ],
             [
              0.1111111111111111,
              "#46039f"
             ],
             [
              0.2222222222222222,
              "#7201a8"
             ],
             [
              0.3333333333333333,
              "#9c179e"
             ],
             [
              0.4444444444444444,
              "#bd3786"
             ],
             [
              0.5555555555555556,
              "#d8576b"
             ],
             [
              0.6666666666666666,
              "#ed7953"
             ],
             [
              0.7777777777777778,
              "#fb9f3a"
             ],
             [
              0.8888888888888888,
              "#fdca26"
             ],
             [
              1,
              "#f0f921"
             ]
            ],
            "type": "histogram2dcontour"
           }
          ],
          "mesh3d": [
           {
            "colorbar": {
             "outlinewidth": 0,
             "ticks": ""
            },
            "type": "mesh3d"
           }
          ],
          "parcoords": [
           {
            "line": {
             "colorbar": {
              "outlinewidth": 0,
              "ticks": ""
             }
            },
            "type": "parcoords"
           }
          ],
          "pie": [
           {
            "automargin": true,
            "type": "pie"
           }
          ],
          "scatter": [
           {
            "fillpattern": {
             "fillmode": "overlay",
             "size": 10,
             "solidity": 0.2
            },
            "type": "scatter"
           }
          ],
          "scatter3d": [
           {
            "line": {
             "colorbar": {
              "outlinewidth": 0,
              "ticks": ""
             }
            },
            "marker": {
             "colorbar": {
              "outlinewidth": 0,
              "ticks": ""
             }
            },
            "type": "scatter3d"
           }
          ],
          "scattercarpet": [
           {
            "marker": {
             "colorbar": {
              "outlinewidth": 0,
              "ticks": ""
             }
            },
            "type": "scattercarpet"
           }
          ],
          "scattergeo": [
           {
            "marker": {
             "colorbar": {
              "outlinewidth": 0,
              "ticks": ""
             }
            },
            "type": "scattergeo"
           }
          ],
          "scattergl": [
           {
            "marker": {
             "colorbar": {
              "outlinewidth": 0,
              "ticks": ""
             }
            },
            "type": "scattergl"
           }
          ],
          "scattermapbox": [
           {
            "marker": {
             "colorbar": {
              "outlinewidth": 0,
              "ticks": ""
             }
            },
            "type": "scattermapbox"
           }
          ],
          "scatterpolar": [
           {
            "marker": {
             "colorbar": {
              "outlinewidth": 0,
              "ticks": ""
             }
            },
            "type": "scatterpolar"
           }
          ],
          "scatterpolargl": [
           {
            "marker": {
             "colorbar": {
              "outlinewidth": 0,
              "ticks": ""
             }
            },
            "type": "scatterpolargl"
           }
          ],
          "scatterternary": [
           {
            "marker": {
             "colorbar": {
              "outlinewidth": 0,
              "ticks": ""
             }
            },
            "type": "scatterternary"
           }
          ],
          "surface": [
           {
            "colorbar": {
             "outlinewidth": 0,
             "ticks": ""
            },
            "colorscale": [
             [
              0,
              "#0d0887"
             ],
             [
              0.1111111111111111,
              "#46039f"
             ],
             [
              0.2222222222222222,
              "#7201a8"
             ],
             [
              0.3333333333333333,
              "#9c179e"
             ],
             [
              0.4444444444444444,
              "#bd3786"
             ],
             [
              0.5555555555555556,
              "#d8576b"
             ],
             [
              0.6666666666666666,
              "#ed7953"
             ],
             [
              0.7777777777777778,
              "#fb9f3a"
             ],
             [
              0.8888888888888888,
              "#fdca26"
             ],
             [
              1,
              "#f0f921"
             ]
            ],
            "type": "surface"
           }
          ],
          "table": [
           {
            "cells": {
             "fill": {
              "color": "#EBF0F8"
             },
             "line": {
              "color": "white"
             }
            },
            "header": {
             "fill": {
              "color": "#C8D4E3"
             },
             "line": {
              "color": "white"
             }
            },
            "type": "table"
           }
          ]
         },
         "layout": {
          "annotationdefaults": {
           "arrowcolor": "#2a3f5f",
           "arrowhead": 0,
           "arrowwidth": 1
          },
          "autotypenumbers": "strict",
          "coloraxis": {
           "colorbar": {
            "outlinewidth": 0,
            "ticks": ""
           }
          },
          "colorscale": {
           "diverging": [
            [
             0,
             "#8e0152"
            ],
            [
             0.1,
             "#c51b7d"
            ],
            [
             0.2,
             "#de77ae"
            ],
            [
             0.3,
             "#f1b6da"
            ],
            [
             0.4,
             "#fde0ef"
            ],
            [
             0.5,
             "#f7f7f7"
            ],
            [
             0.6,
             "#e6f5d0"
            ],
            [
             0.7,
             "#b8e186"
            ],
            [
             0.8,
             "#7fbc41"
            ],
            [
             0.9,
             "#4d9221"
            ],
            [
             1,
             "#276419"
            ]
           ],
           "sequential": [
            [
             0,
             "#0d0887"
            ],
            [
             0.1111111111111111,
             "#46039f"
            ],
            [
             0.2222222222222222,
             "#7201a8"
            ],
            [
             0.3333333333333333,
             "#9c179e"
            ],
            [
             0.4444444444444444,
             "#bd3786"
            ],
            [
             0.5555555555555556,
             "#d8576b"
            ],
            [
             0.6666666666666666,
             "#ed7953"
            ],
            [
             0.7777777777777778,
             "#fb9f3a"
            ],
            [
             0.8888888888888888,
             "#fdca26"
            ],
            [
             1,
             "#f0f921"
            ]
           ],
           "sequentialminus": [
            [
             0,
             "#0d0887"
            ],
            [
             0.1111111111111111,
             "#46039f"
            ],
            [
             0.2222222222222222,
             "#7201a8"
            ],
            [
             0.3333333333333333,
             "#9c179e"
            ],
            [
             0.4444444444444444,
             "#bd3786"
            ],
            [
             0.5555555555555556,
             "#d8576b"
            ],
            [
             0.6666666666666666,
             "#ed7953"
            ],
            [
             0.7777777777777778,
             "#fb9f3a"
            ],
            [
             0.8888888888888888,
             "#fdca26"
            ],
            [
             1,
             "#f0f921"
            ]
           ]
          },
          "colorway": [
           "#636efa",
           "#EF553B",
           "#00cc96",
           "#ab63fa",
           "#FFA15A",
           "#19d3f3",
           "#FF6692",
           "#B6E880",
           "#FF97FF",
           "#FECB52"
          ],
          "font": {
           "color": "#2a3f5f"
          },
          "geo": {
           "bgcolor": "white",
           "lakecolor": "white",
           "landcolor": "#E5ECF6",
           "showlakes": true,
           "showland": true,
           "subunitcolor": "white"
          },
          "hoverlabel": {
           "align": "left"
          },
          "hovermode": "closest",
          "mapbox": {
           "style": "light"
          },
          "paper_bgcolor": "white",
          "plot_bgcolor": "#E5ECF6",
          "polar": {
           "angularaxis": {
            "gridcolor": "white",
            "linecolor": "white",
            "ticks": ""
           },
           "bgcolor": "#E5ECF6",
           "radialaxis": {
            "gridcolor": "white",
            "linecolor": "white",
            "ticks": ""
           }
          },
          "scene": {
           "xaxis": {
            "backgroundcolor": "#E5ECF6",
            "gridcolor": "white",
            "gridwidth": 2,
            "linecolor": "white",
            "showbackground": true,
            "ticks": "",
            "zerolinecolor": "white"
           },
           "yaxis": {
            "backgroundcolor": "#E5ECF6",
            "gridcolor": "white",
            "gridwidth": 2,
            "linecolor": "white",
            "showbackground": true,
            "ticks": "",
            "zerolinecolor": "white"
           },
           "zaxis": {
            "backgroundcolor": "#E5ECF6",
            "gridcolor": "white",
            "gridwidth": 2,
            "linecolor": "white",
            "showbackground": true,
            "ticks": "",
            "zerolinecolor": "white"
           }
          },
          "shapedefaults": {
           "line": {
            "color": "#2a3f5f"
           }
          },
          "ternary": {
           "aaxis": {
            "gridcolor": "white",
            "linecolor": "white",
            "ticks": ""
           },
           "baxis": {
            "gridcolor": "white",
            "linecolor": "white",
            "ticks": ""
           },
           "bgcolor": "#E5ECF6",
           "caxis": {
            "gridcolor": "white",
            "linecolor": "white",
            "ticks": ""
           }
          },
          "title": {
           "x": 0.05
          },
          "xaxis": {
           "automargin": true,
           "gridcolor": "white",
           "linecolor": "white",
           "ticks": "",
           "title": {
            "standoff": 15
           },
           "zerolinecolor": "white",
           "zerolinewidth": 2
          },
          "yaxis": {
           "automargin": true,
           "gridcolor": "white",
           "linecolor": "white",
           "ticks": "",
           "title": {
            "standoff": 15
           },
           "zerolinecolor": "white",
           "zerolinewidth": 2
          }
         }
        },
        "title": {
         "font": {
          "color": "darkblue",
          "family": "Times New Roman",
          "size": 20
         },
         "text": "Gemini Score Distribution - V5",
         "x": 0.5,
         "xanchor": "center",
         "y": 0.95,
         "yanchor": "top"
        },
        "width": 1200,
        "xaxis": {
         "title": {
          "text": "Personas"
         }
        },
        "yaxis": {
         "title": {
          "text": "Count of Responses"
         }
        }
       }
      }
     },
     "metadata": {},
     "output_type": "display_data"
    }
   ],
   "source": [
    "# Create the enhanced chart for v4 (you can do the same for v5 by changing the version)\n",
    "create_enhanced_gemini_chart(dataframes_persona, 'v5')"
   ]
  },
  {
   "cell_type": "code",
   "execution_count": null,
   "metadata": {},
   "outputs": [],
   "source": []
  },
  {
   "cell_type": "code",
   "execution_count": null,
   "metadata": {},
   "outputs": [],
   "source": []
  },
  {
   "cell_type": "code",
   "execution_count": null,
   "metadata": {},
   "outputs": [],
   "source": []
  },
  {
   "cell_type": "code",
   "execution_count": null,
   "metadata": {},
   "outputs": [],
   "source": []
  },
  {
   "cell_type": "code",
   "execution_count": null,
   "metadata": {},
   "outputs": [],
   "source": []
  },
  {
   "cell_type": "code",
   "execution_count": null,
   "metadata": {},
   "outputs": [],
   "source": []
  }
 ],
 "metadata": {
  "language_info": {
   "name": "python"
  }
 },
 "nbformat": 4,
 "nbformat_minor": 2
}
